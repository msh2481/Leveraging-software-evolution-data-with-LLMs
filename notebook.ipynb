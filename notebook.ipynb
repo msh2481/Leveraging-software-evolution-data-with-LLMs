{
  "cells": [
    {
      "cell_type": "markdown",
      "metadata": {
        "id": "GXp_ED9CRNvZ"
      },
      "source": [
        "# Loading datasets and model"
      ]
    },
    {
      "cell_type": "code",
      "execution_count": null,
      "metadata": {
        "id": "FdhF0nzOTbRK"
      },
      "outputs": [],
      "source": [
        "!pip install datasets transformers[torch] beartype jaxtyping"
      ]
    },
    {
      "cell_type": "code",
      "execution_count": 2,
      "metadata": {
        "id": "QvuTsTTJ4Wtu"
      },
      "outputs": [],
      "source": [
        "%load_ext autoreload\n",
        "%autoreload 2"
      ]
    },
    {
      "cell_type": "code",
      "execution_count": 7,
      "metadata": {
        "id": "lmFWKAvWSeyU"
      },
      "outputs": [],
      "source": [
        "import os\n",
        "import shutil\n",
        "import sys\n",
        "import json\n",
        "import matplotlib.pyplot as plt\n",
        "import numpy as np\n",
        "import torch as t\n",
        "import torch.nn as nn\n",
        "import torch.nn.functional as F\n",
        "from beartype import beartype as typed\n",
        "from beartype.door import die_if_unbearable as assert_type\n",
        "from numpy import ndarray as ND\n",
        "from torch import Tensor as TT\n",
        "from jaxtyping import Float, Int, Bool\n",
        "from typing import Mapping\n",
        "from tqdm import tqdm\n",
        "from datasets import load_dataset, DatasetDict\n",
        "from transformers import AutoTokenizer, AutoModelForCausalLM, Trainer, TrainingArguments"
      ]
    },
    {
      "cell_type": "code",
      "execution_count": null,
      "metadata": {
        "id": "ks5CV-f3S-HL"
      },
      "outputs": [],
      "source": [
        "train_data = load_dataset(\"bigcode/commitpackft\", \"python\")\n",
        "eval_data = load_dataset(\"bigcode/humanevalpack\")\n",
        "model_name = \"smallcloudai/Refact-1_6B-fim\"\n",
        "tokenizer = AutoTokenizer.from_pretrained(model_name)\n",
        "model = AutoModelForCausalLM.from_pretrained(model_name)"
      ]
    },
    {
      "cell_type": "markdown",
      "metadata": {
        "id": "26ndS6TZRYE8"
      },
      "source": [
        "# Exploring `CommitPackFt`"
      ]
    },
    {
      "cell_type": "markdown",
      "metadata": {
        "id": "R4iwTHQ6STz0"
      },
      "source": [
        "Here is an example of the fields included in the dataset."
      ]
    },
    {
      "cell_type": "code",
      "execution_count": 60,
      "metadata": {
        "colab": {
          "base_uri": "https://localhost:8080/"
        },
        "id": "0SGDL1BoReDf",
        "outputId": "1c660698-08d6-4add-ecd9-53f3c6e6c746"
      },
      "outputs": [
        {
          "name": "stdout",
          "output_type": "stream",
          "text": [
            "{\n",
            "  \"commit\": \"e905334869af72025592de586b81650cb3468b8a\",\n",
            "  \"old_file\": \"sentry/queue/client.py\",\n",
            "  \"new_file\": \"sentry/queue/client.py\",\n",
            "  \"old_contents\": \"\\\"\\\"\\\"\\nsentry.queue.client\\n~~~~~~~~~~~~~~~~~~~\\n\\n:copyright: (c) 2010 by the Sentry Team, see AUTHORS for more details.\\n:license: BSD, see LICENSE for more details.\\n\\\"\\\"\\\"\\nfrom kombu import BrokerConnection\\nfrom kombu.common import maybe_declare\\nfrom kombu.pools import producers\\n\\nfrom sentry.conf import settings\\nfrom sentry.queue.queues import task_queues, task_exchange\\n\\n\\nclass Broker(object):\\n    def __init__(self, config):\\n        self.connection = BrokerConnection(**config)\\n\\n    def delay(self, func, *args, **kwargs):\\n        payload = {\\n            \\\"func\\\": func,\\n            \\\"args\\\": args,\\n            \\\"kwargs\\\": kwargs,\\n        }\\n\\n        with producers[self.connection].acquire(block=False) as producer:\\n            for queue in task_queues:\\n                maybe_declare(queue, producer.channel)\\n            producer.publish(payload,\\n                exchange=task_exchange,\\n                serializer=\\\"pickle\\\",\\n                compression=\\\"bzip2\\\",\\n                queue='default',\\n                routing_key='default',\\n            )\\n\\nbroker = Broker(settings.QUEUE)\\n\",\n",
            "  \"new_contents\": \"\\\"\\\"\\\"\\nsentry.queue.client\\n~~~~~~~~~~~~~~~~~~~\\n\\n:copyright: (c) 2010 by the Sentry Team, see AUTHORS for more details.\\n:license: BSD, see LICENSE for more details.\\n\\\"\\\"\\\"\\nfrom kombu import BrokerConnection\\nfrom kombu.common import maybe_declare\\nfrom kombu.pools import producers\\n\\nfrom sentry.conf import settings\\nfrom sentry.queue.queues import task_queues, task_exchange\\n\\n\\nclass Broker(object):\\n    def __init__(self, config):\\n        self.connection = BrokerConnection(**config)\\n        with producers[self.connection].acquire(block=False) as producer:\\n            for queue in task_queues:\\n                maybe_declare(queue, producer.channel)\\n\\n    def delay(self, func, *args, **kwargs):\\n        payload = {\\n            \\\"func\\\": func,\\n            \\\"args\\\": args,\\n            \\\"kwargs\\\": kwargs,\\n        }\\n\\n        with producers[self.connection].acquire(block=False) as producer:\\n            producer.publish(payload,\\n                exchange=task_exchange,\\n                serializer=\\\"pickle\\\",\\n                compression=\\\"bzip2\\\",\\n                queue='default',\\n                routing_key='default',\\n            )\\n\\nbroker = Broker(settings.QUEUE)\\n\",\n",
            "  \"subject\": \"Declare queues when broker is instantiated\",\n",
            "  \"message\": \"Declare queues when broker is instantiated\\n\",\n",
            "  \"lang\": \"Python\",\n",
            "  \"license\": \"bsd-3-clause\",\n",
            "  \"repos\": \"imankulov/sentry,BuildingLink/sentry,zenefits/sentry,korealerts1/sentry,kevinastone/sentry,fotinakis/sentry,fuziontech/sentry,ngonzalvez/sentry,mvaled/sentry,Kronuz/django-sentry,ngonzalvez/sentry,looker/sentry,felixbuenemann/sentry,ngonzalvez/sentry,nicholasserra/sentry,camilonova/sentry,jokey2k/sentry,llonchj/sentry,fuziontech/sentry,llonchj/sentry,NickPresta/sentry,boneyao/sentry,SilentCircle/sentry,Kryz/sentry,JamesMura/sentry,SilentCircle/sentry,wujuguang/sentry,JTCunning/sentry,rdio/sentry,1tush/sentry,alexm92/sentry,imankulov/sentry,wujuguang/sentry,jokey2k/sentry,jean/sentry,chayapan/django-sentry,looker/sentry,beeftornado/sentry,chayapan/django-sentry,gg7/sentry,chayapan/django-sentry,JamesMura/sentry,1tush/sentry,zenefits/sentry,ewdurbin/sentry,NickPresta/sentry,alex/sentry,camilonova/sentry,kevinastone/sentry,pauloschilling/sentry,boneyao/sentry,korealerts1/sentry,rdio/sentry,daevaorn/sentry,drcapulet/sentry,TedaLIEz/sentry,Kronuz/django-sentry,wong2/sentry,felixbuenemann/sentry,1tush/sentry,hongliang5623/sentry,looker/sentry,BayanGroup/sentry,BuildingLink/sentry,BuildingLink/sentry,BayanGroup/sentry,kevinlondon/sentry,daevaorn/sentry,looker/sentry,llonchj/sentry,gencer/sentry,fotinakis/sentry,BuildingLink/sentry,korealerts1/sentry,felixbuenemann/sentry,boneyao/sentry,alex/sentry,fuziontech/sentry,nicholasserra/sentry,beeftornado/sentry,SilentCircle/sentry,ifduyue/sentry,gencer/sentry,jean/sentry,pauloschilling/sentry,camilonova/sentry,wong2/sentry,mvaled/sentry,JamesMura/sentry,ewdurbin/sentry,JackDanger/sentry,beeftornado/sentry,BuildingLink/sentry,argonemyth/sentry,zenefits/sentry,alex/sentry,gg7/sentry,jean/sentry,vperron/sentry,NickPresta/sentry,mvaled/sentry,JackDanger/sentry,songyi199111/sentry,vperron/sentry,daevaorn/sentry,ifduyue/sentry,kevinlondon/sentry,BayanGroup/sentry,JackDanger/sentry,kevinastone/sentry,Natim/sentry,zenefits/sentry,pauloschilling/sentry,Natim/sentry,argonemyth/sentry,alexm92/sentry,Natim/sentry,Kronuz/django-sentry,gg7/sentry,hongliang5623/sentry,looker/sentry,daevaorn/sentry,TedaLIEz/sentry,alexm92/sentry,vperron/sentry,ifduyue/sentry,mvaled/sentry,jean/sentry,JamesMura/sentry,hongliang5623/sentry,songyi199111/sentry,argonemyth/sentry,JTCunning/sentry,gencer/sentry,nicholasserra/sentry,ifduyue/sentry,Kryz/sentry,Kryz/sentry,beni55/sentry,TedaLIEz/sentry,kevinlondon/sentry,NickPresta/sentry,mvaled/sentry,drcapulet/sentry,jean/sentry,gencer/sentry,songyi199111/sentry,beni55/sentry,beni55/sentry,SilentCircle/sentry,mvaled/sentry,mitsuhiko/sentry,ewdurbin/sentry,wujuguang/sentry,fotinakis/sentry,drcapulet/sentry,fotinakis/sentry,wong2/sentry,ifduyue/sentry,zenefits/sentry,JTCunning/sentry,rdio/sentry,imankulov/sentry,jokey2k/sentry,gencer/sentry,rdio/sentry,JamesMura/sentry,mitsuhiko/sentry\"\n",
            "}\n"
          ]
        }
      ],
      "source": [
        "print(json.dumps(train_data[\"train\"][0], indent=2))\n"
      ]
    },
    {
      "cell_type": "markdown",
      "metadata": {
        "id": "QHhT7nUfWVVk"
      },
      "source": [
        "Some examples of messages and corresponding changes:"
      ]
    },
    {
      "cell_type": "code",
      "execution_count": 79,
      "metadata": {
        "colab": {
          "base_uri": "https://localhost:8080/",
          "height": 1000
        },
        "id": "2A4UpGEySYCf",
        "outputId": "4a6372ac-7ab5-4995-b853-af88420d7b53"
      },
      "outputs": [
        {
          "name": "stdout",
          "output_type": "stream",
          "text": [
            "Message: Declare queues when broker is instantiated\n",
            "\n",
            "Change:\n"
          ]
        },
        {
          "data": {
            "text/html": [
              "\n",
              "    <table class=\"diff\" id=\"difflib_chg_to7953__top\"\n",
              "           cellspacing=\"0\" cellpadding=\"0\" rules=\"groups\" >\n",
              "        <colgroup></colgroup> <colgroup></colgroup> <colgroup></colgroup>\n",
              "        <colgroup></colgroup> <colgroup></colgroup> <colgroup></colgroup>\n",
              "        \n",
              "        <tbody>\n",
              "            <tr><td class=\"diff_next\"><a href=\"#difflib_chg_to7953__0\">f</a></td><td class=\"diff_header\" id=\"from7953_1\">1</td><td nowrap=\"nowrap\">\"\"\"</td><td class=\"diff_next\"><a href=\"#difflib_chg_to7953__0\">f</a></td><td class=\"diff_header\" id=\"to7953_1\">1</td><td nowrap=\"nowrap\">\"\"\"</td></tr>\n",
              "            <tr><td class=\"diff_next\"></td><td class=\"diff_header\" id=\"from7953_2\">2</td><td nowrap=\"nowrap\">sentry.queue.client</td><td class=\"diff_next\"></td><td class=\"diff_header\" id=\"to7953_2\">2</td><td nowrap=\"nowrap\">sentry.queue.client</td></tr>\n",
              "            <tr><td class=\"diff_next\"></td><td class=\"diff_header\" id=\"from7953_3\">3</td><td nowrap=\"nowrap\">~~~~~~~~~~~~~~~~~~~</td><td class=\"diff_next\"></td><td class=\"diff_header\" id=\"to7953_3\">3</td><td nowrap=\"nowrap\">~~~~~~~~~~~~~~~~~~~</td></tr>\n",
              "            <tr><td class=\"diff_next\"></td><td class=\"diff_header\" id=\"from7953_4\">4</td><td nowrap=\"nowrap\"></td><td class=\"diff_next\"></td><td class=\"diff_header\" id=\"to7953_4\">4</td><td nowrap=\"nowrap\"></td></tr>\n",
              "            <tr><td class=\"diff_next\"></td><td class=\"diff_header\" id=\"from7953_5\">5</td><td nowrap=\"nowrap\">:copyright:&nbsp;(c)&nbsp;2010&nbsp;by&nbsp;the&nbsp;Sentry&nbsp;Team,&nbsp;see&nbsp;AUTHORS&nbsp;for&nbsp;more&nbsp;details.</td><td class=\"diff_next\"></td><td class=\"diff_header\" id=\"to7953_5\">5</td><td nowrap=\"nowrap\">:copyright:&nbsp;(c)&nbsp;2010&nbsp;by&nbsp;the&nbsp;Sentry&nbsp;Team,&nbsp;see&nbsp;AUTHORS&nbsp;for&nbsp;more&nbsp;details.</td></tr>\n",
              "            <tr><td class=\"diff_next\"></td><td class=\"diff_header\" id=\"from7953_6\">6</td><td nowrap=\"nowrap\">:license:&nbsp;BSD,&nbsp;see&nbsp;LICENSE&nbsp;for&nbsp;more&nbsp;details.</td><td class=\"diff_next\"></td><td class=\"diff_header\" id=\"to7953_6\">6</td><td nowrap=\"nowrap\">:license:&nbsp;BSD,&nbsp;see&nbsp;LICENSE&nbsp;for&nbsp;more&nbsp;details.</td></tr>\n",
              "            <tr><td class=\"diff_next\"></td><td class=\"diff_header\" id=\"from7953_7\">7</td><td nowrap=\"nowrap\">\"\"\"</td><td class=\"diff_next\"></td><td class=\"diff_header\" id=\"to7953_7\">7</td><td nowrap=\"nowrap\">\"\"\"</td></tr>\n",
              "            <tr><td class=\"diff_next\"></td><td class=\"diff_header\" id=\"from7953_8\">8</td><td nowrap=\"nowrap\">from&nbsp;kombu&nbsp;import&nbsp;BrokerConnection</td><td class=\"diff_next\"></td><td class=\"diff_header\" id=\"to7953_8\">8</td><td nowrap=\"nowrap\">from&nbsp;kombu&nbsp;import&nbsp;BrokerConnection</td></tr>\n",
              "            <tr><td class=\"diff_next\"></td><td class=\"diff_header\" id=\"from7953_9\">9</td><td nowrap=\"nowrap\">from&nbsp;kombu.common&nbsp;import&nbsp;maybe_declare</td><td class=\"diff_next\"></td><td class=\"diff_header\" id=\"to7953_9\">9</td><td nowrap=\"nowrap\">from&nbsp;kombu.common&nbsp;import&nbsp;maybe_declare</td></tr>\n",
              "            <tr><td class=\"diff_next\"></td><td class=\"diff_header\" id=\"from7953_10\">10</td><td nowrap=\"nowrap\">from&nbsp;kombu.pools&nbsp;import&nbsp;producers</td><td class=\"diff_next\"></td><td class=\"diff_header\" id=\"to7953_10\">10</td><td nowrap=\"nowrap\">from&nbsp;kombu.pools&nbsp;import&nbsp;producers</td></tr>\n",
              "            <tr><td class=\"diff_next\"></td><td class=\"diff_header\" id=\"from7953_11\">11</td><td nowrap=\"nowrap\"></td><td class=\"diff_next\"></td><td class=\"diff_header\" id=\"to7953_11\">11</td><td nowrap=\"nowrap\"></td></tr>\n",
              "            <tr><td class=\"diff_next\"></td><td class=\"diff_header\" id=\"from7953_12\">12</td><td nowrap=\"nowrap\">from&nbsp;sentry.conf&nbsp;import&nbsp;settings</td><td class=\"diff_next\"></td><td class=\"diff_header\" id=\"to7953_12\">12</td><td nowrap=\"nowrap\">from&nbsp;sentry.conf&nbsp;import&nbsp;settings</td></tr>\n",
              "            <tr><td class=\"diff_next\"></td><td class=\"diff_header\" id=\"from7953_13\">13</td><td nowrap=\"nowrap\">from&nbsp;sentry.queue.queues&nbsp;import&nbsp;task_queues,&nbsp;task_exchange</td><td class=\"diff_next\"></td><td class=\"diff_header\" id=\"to7953_13\">13</td><td nowrap=\"nowrap\">from&nbsp;sentry.queue.queues&nbsp;import&nbsp;task_queues,&nbsp;task_exchange</td></tr>\n",
              "            <tr><td class=\"diff_next\" id=\"difflib_chg_to7953__0\"></td><td class=\"diff_header\" id=\"from7953_14\">14</td><td nowrap=\"nowrap\"></td><td class=\"diff_next\"></td><td class=\"diff_header\" id=\"to7953_14\">14</td><td nowrap=\"nowrap\"></td></tr>\n",
              "            <tr><td class=\"diff_next\"></td><td class=\"diff_header\" id=\"from7953_15\">15</td><td nowrap=\"nowrap\"></td><td class=\"diff_next\"></td><td class=\"diff_header\" id=\"to7953_15\">15</td><td nowrap=\"nowrap\"></td></tr>\n",
              "            <tr><td class=\"diff_next\"></td><td class=\"diff_header\" id=\"from7953_16\">16</td><td nowrap=\"nowrap\">class&nbsp;Broker(object):</td><td class=\"diff_next\"></td><td class=\"diff_header\" id=\"to7953_16\">16</td><td nowrap=\"nowrap\">class&nbsp;Broker(object):</td></tr>\n",
              "            <tr><td class=\"diff_next\"></td><td class=\"diff_header\" id=\"from7953_17\">17</td><td nowrap=\"nowrap\">&nbsp;&nbsp;&nbsp;&nbsp;def&nbsp;__init__(self,&nbsp;config):</td><td class=\"diff_next\"></td><td class=\"diff_header\" id=\"to7953_17\">17</td><td nowrap=\"nowrap\">&nbsp;&nbsp;&nbsp;&nbsp;def&nbsp;__init__(self,&nbsp;config):</td></tr>\n",
              "            <tr><td class=\"diff_next\"></td><td class=\"diff_header\" id=\"from7953_18\">18</td><td nowrap=\"nowrap\">&nbsp;&nbsp;&nbsp;&nbsp;&nbsp;&nbsp;&nbsp;&nbsp;self.connection&nbsp;=&nbsp;BrokerConnection(**config)</td><td class=\"diff_next\"></td><td class=\"diff_header\" id=\"to7953_18\">18</td><td nowrap=\"nowrap\">&nbsp;&nbsp;&nbsp;&nbsp;&nbsp;&nbsp;&nbsp;&nbsp;self.connection&nbsp;=&nbsp;BrokerConnection(**config)</td></tr>\n",
              "            <tr><td class=\"diff_next\"><a href=\"#difflib_chg_to7953__1\">n</a></td><td class=\"diff_header\"></td><td nowrap=\"nowrap\"></td><td class=\"diff_next\"><a href=\"#difflib_chg_to7953__1\">n</a></td><td class=\"diff_header\" id=\"to7953_19\">19</td><td nowrap=\"nowrap\"><span class=\"diff_add\">&nbsp;&nbsp;&nbsp;&nbsp;&nbsp;&nbsp;&nbsp;&nbsp;with&nbsp;producers[self.connection].acquire(block=False)&nbsp;as&nbsp;producer:</span></td></tr>\n",
              "            <tr><td class=\"diff_next\"></td><td class=\"diff_header\"></td><td nowrap=\"nowrap\"></td><td class=\"diff_next\"></td><td class=\"diff_header\" id=\"to7953_20\">20</td><td nowrap=\"nowrap\"><span class=\"diff_add\">&nbsp;&nbsp;&nbsp;&nbsp;&nbsp;&nbsp;&nbsp;&nbsp;&nbsp;&nbsp;&nbsp;&nbsp;for&nbsp;queue&nbsp;in&nbsp;task_queues:</span></td></tr>\n",
              "            <tr><td class=\"diff_next\"></td><td class=\"diff_header\"></td><td nowrap=\"nowrap\"></td><td class=\"diff_next\"></td><td class=\"diff_header\" id=\"to7953_21\">21</td><td nowrap=\"nowrap\"><span class=\"diff_add\">&nbsp;&nbsp;&nbsp;&nbsp;&nbsp;&nbsp;&nbsp;&nbsp;&nbsp;&nbsp;&nbsp;&nbsp;&nbsp;&nbsp;&nbsp;&nbsp;maybe_declare(queue,&nbsp;producer.channel)</span></td></tr>\n",
              "            <tr><td class=\"diff_next\"></td><td class=\"diff_header\" id=\"from7953_19\">19</td><td nowrap=\"nowrap\"></td><td class=\"diff_next\"></td><td class=\"diff_header\" id=\"to7953_22\">22</td><td nowrap=\"nowrap\"></td></tr>\n",
              "            <tr><td class=\"diff_next\"></td><td class=\"diff_header\" id=\"from7953_20\">20</td><td nowrap=\"nowrap\">&nbsp;&nbsp;&nbsp;&nbsp;def&nbsp;delay(self,&nbsp;func,&nbsp;*args,&nbsp;**kwargs):</td><td class=\"diff_next\"></td><td class=\"diff_header\" id=\"to7953_23\">23</td><td nowrap=\"nowrap\">&nbsp;&nbsp;&nbsp;&nbsp;def&nbsp;delay(self,&nbsp;func,&nbsp;*args,&nbsp;**kwargs):</td></tr>\n",
              "            <tr><td class=\"diff_next\"></td><td class=\"diff_header\" id=\"from7953_21\">21</td><td nowrap=\"nowrap\">&nbsp;&nbsp;&nbsp;&nbsp;&nbsp;&nbsp;&nbsp;&nbsp;payload&nbsp;=&nbsp;{</td><td class=\"diff_next\"></td><td class=\"diff_header\" id=\"to7953_24\">24</td><td nowrap=\"nowrap\">&nbsp;&nbsp;&nbsp;&nbsp;&nbsp;&nbsp;&nbsp;&nbsp;payload&nbsp;=&nbsp;{</td></tr>\n",
              "            <tr><td class=\"diff_next\"></td><td class=\"diff_header\" id=\"from7953_22\">22</td><td nowrap=\"nowrap\">&nbsp;&nbsp;&nbsp;&nbsp;&nbsp;&nbsp;&nbsp;&nbsp;&nbsp;&nbsp;&nbsp;&nbsp;\"func\":&nbsp;func,</td><td class=\"diff_next\"></td><td class=\"diff_header\" id=\"to7953_25\">25</td><td nowrap=\"nowrap\">&nbsp;&nbsp;&nbsp;&nbsp;&nbsp;&nbsp;&nbsp;&nbsp;&nbsp;&nbsp;&nbsp;&nbsp;\"func\":&nbsp;func,</td></tr>\n",
              "            <tr><td class=\"diff_next\" id=\"difflib_chg_to7953__1\"></td><td class=\"diff_header\" id=\"from7953_23\">23</td><td nowrap=\"nowrap\">&nbsp;&nbsp;&nbsp;&nbsp;&nbsp;&nbsp;&nbsp;&nbsp;&nbsp;&nbsp;&nbsp;&nbsp;\"args\":&nbsp;args,</td><td class=\"diff_next\"></td><td class=\"diff_header\" id=\"to7953_26\">26</td><td nowrap=\"nowrap\">&nbsp;&nbsp;&nbsp;&nbsp;&nbsp;&nbsp;&nbsp;&nbsp;&nbsp;&nbsp;&nbsp;&nbsp;\"args\":&nbsp;args,</td></tr>\n",
              "            <tr><td class=\"diff_next\"></td><td class=\"diff_header\" id=\"from7953_24\">24</td><td nowrap=\"nowrap\">&nbsp;&nbsp;&nbsp;&nbsp;&nbsp;&nbsp;&nbsp;&nbsp;&nbsp;&nbsp;&nbsp;&nbsp;\"kwargs\":&nbsp;kwargs,</td><td class=\"diff_next\"></td><td class=\"diff_header\" id=\"to7953_27\">27</td><td nowrap=\"nowrap\">&nbsp;&nbsp;&nbsp;&nbsp;&nbsp;&nbsp;&nbsp;&nbsp;&nbsp;&nbsp;&nbsp;&nbsp;\"kwargs\":&nbsp;kwargs,</td></tr>\n",
              "            <tr><td class=\"diff_next\"></td><td class=\"diff_header\" id=\"from7953_25\">25</td><td nowrap=\"nowrap\">&nbsp;&nbsp;&nbsp;&nbsp;&nbsp;&nbsp;&nbsp;&nbsp;}</td><td class=\"diff_next\"></td><td class=\"diff_header\" id=\"to7953_28\">28</td><td nowrap=\"nowrap\">&nbsp;&nbsp;&nbsp;&nbsp;&nbsp;&nbsp;&nbsp;&nbsp;}</td></tr>\n",
              "            <tr><td class=\"diff_next\"></td><td class=\"diff_header\" id=\"from7953_26\">26</td><td nowrap=\"nowrap\"></td><td class=\"diff_next\"></td><td class=\"diff_header\" id=\"to7953_29\">29</td><td nowrap=\"nowrap\"></td></tr>\n",
              "            <tr><td class=\"diff_next\"></td><td class=\"diff_header\" id=\"from7953_27\">27</td><td nowrap=\"nowrap\">&nbsp;&nbsp;&nbsp;&nbsp;&nbsp;&nbsp;&nbsp;&nbsp;with&nbsp;producers[self.connection].acquire(block=False)&nbsp;as&nbsp;producer:</td><td class=\"diff_next\"></td><td class=\"diff_header\" id=\"to7953_30\">30</td><td nowrap=\"nowrap\">&nbsp;&nbsp;&nbsp;&nbsp;&nbsp;&nbsp;&nbsp;&nbsp;with&nbsp;producers[self.connection].acquire(block=False)&nbsp;as&nbsp;producer:</td></tr>\n",
              "            <tr><td class=\"diff_next\"><a href=\"#difflib_chg_to7953__top\">t</a></td><td class=\"diff_header\" id=\"from7953_28\">28</td><td nowrap=\"nowrap\"><span class=\"diff_sub\">&nbsp;&nbsp;&nbsp;&nbsp;&nbsp;&nbsp;&nbsp;&nbsp;&nbsp;&nbsp;&nbsp;&nbsp;for&nbsp;queue&nbsp;in&nbsp;task_queues:</span></td><td class=\"diff_next\"><a href=\"#difflib_chg_to7953__top\">t</a></td><td class=\"diff_header\"></td><td nowrap=\"nowrap\"></td></tr>\n",
              "            <tr><td class=\"diff_next\"></td><td class=\"diff_header\" id=\"from7953_29\">29</td><td nowrap=\"nowrap\"><span class=\"diff_sub\">&nbsp;&nbsp;&nbsp;&nbsp;&nbsp;&nbsp;&nbsp;&nbsp;&nbsp;&nbsp;&nbsp;&nbsp;&nbsp;&nbsp;&nbsp;&nbsp;maybe_declare(queue,&nbsp;producer.channel)</span></td><td class=\"diff_next\"></td><td class=\"diff_header\"></td><td nowrap=\"nowrap\"></td></tr>\n",
              "            <tr><td class=\"diff_next\"></td><td class=\"diff_header\" id=\"from7953_30\">30</td><td nowrap=\"nowrap\">&nbsp;&nbsp;&nbsp;&nbsp;&nbsp;&nbsp;&nbsp;&nbsp;&nbsp;&nbsp;&nbsp;&nbsp;producer.publish(payload,</td><td class=\"diff_next\"></td><td class=\"diff_header\" id=\"to7953_31\">31</td><td nowrap=\"nowrap\">&nbsp;&nbsp;&nbsp;&nbsp;&nbsp;&nbsp;&nbsp;&nbsp;&nbsp;&nbsp;&nbsp;&nbsp;producer.publish(payload,</td></tr>\n",
              "            <tr><td class=\"diff_next\"></td><td class=\"diff_header\" id=\"from7953_31\">31</td><td nowrap=\"nowrap\">&nbsp;&nbsp;&nbsp;&nbsp;&nbsp;&nbsp;&nbsp;&nbsp;&nbsp;&nbsp;&nbsp;&nbsp;&nbsp;&nbsp;&nbsp;&nbsp;exchange=task_exchange,</td><td class=\"diff_next\"></td><td class=\"diff_header\" id=\"to7953_32\">32</td><td nowrap=\"nowrap\">&nbsp;&nbsp;&nbsp;&nbsp;&nbsp;&nbsp;&nbsp;&nbsp;&nbsp;&nbsp;&nbsp;&nbsp;&nbsp;&nbsp;&nbsp;&nbsp;exchange=task_exchange,</td></tr>\n",
              "            <tr><td class=\"diff_next\"></td><td class=\"diff_header\" id=\"from7953_32\">32</td><td nowrap=\"nowrap\">&nbsp;&nbsp;&nbsp;&nbsp;&nbsp;&nbsp;&nbsp;&nbsp;&nbsp;&nbsp;&nbsp;&nbsp;&nbsp;&nbsp;&nbsp;&nbsp;serializer=\"pickle\",</td><td class=\"diff_next\"></td><td class=\"diff_header\" id=\"to7953_33\">33</td><td nowrap=\"nowrap\">&nbsp;&nbsp;&nbsp;&nbsp;&nbsp;&nbsp;&nbsp;&nbsp;&nbsp;&nbsp;&nbsp;&nbsp;&nbsp;&nbsp;&nbsp;&nbsp;serializer=\"pickle\",</td></tr>\n",
              "            <tr><td class=\"diff_next\"></td><td class=\"diff_header\" id=\"from7953_33\">33</td><td nowrap=\"nowrap\">&nbsp;&nbsp;&nbsp;&nbsp;&nbsp;&nbsp;&nbsp;&nbsp;&nbsp;&nbsp;&nbsp;&nbsp;&nbsp;&nbsp;&nbsp;&nbsp;compression=\"bzip2\",</td><td class=\"diff_next\"></td><td class=\"diff_header\" id=\"to7953_34\">34</td><td nowrap=\"nowrap\">&nbsp;&nbsp;&nbsp;&nbsp;&nbsp;&nbsp;&nbsp;&nbsp;&nbsp;&nbsp;&nbsp;&nbsp;&nbsp;&nbsp;&nbsp;&nbsp;compression=\"bzip2\",</td></tr>\n",
              "            <tr><td class=\"diff_next\"></td><td class=\"diff_header\" id=\"from7953_34\">34</td><td nowrap=\"nowrap\">&nbsp;&nbsp;&nbsp;&nbsp;&nbsp;&nbsp;&nbsp;&nbsp;&nbsp;&nbsp;&nbsp;&nbsp;&nbsp;&nbsp;&nbsp;&nbsp;queue='default',</td><td class=\"diff_next\"></td><td class=\"diff_header\" id=\"to7953_35\">35</td><td nowrap=\"nowrap\">&nbsp;&nbsp;&nbsp;&nbsp;&nbsp;&nbsp;&nbsp;&nbsp;&nbsp;&nbsp;&nbsp;&nbsp;&nbsp;&nbsp;&nbsp;&nbsp;queue='default',</td></tr>\n",
              "            <tr><td class=\"diff_next\"></td><td class=\"diff_header\" id=\"from7953_35\">35</td><td nowrap=\"nowrap\">&nbsp;&nbsp;&nbsp;&nbsp;&nbsp;&nbsp;&nbsp;&nbsp;&nbsp;&nbsp;&nbsp;&nbsp;&nbsp;&nbsp;&nbsp;&nbsp;routing_key='default',</td><td class=\"diff_next\"></td><td class=\"diff_header\" id=\"to7953_36\">36</td><td nowrap=\"nowrap\">&nbsp;&nbsp;&nbsp;&nbsp;&nbsp;&nbsp;&nbsp;&nbsp;&nbsp;&nbsp;&nbsp;&nbsp;&nbsp;&nbsp;&nbsp;&nbsp;routing_key='default',</td></tr>\n",
              "            <tr><td class=\"diff_next\"></td><td class=\"diff_header\" id=\"from7953_36\">36</td><td nowrap=\"nowrap\">&nbsp;&nbsp;&nbsp;&nbsp;&nbsp;&nbsp;&nbsp;&nbsp;&nbsp;&nbsp;&nbsp;&nbsp;)</td><td class=\"diff_next\"></td><td class=\"diff_header\" id=\"to7953_37\">37</td><td nowrap=\"nowrap\">&nbsp;&nbsp;&nbsp;&nbsp;&nbsp;&nbsp;&nbsp;&nbsp;&nbsp;&nbsp;&nbsp;&nbsp;)</td></tr>\n",
              "            <tr><td class=\"diff_next\"></td><td class=\"diff_header\" id=\"from7953_37\">37</td><td nowrap=\"nowrap\"></td><td class=\"diff_next\"></td><td class=\"diff_header\" id=\"to7953_38\">38</td><td nowrap=\"nowrap\"></td></tr>\n",
              "            <tr><td class=\"diff_next\"></td><td class=\"diff_header\" id=\"from7953_38\">38</td><td nowrap=\"nowrap\">broker&nbsp;=&nbsp;Broker(settings.QUEUE)</td><td class=\"diff_next\"></td><td class=\"diff_header\" id=\"to7953_39\">39</td><td nowrap=\"nowrap\">broker&nbsp;=&nbsp;Broker(settings.QUEUE)</td></tr>\n",
              "            <tr><td class=\"diff_next\"></td><td class=\"diff_header\" id=\"from7953_39\">39</td><td nowrap=\"nowrap\"></td><td class=\"diff_next\"></td><td class=\"diff_header\" id=\"to7953_40\">40</td><td nowrap=\"nowrap\"></td></tr>\n",
              "        </tbody>\n",
              "    </table>"
            ],
            "text/plain": [
              "<IPython.core.display.HTML object>"
            ]
          },
          "metadata": {},
          "output_type": "display_data"
        },
        {
          "name": "stdout",
          "output_type": "stream",
          "text": [
            "Message: Revert \"Fix openweather unit tests\"\n",
            "\n",
            "This reverts commit 36e100e649f0a337228a6d7375358d23afd544ff.\n",
            "\n",
            "Open Weather Map has reverted back to their old api or something like that...\n",
            "\n",
            "Change:\n"
          ]
        },
        {
          "data": {
            "text/html": [
              "\n",
              "    <table class=\"diff\" id=\"difflib_chg_to7954__top\"\n",
              "           cellspacing=\"0\" cellpadding=\"0\" rules=\"groups\" >\n",
              "        <colgroup></colgroup> <colgroup></colgroup> <colgroup></colgroup>\n",
              "        <colgroup></colgroup> <colgroup></colgroup> <colgroup></colgroup>\n",
              "        \n",
              "        <tbody>\n",
              "            <tr><td class=\"diff_next\"><a href=\"#difflib_chg_to7954__0\">f</a></td><td class=\"diff_header\" id=\"from7954_1\">1</td><td nowrap=\"nowrap\">#&nbsp;-*-&nbsp;coding:&nbsp;utf-8&nbsp;-*-</td><td class=\"diff_next\"><a href=\"#difflib_chg_to7954__0\">f</a></td><td class=\"diff_header\" id=\"to7954_1\">1</td><td nowrap=\"nowrap\">#&nbsp;-*-&nbsp;coding:&nbsp;utf-8&nbsp;-*-</td></tr>\n",
              "            <tr><td class=\"diff_next\"></td><td class=\"diff_header\" id=\"from7954_2\">2</td><td nowrap=\"nowrap\">import&nbsp;bot_mock</td><td class=\"diff_next\"></td><td class=\"diff_header\" id=\"to7954_2\">2</td><td nowrap=\"nowrap\">import&nbsp;bot_mock</td></tr>\n",
              "            <tr><td class=\"diff_next\"></td><td class=\"diff_header\" id=\"from7954_3\">3</td><td nowrap=\"nowrap\">from&nbsp;pyfibot.modules&nbsp;import&nbsp;module_openweather</td><td class=\"diff_next\"></td><td class=\"diff_header\" id=\"to7954_3\">3</td><td nowrap=\"nowrap\">from&nbsp;pyfibot.modules&nbsp;import&nbsp;module_openweather</td></tr>\n",
              "            <tr><td class=\"diff_next\"></td><td class=\"diff_header\" id=\"from7954_4\">4</td><td nowrap=\"nowrap\">from&nbsp;utils&nbsp;import&nbsp;check_re</td><td class=\"diff_next\"></td><td class=\"diff_header\" id=\"to7954_4\">4</td><td nowrap=\"nowrap\">from&nbsp;utils&nbsp;import&nbsp;check_re</td></tr>\n",
              "            <tr><td class=\"diff_next\"></td><td class=\"diff_header\" id=\"from7954_5\">5</td><td nowrap=\"nowrap\"></td><td class=\"diff_next\"></td><td class=\"diff_header\" id=\"to7954_5\">5</td><td nowrap=\"nowrap\"></td></tr>\n",
              "            <tr><td class=\"diff_next\"></td><td class=\"diff_header\" id=\"from7954_6\">6</td><td nowrap=\"nowrap\"></td><td class=\"diff_next\"></td><td class=\"diff_header\" id=\"to7954_6\">6</td><td nowrap=\"nowrap\"></td></tr>\n",
              "            <tr><td class=\"diff_next\"></td><td class=\"diff_header\" id=\"from7954_7\">7</td><td nowrap=\"nowrap\">bot&nbsp;=&nbsp;bot_mock.BotMock()</td><td class=\"diff_next\"></td><td class=\"diff_header\" id=\"to7954_7\">7</td><td nowrap=\"nowrap\">bot&nbsp;=&nbsp;bot_mock.BotMock()</td></tr>\n",
              "            <tr><td class=\"diff_next\"></td><td class=\"diff_header\" id=\"from7954_8\">8</td><td nowrap=\"nowrap\"></td><td class=\"diff_next\"></td><td class=\"diff_header\" id=\"to7954_8\">8</td><td nowrap=\"nowrap\"></td></tr>\n",
              "            <tr><td class=\"diff_next\"></td><td class=\"diff_header\" id=\"from7954_9\">9</td><td nowrap=\"nowrap\"></td><td class=\"diff_next\"></td><td class=\"diff_header\" id=\"to7954_9\">9</td><td nowrap=\"nowrap\"></td></tr>\n",
              "            <tr><td class=\"diff_next\"></td><td class=\"diff_header\" id=\"from7954_10\">10</td><td nowrap=\"nowrap\">def&nbsp;test_weather():</td><td class=\"diff_next\"></td><td class=\"diff_header\" id=\"to7954_10\">10</td><td nowrap=\"nowrap\">def&nbsp;test_weather():</td></tr>\n",
              "            <tr><td class=\"diff_next\" id=\"difflib_chg_to7954__0\"></td><td class=\"diff_header\" id=\"from7954_11\">11</td><td nowrap=\"nowrap\">&nbsp;&nbsp;&nbsp;&nbsp;regex&nbsp;=&nbsp;u'Lappeenranta,&nbsp;FI:&nbsp;Temperature:&nbsp;\\d+.\\d\\xb0C,&nbsp;feels&nbsp;like:&nbsp;\\d+.\\d\\xb0C,&nbsp;wind:&nbsp;\\d+.\\d&nbsp;m/s,&nbsp;humidity:&nbsp;\\d+%,&nbsp;pressure:&nbsp;\\d+&nbsp;hPa,&nbsp;cloudiness:&nbsp;\\d+%'</td><td class=\"diff_next\"></td><td class=\"diff_header\" id=\"to7954_11\">11</td><td nowrap=\"nowrap\">&nbsp;&nbsp;&nbsp;&nbsp;regex&nbsp;=&nbsp;u'Lappeenranta,&nbsp;FI:&nbsp;Temperature:&nbsp;\\d+.\\d\\xb0C,&nbsp;feels&nbsp;like:&nbsp;\\d+.\\d\\xb0C,&nbsp;wind:&nbsp;\\d+.\\d&nbsp;m/s,&nbsp;humidity:&nbsp;\\d+%,&nbsp;pressure:&nbsp;\\d+&nbsp;hPa,&nbsp;cloudiness:&nbsp;\\d+%'</td></tr>\n",
              "            <tr><td class=\"diff_next\"></td><td class=\"diff_header\" id=\"from7954_12\">12</td><td nowrap=\"nowrap\">&nbsp;&nbsp;&nbsp;&nbsp;check_re(regex,&nbsp;module_openweather.command_weather(bot,&nbsp;None,&nbsp;\"#channel\",&nbsp;'lappeenranta')[1])</td><td class=\"diff_next\"></td><td class=\"diff_header\" id=\"to7954_12\">12</td><td nowrap=\"nowrap\">&nbsp;&nbsp;&nbsp;&nbsp;check_re(regex,&nbsp;module_openweather.command_weather(bot,&nbsp;None,&nbsp;\"#channel\",&nbsp;'lappeenranta')[1])</td></tr>\n",
              "            <tr><td class=\"diff_next\"></td><td class=\"diff_header\" id=\"from7954_13\">13</td><td nowrap=\"nowrap\"></td><td class=\"diff_next\"></td><td class=\"diff_header\" id=\"to7954_13\">13</td><td nowrap=\"nowrap\"></td></tr>\n",
              "            <tr><td class=\"diff_next\"></td><td class=\"diff_header\" id=\"from7954_14\">14</td><td nowrap=\"nowrap\"></td><td class=\"diff_next\"></td><td class=\"diff_header\" id=\"to7954_14\">14</td><td nowrap=\"nowrap\"></td></tr>\n",
              "            <tr><td class=\"diff_next\"></td><td class=\"diff_header\" id=\"from7954_15\">15</td><td nowrap=\"nowrap\">def&nbsp;test_forecast():</td><td class=\"diff_next\"></td><td class=\"diff_header\" id=\"to7954_15\">15</td><td nowrap=\"nowrap\">def&nbsp;test_forecast():</td></tr>\n",
              "            <tr><td class=\"diff_next\"><a href=\"#difflib_chg_to7954__top\">t</a></td><td class=\"diff_header\" id=\"from7954_16\">16</td><td nowrap=\"nowrap\">&nbsp;&nbsp;&nbsp;&nbsp;regex&nbsp;=&nbsp;u'Lappeenranta,&nbsp;F<span class=\"diff_chg\">inland</span>:&nbsp;tomorrow:&nbsp;\\d+.\\d-\\d+.\\d&nbsp;\\xb0C&nbsp;\\(.*?\\),&nbsp;in&nbsp;2&nbsp;days:&nbsp;\\d+.\\d-\\d+.\\d&nbsp;\\xb0C&nbsp;\\(.*?\\),&nbsp;in&nbsp;3&nbsp;days:&nbsp;\\d+.\\d-\\d+.\\d&nbsp;\\xb0C&nbsp;\\(.*?\\)'</td><td class=\"diff_next\"><a href=\"#difflib_chg_to7954__top\">t</a></td><td class=\"diff_header\" id=\"to7954_16\">16</td><td nowrap=\"nowrap\">&nbsp;&nbsp;&nbsp;&nbsp;regex&nbsp;=&nbsp;u'Lappeenranta,&nbsp;F<span class=\"diff_chg\">I</span>:&nbsp;tomorrow:&nbsp;\\d+.\\d-\\d+.\\d&nbsp;\\xb0C&nbsp;\\(.*?\\),&nbsp;in&nbsp;2&nbsp;days:&nbsp;\\d+.\\d-\\d+.\\d&nbsp;\\xb0C&nbsp;\\(.*?\\),&nbsp;in&nbsp;3&nbsp;days:&nbsp;\\d+.\\d-\\d+.\\d&nbsp;\\xb0C&nbsp;\\(.*?\\)'</td></tr>\n",
              "            <tr><td class=\"diff_next\"></td><td class=\"diff_header\" id=\"from7954_17\">17</td><td nowrap=\"nowrap\">&nbsp;&nbsp;&nbsp;&nbsp;check_re(regex,&nbsp;module_openweather.command_forecast(bot,&nbsp;None,&nbsp;\"#channel\",&nbsp;'lappeenranta')[1])</td><td class=\"diff_next\"></td><td class=\"diff_header\" id=\"to7954_17\">17</td><td nowrap=\"nowrap\">&nbsp;&nbsp;&nbsp;&nbsp;check_re(regex,&nbsp;module_openweather.command_forecast(bot,&nbsp;None,&nbsp;\"#channel\",&nbsp;'lappeenranta')[1])</td></tr>\n",
              "            <tr><td class=\"diff_next\"></td><td class=\"diff_header\" id=\"from7954_18\">18</td><td nowrap=\"nowrap\"></td><td class=\"diff_next\"></td><td class=\"diff_header\" id=\"to7954_18\">18</td><td nowrap=\"nowrap\"></td></tr>\n",
              "        </tbody>\n",
              "    </table>"
            ],
            "text/plain": [
              "<IPython.core.display.HTML object>"
            ]
          },
          "metadata": {},
          "output_type": "display_data"
        },
        {
          "name": "stdout",
          "output_type": "stream",
          "text": [
            "Message: Fix % only showing 0 or 100%, everything between goes to 0%.\n",
            "\n",
            "\n",
            "Autoconverted from SVN (revision:1548)\n",
            "\n",
            "Change:\n"
          ]
        },
        {
          "data": {
            "text/html": [
              "\n",
              "    <table class=\"diff\" id=\"difflib_chg_to7955__top\"\n",
              "           cellspacing=\"0\" cellpadding=\"0\" rules=\"groups\" >\n",
              "        <colgroup></colgroup> <colgroup></colgroup> <colgroup></colgroup>\n",
              "        <colgroup></colgroup> <colgroup></colgroup> <colgroup></colgroup>\n",
              "        \n",
              "        <tbody>\n",
              "            <tr><td class=\"diff_next\"><a href=\"#difflib_chg_to7955__0\">f</a></td><td class=\"diff_header\" id=\"from7955_1\">1</td><td nowrap=\"nowrap\">from&nbsp;django.template&nbsp;import&nbsp;Node,&nbsp;Library</td><td class=\"diff_next\"><a href=\"#difflib_chg_to7955__0\">f</a></td><td class=\"diff_header\" id=\"to7955_1\">1</td><td nowrap=\"nowrap\">from&nbsp;django.template&nbsp;import&nbsp;Node,&nbsp;Library</td></tr>\n",
              "            <tr><td class=\"diff_next\"></td><td class=\"diff_header\" id=\"from7955_2\">2</td><td nowrap=\"nowrap\"></td><td class=\"diff_next\"></td><td class=\"diff_header\" id=\"to7955_2\">2</td><td nowrap=\"nowrap\"></td></tr>\n",
              "            <tr><td class=\"diff_next\" id=\"difflib_chg_to7955__0\"></td><td class=\"diff_header\" id=\"from7955_3\">3</td><td nowrap=\"nowrap\">register&nbsp;=&nbsp;Library()</td><td class=\"diff_next\"></td><td class=\"diff_header\" id=\"to7955_3\">3</td><td nowrap=\"nowrap\">register&nbsp;=&nbsp;Library()</td></tr>\n",
              "            <tr><td class=\"diff_next\"></td><td class=\"diff_header\" id=\"from7955_4\">4</td><td nowrap=\"nowrap\"></td><td class=\"diff_next\"></td><td class=\"diff_header\" id=\"to7955_4\">4</td><td nowrap=\"nowrap\"></td></tr>\n",
              "            <tr><td class=\"diff_next\"></td><td class=\"diff_header\" id=\"from7955_5\">5</td><td nowrap=\"nowrap\">@register.filter('percentage')</td><td class=\"diff_next\"></td><td class=\"diff_header\" id=\"to7955_5\">5</td><td nowrap=\"nowrap\">@register.filter('percentage')</td></tr>\n",
              "            <tr><td class=\"diff_next\"></td><td class=\"diff_header\" id=\"from7955_6\">6</td><td nowrap=\"nowrap\">def&nbsp;percentage(value,&nbsp;total):</td><td class=\"diff_next\"></td><td class=\"diff_header\" id=\"to7955_6\">6</td><td nowrap=\"nowrap\">def&nbsp;percentage(value,&nbsp;total):</td></tr>\n",
              "            <tr><td class=\"diff_next\"></td><td class=\"diff_header\" id=\"from7955_7\">7</td><td nowrap=\"nowrap\">&nbsp;&nbsp;try:</td><td class=\"diff_next\"></td><td class=\"diff_header\" id=\"to7955_7\">7</td><td nowrap=\"nowrap\">&nbsp;&nbsp;try:</td></tr>\n",
              "            <tr><td class=\"diff_next\"><a href=\"#difflib_chg_to7955__top\">t</a></td><td class=\"diff_header\" id=\"from7955_8\">8</td><td nowrap=\"nowrap\">&nbsp;&nbsp;&nbsp;&nbsp;percentage&nbsp;=&nbsp;<span class=\"diff_chg\">in</span>t(value)&nbsp;/&nbsp;<span class=\"diff_chg\">in</span>t(total)&nbsp;*&nbsp;100</td><td class=\"diff_next\"><a href=\"#difflib_chg_to7955__top\">t</a></td><td class=\"diff_header\" id=\"to7955_8\">8</td><td nowrap=\"nowrap\">&nbsp;&nbsp;&nbsp;&nbsp;percentage&nbsp;=&nbsp;<span class=\"diff_chg\">floa</span>t(value)&nbsp;/&nbsp;<span class=\"diff_chg\">floa</span>t(total)&nbsp;*&nbsp;100</td></tr>\n",
              "            <tr><td class=\"diff_next\"></td><td class=\"diff_header\" id=\"from7955_9\">9</td><td nowrap=\"nowrap\">&nbsp;&nbsp;except&nbsp;ZeroDivisionError:</td><td class=\"diff_next\"></td><td class=\"diff_header\" id=\"to7955_9\">9</td><td nowrap=\"nowrap\">&nbsp;&nbsp;except&nbsp;ZeroDivisionError:</td></tr>\n",
              "            <tr><td class=\"diff_next\"></td><td class=\"diff_header\" id=\"from7955_10\">10</td><td nowrap=\"nowrap\">&nbsp;&nbsp;&nbsp;&nbsp;percentage&nbsp;=&nbsp;0</td><td class=\"diff_next\"></td><td class=\"diff_header\" id=\"to7955_10\">10</td><td nowrap=\"nowrap\">&nbsp;&nbsp;&nbsp;&nbsp;percentage&nbsp;=&nbsp;0</td></tr>\n",
              "            <tr><td class=\"diff_next\"></td><td class=\"diff_header\" id=\"from7955_11\">11</td><td nowrap=\"nowrap\">&nbsp;&nbsp;return&nbsp;'&lt;abbr&nbsp;title=\"%s/%s\"&gt;%s%%&lt;/abbr&gt;'&nbsp;%&nbsp;(value,&nbsp;total,&nbsp;percentage)</td><td class=\"diff_next\"></td><td class=\"diff_header\" id=\"to7955_11\">11</td><td nowrap=\"nowrap\">&nbsp;&nbsp;return&nbsp;'&lt;abbr&nbsp;title=\"%s/%s\"&gt;%s%%&lt;/abbr&gt;'&nbsp;%&nbsp;(value,&nbsp;total,&nbsp;percentage)</td></tr>\n",
              "            <tr><td class=\"diff_next\"></td><td class=\"diff_header\" id=\"from7955_12\">12</td><td nowrap=\"nowrap\"></td><td class=\"diff_next\"></td><td class=\"diff_header\" id=\"to7955_12\">12</td><td nowrap=\"nowrap\"></td></tr>\n",
              "        </tbody>\n",
              "    </table>"
            ],
            "text/plain": [
              "<IPython.core.display.HTML object>"
            ]
          },
          "metadata": {},
          "output_type": "display_data"
        },
        {
          "name": "stdout",
          "output_type": "stream",
          "text": [
            "Message: Remove \"validation\" from RejectionException docstring\n",
            "\n",
            "Change:\n"
          ]
        },
        {
          "data": {
            "text/html": [
              "\n",
              "    <table class=\"diff\" id=\"difflib_chg_to7956__top\"\n",
              "           cellspacing=\"0\" cellpadding=\"0\" rules=\"groups\" >\n",
              "        <colgroup></colgroup> <colgroup></colgroup> <colgroup></colgroup>\n",
              "        <colgroup></colgroup> <colgroup></colgroup> <colgroup></colgroup>\n",
              "        \n",
              "        <tbody>\n",
              "            <tr><td class=\"diff_next\"><a href=\"#difflib_chg_to7956__0\">f</a></td><td class=\"diff_header\" id=\"from7956_1\">1</td><td nowrap=\"nowrap\">#!/usr/bin/env&nbsp;python3</td><td class=\"diff_next\"><a href=\"#difflib_chg_to7956__0\">f</a></td><td class=\"diff_header\" id=\"to7956_1\">1</td><td nowrap=\"nowrap\">#!/usr/bin/env&nbsp;python3</td></tr>\n",
              "            <tr><td class=\"diff_next\"></td><td class=\"diff_header\" id=\"from7956_2\">2</td><td nowrap=\"nowrap\">\"\"\"Exception&nbsp;classes&nbsp;shared&nbsp;by&nbsp;all&nbsp;automata.\"\"\"</td><td class=\"diff_next\"></td><td class=\"diff_header\" id=\"to7956_2\">2</td><td nowrap=\"nowrap\">\"\"\"Exception&nbsp;classes&nbsp;shared&nbsp;by&nbsp;all&nbsp;automata.\"\"\"</td></tr>\n",
              "            <tr><td class=\"diff_next\"></td><td class=\"diff_header\" id=\"from7956_3\">3</td><td nowrap=\"nowrap\"></td><td class=\"diff_next\"></td><td class=\"diff_header\" id=\"to7956_3\">3</td><td nowrap=\"nowrap\"></td></tr>\n",
              "            <tr><td class=\"diff_next\"></td><td class=\"diff_header\" id=\"from7956_4\">4</td><td nowrap=\"nowrap\"></td><td class=\"diff_next\"></td><td class=\"diff_header\" id=\"to7956_4\">4</td><td nowrap=\"nowrap\"></td></tr>\n",
              "            <tr><td class=\"diff_next\"></td><td class=\"diff_header\" id=\"from7956_5\">5</td><td nowrap=\"nowrap\">class&nbsp;AutomatonException(Exception):</td><td class=\"diff_next\"></td><td class=\"diff_header\" id=\"to7956_5\">5</td><td nowrap=\"nowrap\">class&nbsp;AutomatonException(Exception):</td></tr>\n",
              "            <tr><td class=\"diff_next\"></td><td class=\"diff_header\" id=\"from7956_6\">6</td><td nowrap=\"nowrap\">&nbsp;&nbsp;&nbsp;&nbsp;\"\"\"The&nbsp;base&nbsp;class&nbsp;for&nbsp;all&nbsp;automaton-related&nbsp;errors.\"\"\"</td><td class=\"diff_next\"></td><td class=\"diff_header\" id=\"to7956_6\">6</td><td nowrap=\"nowrap\">&nbsp;&nbsp;&nbsp;&nbsp;\"\"\"The&nbsp;base&nbsp;class&nbsp;for&nbsp;all&nbsp;automaton-related&nbsp;errors.\"\"\"</td></tr>\n",
              "            <tr><td class=\"diff_next\"></td><td class=\"diff_header\" id=\"from7956_7\">7</td><td nowrap=\"nowrap\"></td><td class=\"diff_next\"></td><td class=\"diff_header\" id=\"to7956_7\">7</td><td nowrap=\"nowrap\"></td></tr>\n",
              "            <tr><td class=\"diff_next\"></td><td class=\"diff_header\" id=\"from7956_8\">8</td><td nowrap=\"nowrap\">&nbsp;&nbsp;&nbsp;&nbsp;pass</td><td class=\"diff_next\"></td><td class=\"diff_header\" id=\"to7956_8\">8</td><td nowrap=\"nowrap\">&nbsp;&nbsp;&nbsp;&nbsp;pass</td></tr>\n",
              "            <tr><td class=\"diff_next\"></td><td class=\"diff_header\" id=\"from7956_9\">9</td><td nowrap=\"nowrap\"></td><td class=\"diff_next\"></td><td class=\"diff_header\" id=\"to7956_9\">9</td><td nowrap=\"nowrap\"></td></tr>\n",
              "            <tr><td class=\"diff_next\"></td><td class=\"diff_header\" id=\"from7956_10\">10</td><td nowrap=\"nowrap\"></td><td class=\"diff_next\"></td><td class=\"diff_header\" id=\"to7956_10\">10</td><td nowrap=\"nowrap\"></td></tr>\n",
              "            <tr><td class=\"diff_next\"></td><td class=\"diff_header\" id=\"from7956_11\">11</td><td nowrap=\"nowrap\">class&nbsp;InvalidStateError(AutomatonException):</td><td class=\"diff_next\"></td><td class=\"diff_header\" id=\"to7956_11\">11</td><td nowrap=\"nowrap\">class&nbsp;InvalidStateError(AutomatonException):</td></tr>\n",
              "            <tr><td class=\"diff_next\"></td><td class=\"diff_header\" id=\"from7956_12\">12</td><td nowrap=\"nowrap\">&nbsp;&nbsp;&nbsp;&nbsp;\"\"\"A&nbsp;state&nbsp;is&nbsp;not&nbsp;a&nbsp;valid&nbsp;state&nbsp;for&nbsp;this&nbsp;automaton.\"\"\"</td><td class=\"diff_next\"></td><td class=\"diff_header\" id=\"to7956_12\">12</td><td nowrap=\"nowrap\">&nbsp;&nbsp;&nbsp;&nbsp;\"\"\"A&nbsp;state&nbsp;is&nbsp;not&nbsp;a&nbsp;valid&nbsp;state&nbsp;for&nbsp;this&nbsp;automaton.\"\"\"</td></tr>\n",
              "            <tr><td class=\"diff_next\"></td><td class=\"diff_header\" id=\"from7956_13\">13</td><td nowrap=\"nowrap\"></td><td class=\"diff_next\"></td><td class=\"diff_header\" id=\"to7956_13\">13</td><td nowrap=\"nowrap\"></td></tr>\n",
              "            <tr><td class=\"diff_next\"></td><td class=\"diff_header\" id=\"from7956_14\">14</td><td nowrap=\"nowrap\">&nbsp;&nbsp;&nbsp;&nbsp;pass</td><td class=\"diff_next\"></td><td class=\"diff_header\" id=\"to7956_14\">14</td><td nowrap=\"nowrap\">&nbsp;&nbsp;&nbsp;&nbsp;pass</td></tr>\n",
              "            <tr><td class=\"diff_next\"></td><td class=\"diff_header\" id=\"from7956_15\">15</td><td nowrap=\"nowrap\"></td><td class=\"diff_next\"></td><td class=\"diff_header\" id=\"to7956_15\">15</td><td nowrap=\"nowrap\"></td></tr>\n",
              "            <tr><td class=\"diff_next\"></td><td class=\"diff_header\" id=\"from7956_16\">16</td><td nowrap=\"nowrap\"></td><td class=\"diff_next\"></td><td class=\"diff_header\" id=\"to7956_16\">16</td><td nowrap=\"nowrap\"></td></tr>\n",
              "            <tr><td class=\"diff_next\"></td><td class=\"diff_header\" id=\"from7956_17\">17</td><td nowrap=\"nowrap\">class&nbsp;InvalidSymbolError(AutomatonException):</td><td class=\"diff_next\"></td><td class=\"diff_header\" id=\"to7956_17\">17</td><td nowrap=\"nowrap\">class&nbsp;InvalidSymbolError(AutomatonException):</td></tr>\n",
              "            <tr><td class=\"diff_next\"></td><td class=\"diff_header\" id=\"from7956_18\">18</td><td nowrap=\"nowrap\">&nbsp;&nbsp;&nbsp;&nbsp;\"\"\"A&nbsp;symbol&nbsp;is&nbsp;not&nbsp;a&nbsp;valid&nbsp;symbol&nbsp;for&nbsp;this&nbsp;automaton.\"\"\"</td><td class=\"diff_next\"></td><td class=\"diff_header\" id=\"to7956_18\">18</td><td nowrap=\"nowrap\">&nbsp;&nbsp;&nbsp;&nbsp;\"\"\"A&nbsp;symbol&nbsp;is&nbsp;not&nbsp;a&nbsp;valid&nbsp;symbol&nbsp;for&nbsp;this&nbsp;automaton.\"\"\"</td></tr>\n",
              "            <tr><td class=\"diff_next\"></td><td class=\"diff_header\" id=\"from7956_19\">19</td><td nowrap=\"nowrap\"></td><td class=\"diff_next\"></td><td class=\"diff_header\" id=\"to7956_19\">19</td><td nowrap=\"nowrap\"></td></tr>\n",
              "            <tr><td class=\"diff_next\"></td><td class=\"diff_header\" id=\"from7956_20\">20</td><td nowrap=\"nowrap\">&nbsp;&nbsp;&nbsp;&nbsp;pass</td><td class=\"diff_next\"></td><td class=\"diff_header\" id=\"to7956_20\">20</td><td nowrap=\"nowrap\">&nbsp;&nbsp;&nbsp;&nbsp;pass</td></tr>\n",
              "            <tr><td class=\"diff_next\"></td><td class=\"diff_header\" id=\"from7956_21\">21</td><td nowrap=\"nowrap\"></td><td class=\"diff_next\"></td><td class=\"diff_header\" id=\"to7956_21\">21</td><td nowrap=\"nowrap\"></td></tr>\n",
              "            <tr><td class=\"diff_next\"></td><td class=\"diff_header\" id=\"from7956_22\">22</td><td nowrap=\"nowrap\"></td><td class=\"diff_next\"></td><td class=\"diff_header\" id=\"to7956_22\">22</td><td nowrap=\"nowrap\"></td></tr>\n",
              "            <tr><td class=\"diff_next\"></td><td class=\"diff_header\" id=\"from7956_23\">23</td><td nowrap=\"nowrap\">class&nbsp;MissingStateError(AutomatonException):</td><td class=\"diff_next\"></td><td class=\"diff_header\" id=\"to7956_23\">23</td><td nowrap=\"nowrap\">class&nbsp;MissingStateError(AutomatonException):</td></tr>\n",
              "            <tr><td class=\"diff_next\"></td><td class=\"diff_header\" id=\"from7956_24\">24</td><td nowrap=\"nowrap\">&nbsp;&nbsp;&nbsp;&nbsp;\"\"\"A&nbsp;state&nbsp;is&nbsp;missing&nbsp;from&nbsp;the&nbsp;automaton&nbsp;definition.\"\"\"</td><td class=\"diff_next\"></td><td class=\"diff_header\" id=\"to7956_24\">24</td><td nowrap=\"nowrap\">&nbsp;&nbsp;&nbsp;&nbsp;\"\"\"A&nbsp;state&nbsp;is&nbsp;missing&nbsp;from&nbsp;the&nbsp;automaton&nbsp;definition.\"\"\"</td></tr>\n",
              "            <tr><td class=\"diff_next\"></td><td class=\"diff_header\" id=\"from7956_25\">25</td><td nowrap=\"nowrap\"></td><td class=\"diff_next\"></td><td class=\"diff_header\" id=\"to7956_25\">25</td><td nowrap=\"nowrap\"></td></tr>\n",
              "            <tr><td class=\"diff_next\"></td><td class=\"diff_header\" id=\"from7956_26\">26</td><td nowrap=\"nowrap\">&nbsp;&nbsp;&nbsp;&nbsp;pass</td><td class=\"diff_next\"></td><td class=\"diff_header\" id=\"to7956_26\">26</td><td nowrap=\"nowrap\">&nbsp;&nbsp;&nbsp;&nbsp;pass</td></tr>\n",
              "            <tr><td class=\"diff_next\"></td><td class=\"diff_header\" id=\"from7956_27\">27</td><td nowrap=\"nowrap\"></td><td class=\"diff_next\"></td><td class=\"diff_header\" id=\"to7956_27\">27</td><td nowrap=\"nowrap\"></td></tr>\n",
              "            <tr><td class=\"diff_next\"></td><td class=\"diff_header\" id=\"from7956_28\">28</td><td nowrap=\"nowrap\"></td><td class=\"diff_next\"></td><td class=\"diff_header\" id=\"to7956_28\">28</td><td nowrap=\"nowrap\"></td></tr>\n",
              "            <tr><td class=\"diff_next\"></td><td class=\"diff_header\" id=\"from7956_29\">29</td><td nowrap=\"nowrap\">class&nbsp;MissingSymbolError(AutomatonException):</td><td class=\"diff_next\"></td><td class=\"diff_header\" id=\"to7956_29\">29</td><td nowrap=\"nowrap\">class&nbsp;MissingSymbolError(AutomatonException):</td></tr>\n",
              "            <tr><td class=\"diff_next\"></td><td class=\"diff_header\" id=\"from7956_30\">30</td><td nowrap=\"nowrap\">&nbsp;&nbsp;&nbsp;&nbsp;\"\"\"A&nbsp;symbol&nbsp;is&nbsp;missing&nbsp;from&nbsp;the&nbsp;automaton&nbsp;definition.\"\"\"</td><td class=\"diff_next\"></td><td class=\"diff_header\" id=\"to7956_30\">30</td><td nowrap=\"nowrap\">&nbsp;&nbsp;&nbsp;&nbsp;\"\"\"A&nbsp;symbol&nbsp;is&nbsp;missing&nbsp;from&nbsp;the&nbsp;automaton&nbsp;definition.\"\"\"</td></tr>\n",
              "            <tr><td class=\"diff_next\"></td><td class=\"diff_header\" id=\"from7956_31\">31</td><td nowrap=\"nowrap\"></td><td class=\"diff_next\"></td><td class=\"diff_header\" id=\"to7956_31\">31</td><td nowrap=\"nowrap\"></td></tr>\n",
              "            <tr><td class=\"diff_next\"></td><td class=\"diff_header\" id=\"from7956_32\">32</td><td nowrap=\"nowrap\">&nbsp;&nbsp;&nbsp;&nbsp;pass</td><td class=\"diff_next\"></td><td class=\"diff_header\" id=\"to7956_32\">32</td><td nowrap=\"nowrap\">&nbsp;&nbsp;&nbsp;&nbsp;pass</td></tr>\n",
              "            <tr><td class=\"diff_next\"></td><td class=\"diff_header\" id=\"from7956_33\">33</td><td nowrap=\"nowrap\"></td><td class=\"diff_next\"></td><td class=\"diff_header\" id=\"to7956_33\">33</td><td nowrap=\"nowrap\"></td></tr>\n",
              "            <tr><td class=\"diff_next\"></td><td class=\"diff_header\" id=\"from7956_34\">34</td><td nowrap=\"nowrap\"></td><td class=\"diff_next\"></td><td class=\"diff_header\" id=\"to7956_34\">34</td><td nowrap=\"nowrap\"></td></tr>\n",
              "            <tr><td class=\"diff_next\"></td><td class=\"diff_header\" id=\"from7956_35\">35</td><td nowrap=\"nowrap\">class&nbsp;InitialStateError(AutomatonException):</td><td class=\"diff_next\"></td><td class=\"diff_header\" id=\"to7956_35\">35</td><td nowrap=\"nowrap\">class&nbsp;InitialStateError(AutomatonException):</td></tr>\n",
              "            <tr><td class=\"diff_next\"></td><td class=\"diff_header\" id=\"from7956_36\">36</td><td nowrap=\"nowrap\">&nbsp;&nbsp;&nbsp;&nbsp;\"\"\"The&nbsp;initial&nbsp;state&nbsp;fails&nbsp;to&nbsp;meet&nbsp;some&nbsp;required&nbsp;condition.\"\"\"</td><td class=\"diff_next\"></td><td class=\"diff_header\" id=\"to7956_36\">36</td><td nowrap=\"nowrap\">&nbsp;&nbsp;&nbsp;&nbsp;\"\"\"The&nbsp;initial&nbsp;state&nbsp;fails&nbsp;to&nbsp;meet&nbsp;some&nbsp;required&nbsp;condition.\"\"\"</td></tr>\n",
              "            <tr><td class=\"diff_next\"></td><td class=\"diff_header\" id=\"from7956_37\">37</td><td nowrap=\"nowrap\"></td><td class=\"diff_next\"></td><td class=\"diff_header\" id=\"to7956_37\">37</td><td nowrap=\"nowrap\"></td></tr>\n",
              "            <tr><td class=\"diff_next\"></td><td class=\"diff_header\" id=\"from7956_38\">38</td><td nowrap=\"nowrap\">&nbsp;&nbsp;&nbsp;&nbsp;pass</td><td class=\"diff_next\"></td><td class=\"diff_header\" id=\"to7956_38\">38</td><td nowrap=\"nowrap\">&nbsp;&nbsp;&nbsp;&nbsp;pass</td></tr>\n",
              "            <tr><td class=\"diff_next\"></td><td class=\"diff_header\" id=\"from7956_39\">39</td><td nowrap=\"nowrap\"></td><td class=\"diff_next\"></td><td class=\"diff_header\" id=\"to7956_39\">39</td><td nowrap=\"nowrap\"></td></tr>\n",
              "            <tr><td class=\"diff_next\"></td><td class=\"diff_header\" id=\"from7956_40\">40</td><td nowrap=\"nowrap\"></td><td class=\"diff_next\"></td><td class=\"diff_header\" id=\"to7956_40\">40</td><td nowrap=\"nowrap\"></td></tr>\n",
              "            <tr><td class=\"diff_next\"></td><td class=\"diff_header\" id=\"from7956_41\">41</td><td nowrap=\"nowrap\">class&nbsp;FinalStateError(AutomatonException):</td><td class=\"diff_next\"></td><td class=\"diff_header\" id=\"to7956_41\">41</td><td nowrap=\"nowrap\">class&nbsp;FinalStateError(AutomatonException):</td></tr>\n",
              "            <tr><td class=\"diff_next\"></td><td class=\"diff_header\" id=\"from7956_42\">42</td><td nowrap=\"nowrap\">&nbsp;&nbsp;&nbsp;&nbsp;\"\"\"A&nbsp;final&nbsp;state&nbsp;fails&nbsp;to&nbsp;meet&nbsp;some&nbsp;required&nbsp;condition.\"\"\"</td><td class=\"diff_next\"></td><td class=\"diff_header\" id=\"to7956_42\">42</td><td nowrap=\"nowrap\">&nbsp;&nbsp;&nbsp;&nbsp;\"\"\"A&nbsp;final&nbsp;state&nbsp;fails&nbsp;to&nbsp;meet&nbsp;some&nbsp;required&nbsp;condition.\"\"\"</td></tr>\n",
              "            <tr><td class=\"diff_next\" id=\"difflib_chg_to7956__0\"></td><td class=\"diff_header\" id=\"from7956_43\">43</td><td nowrap=\"nowrap\"></td><td class=\"diff_next\"></td><td class=\"diff_header\" id=\"to7956_43\">43</td><td nowrap=\"nowrap\"></td></tr>\n",
              "            <tr><td class=\"diff_next\"></td><td class=\"diff_header\" id=\"from7956_44\">44</td><td nowrap=\"nowrap\">&nbsp;&nbsp;&nbsp;&nbsp;pass</td><td class=\"diff_next\"></td><td class=\"diff_header\" id=\"to7956_44\">44</td><td nowrap=\"nowrap\">&nbsp;&nbsp;&nbsp;&nbsp;pass</td></tr>\n",
              "            <tr><td class=\"diff_next\"></td><td class=\"diff_header\" id=\"from7956_45\">45</td><td nowrap=\"nowrap\"></td><td class=\"diff_next\"></td><td class=\"diff_header\" id=\"to7956_45\">45</td><td nowrap=\"nowrap\"></td></tr>\n",
              "            <tr><td class=\"diff_next\"></td><td class=\"diff_header\" id=\"from7956_46\">46</td><td nowrap=\"nowrap\"></td><td class=\"diff_next\"></td><td class=\"diff_header\" id=\"to7956_46\">46</td><td nowrap=\"nowrap\"></td></tr>\n",
              "            <tr><td class=\"diff_next\"></td><td class=\"diff_header\" id=\"from7956_47\">47</td><td nowrap=\"nowrap\">class&nbsp;RejectionException(AutomatonException):</td><td class=\"diff_next\"></td><td class=\"diff_header\" id=\"to7956_47\">47</td><td nowrap=\"nowrap\">class&nbsp;RejectionException(AutomatonException):</td></tr>\n",
              "            <tr><td class=\"diff_next\"><a href=\"#difflib_chg_to7956__top\">t</a></td><td class=\"diff_header\" id=\"from7956_48\">48</td><td nowrap=\"nowrap\">&nbsp;&nbsp;&nbsp;&nbsp;\"\"\"The&nbsp;input&nbsp;was&nbsp;rejected&nbsp;by&nbsp;the&nbsp;automaton<span class=\"diff_sub\">&nbsp;after&nbsp;validation</span>.\"\"\"</td><td class=\"diff_next\"><a href=\"#difflib_chg_to7956__top\">t</a></td><td class=\"diff_header\" id=\"to7956_48\">48</td><td nowrap=\"nowrap\">&nbsp;&nbsp;&nbsp;&nbsp;\"\"\"The&nbsp;input&nbsp;was&nbsp;rejected&nbsp;by&nbsp;the&nbsp;automaton.\"\"\"</td></tr>\n",
              "            <tr><td class=\"diff_next\"></td><td class=\"diff_header\" id=\"from7956_49\">49</td><td nowrap=\"nowrap\"></td><td class=\"diff_next\"></td><td class=\"diff_header\" id=\"to7956_49\">49</td><td nowrap=\"nowrap\"></td></tr>\n",
              "            <tr><td class=\"diff_next\"></td><td class=\"diff_header\" id=\"from7956_50\">50</td><td nowrap=\"nowrap\">&nbsp;&nbsp;&nbsp;&nbsp;pass</td><td class=\"diff_next\"></td><td class=\"diff_header\" id=\"to7956_50\">50</td><td nowrap=\"nowrap\">&nbsp;&nbsp;&nbsp;&nbsp;pass</td></tr>\n",
              "            <tr><td class=\"diff_next\"></td><td class=\"diff_header\" id=\"from7956_51\">51</td><td nowrap=\"nowrap\"></td><td class=\"diff_next\"></td><td class=\"diff_header\" id=\"to7956_51\">51</td><td nowrap=\"nowrap\"></td></tr>\n",
              "        </tbody>\n",
              "    </table>"
            ],
            "text/plain": [
              "<IPython.core.display.HTML object>"
            ]
          },
          "metadata": {},
          "output_type": "display_data"
        },
        {
          "name": "stdout",
          "output_type": "stream",
          "text": [
            "Message: Fix implied_group, it still refers to the old module name\n",
            "\n",
            "Change:\n"
          ]
        },
        {
          "data": {
            "text/html": [
              "\n",
              "    <table class=\"diff\" id=\"difflib_chg_to7957__top\"\n",
              "           cellspacing=\"0\" cellpadding=\"0\" rules=\"groups\" >\n",
              "        <colgroup></colgroup> <colgroup></colgroup> <colgroup></colgroup>\n",
              "        <colgroup></colgroup> <colgroup></colgroup> <colgroup></colgroup>\n",
              "        \n",
              "        <tbody>\n",
              "            <tr><td class=\"diff_next\"><a href=\"#difflib_chg_to7957__0\">f</a></td><td class=\"diff_header\" id=\"from7957_1\">1</td><td nowrap=\"nowrap\">#&nbsp;-*-&nbsp;coding:&nbsp;utf-8&nbsp;-*-</td><td class=\"diff_next\"><a href=\"#difflib_chg_to7957__0\">f</a></td><td class=\"diff_header\" id=\"to7957_1\">1</td><td nowrap=\"nowrap\">#&nbsp;-*-&nbsp;coding:&nbsp;utf-8&nbsp;-*-</td></tr>\n",
              "            <tr><td class=\"diff_next\"></td><td class=\"diff_header\" id=\"from7957_2\">2</td><td nowrap=\"nowrap\">##############################################################################</td><td class=\"diff_next\"></td><td class=\"diff_header\" id=\"to7957_2\">2</td><td nowrap=\"nowrap\">##############################################################################</td></tr>\n",
              "            <tr><td class=\"diff_next\"></td><td class=\"diff_header\" id=\"from7957_3\">3</td><td nowrap=\"nowrap\">#</td><td class=\"diff_next\"></td><td class=\"diff_header\" id=\"to7957_3\">3</td><td nowrap=\"nowrap\">#</td></tr>\n",
              "            <tr><td class=\"diff_next\"></td><td class=\"diff_header\" id=\"from7957_4\">4</td><td nowrap=\"nowrap\">#&nbsp;&nbsp;&nbsp;&nbsp;Copyright&nbsp;(C)&nbsp;2015&nbsp;Agile&nbsp;Business&nbsp;Group&nbsp;sagl</td><td class=\"diff_next\"></td><td class=\"diff_header\" id=\"to7957_4\">4</td><td nowrap=\"nowrap\">#&nbsp;&nbsp;&nbsp;&nbsp;Copyright&nbsp;(C)&nbsp;2015&nbsp;Agile&nbsp;Business&nbsp;Group&nbsp;sagl</td></tr>\n",
              "            <tr><td class=\"diff_next\"></td><td class=\"diff_header\" id=\"from7957_5\">5</td><td nowrap=\"nowrap\">#&nbsp;&nbsp;&nbsp;&nbsp;(&lt;http://www.agilebg.com&gt;)</td><td class=\"diff_next\"></td><td class=\"diff_header\" id=\"to7957_5\">5</td><td nowrap=\"nowrap\">#&nbsp;&nbsp;&nbsp;&nbsp;(&lt;http://www.agilebg.com&gt;)</td></tr>\n",
              "            <tr><td class=\"diff_next\"></td><td class=\"diff_header\" id=\"from7957_6\">6</td><td nowrap=\"nowrap\">#</td><td class=\"diff_next\"></td><td class=\"diff_header\" id=\"to7957_6\">6</td><td nowrap=\"nowrap\">#</td></tr>\n",
              "            <tr><td class=\"diff_next\"></td><td class=\"diff_header\" id=\"from7957_7\">7</td><td nowrap=\"nowrap\">#&nbsp;&nbsp;&nbsp;&nbsp;This&nbsp;program&nbsp;is&nbsp;free&nbsp;software:&nbsp;you&nbsp;can&nbsp;redistribute&nbsp;it&nbsp;and/or&nbsp;modify</td><td class=\"diff_next\"></td><td class=\"diff_header\" id=\"to7957_7\">7</td><td nowrap=\"nowrap\">#&nbsp;&nbsp;&nbsp;&nbsp;This&nbsp;program&nbsp;is&nbsp;free&nbsp;software:&nbsp;you&nbsp;can&nbsp;redistribute&nbsp;it&nbsp;and/or&nbsp;modify</td></tr>\n",
              "            <tr><td class=\"diff_next\"></td><td class=\"diff_header\" id=\"from7957_8\">8</td><td nowrap=\"nowrap\">#&nbsp;&nbsp;&nbsp;&nbsp;it&nbsp;under&nbsp;the&nbsp;terms&nbsp;of&nbsp;the&nbsp;GNU&nbsp;Affero&nbsp;General&nbsp;Public&nbsp;License&nbsp;as&nbsp;published</td><td class=\"diff_next\"></td><td class=\"diff_header\" id=\"to7957_8\">8</td><td nowrap=\"nowrap\">#&nbsp;&nbsp;&nbsp;&nbsp;it&nbsp;under&nbsp;the&nbsp;terms&nbsp;of&nbsp;the&nbsp;GNU&nbsp;Affero&nbsp;General&nbsp;Public&nbsp;License&nbsp;as&nbsp;published</td></tr>\n",
              "            <tr><td class=\"diff_next\"></td><td class=\"diff_header\" id=\"from7957_9\">9</td><td nowrap=\"nowrap\">#&nbsp;&nbsp;&nbsp;&nbsp;by&nbsp;the&nbsp;Free&nbsp;Software&nbsp;Foundation,&nbsp;either&nbsp;version&nbsp;3&nbsp;of&nbsp;the&nbsp;License,&nbsp;or</td><td class=\"diff_next\"></td><td class=\"diff_header\" id=\"to7957_9\">9</td><td nowrap=\"nowrap\">#&nbsp;&nbsp;&nbsp;&nbsp;by&nbsp;the&nbsp;Free&nbsp;Software&nbsp;Foundation,&nbsp;either&nbsp;version&nbsp;3&nbsp;of&nbsp;the&nbsp;License,&nbsp;or</td></tr>\n",
              "            <tr><td class=\"diff_next\"></td><td class=\"diff_header\" id=\"from7957_10\">10</td><td nowrap=\"nowrap\">#&nbsp;&nbsp;&nbsp;&nbsp;(at&nbsp;your&nbsp;option)&nbsp;any&nbsp;later&nbsp;version.</td><td class=\"diff_next\"></td><td class=\"diff_header\" id=\"to7957_10\">10</td><td nowrap=\"nowrap\">#&nbsp;&nbsp;&nbsp;&nbsp;(at&nbsp;your&nbsp;option)&nbsp;any&nbsp;later&nbsp;version.</td></tr>\n",
              "            <tr><td class=\"diff_next\"></td><td class=\"diff_header\" id=\"from7957_11\">11</td><td nowrap=\"nowrap\">#</td><td class=\"diff_next\"></td><td class=\"diff_header\" id=\"to7957_11\">11</td><td nowrap=\"nowrap\">#</td></tr>\n",
              "            <tr><td class=\"diff_next\"></td><td class=\"diff_header\" id=\"from7957_12\">12</td><td nowrap=\"nowrap\">#&nbsp;&nbsp;&nbsp;&nbsp;This&nbsp;program&nbsp;is&nbsp;distributed&nbsp;in&nbsp;the&nbsp;hope&nbsp;that&nbsp;it&nbsp;will&nbsp;be&nbsp;useful,</td><td class=\"diff_next\"></td><td class=\"diff_header\" id=\"to7957_12\">12</td><td nowrap=\"nowrap\">#&nbsp;&nbsp;&nbsp;&nbsp;This&nbsp;program&nbsp;is&nbsp;distributed&nbsp;in&nbsp;the&nbsp;hope&nbsp;that&nbsp;it&nbsp;will&nbsp;be&nbsp;useful,</td></tr>\n",
              "            <tr><td class=\"diff_next\"></td><td class=\"diff_header\" id=\"from7957_13\">13</td><td nowrap=\"nowrap\">#&nbsp;&nbsp;&nbsp;&nbsp;but&nbsp;WITHOUT&nbsp;ANY&nbsp;WARRANTY;&nbsp;without&nbsp;even&nbsp;the&nbsp;implied&nbsp;warranty&nbsp;of</td><td class=\"diff_next\"></td><td class=\"diff_header\" id=\"to7957_13\">13</td><td nowrap=\"nowrap\">#&nbsp;&nbsp;&nbsp;&nbsp;but&nbsp;WITHOUT&nbsp;ANY&nbsp;WARRANTY;&nbsp;without&nbsp;even&nbsp;the&nbsp;implied&nbsp;warranty&nbsp;of</td></tr>\n",
              "            <tr><td class=\"diff_next\"></td><td class=\"diff_header\" id=\"from7957_14\">14</td><td nowrap=\"nowrap\">#&nbsp;&nbsp;&nbsp;&nbsp;MERCHANTABILITY&nbsp;or&nbsp;FITNESS&nbsp;FOR&nbsp;A&nbsp;PARTICULAR&nbsp;PURPOSE.&nbsp;&nbsp;See&nbsp;the</td><td class=\"diff_next\"></td><td class=\"diff_header\" id=\"to7957_14\">14</td><td nowrap=\"nowrap\">#&nbsp;&nbsp;&nbsp;&nbsp;MERCHANTABILITY&nbsp;or&nbsp;FITNESS&nbsp;FOR&nbsp;A&nbsp;PARTICULAR&nbsp;PURPOSE.&nbsp;&nbsp;See&nbsp;the</td></tr>\n",
              "            <tr><td class=\"diff_next\"></td><td class=\"diff_header\" id=\"from7957_15\">15</td><td nowrap=\"nowrap\">#&nbsp;&nbsp;&nbsp;&nbsp;GNU&nbsp;Affero&nbsp;General&nbsp;Public&nbsp;License&nbsp;for&nbsp;more&nbsp;details.</td><td class=\"diff_next\"></td><td class=\"diff_header\" id=\"to7957_15\">15</td><td nowrap=\"nowrap\">#&nbsp;&nbsp;&nbsp;&nbsp;GNU&nbsp;Affero&nbsp;General&nbsp;Public&nbsp;License&nbsp;for&nbsp;more&nbsp;details.</td></tr>\n",
              "            <tr><td class=\"diff_next\"></td><td class=\"diff_header\" id=\"from7957_16\">16</td><td nowrap=\"nowrap\">#</td><td class=\"diff_next\"></td><td class=\"diff_header\" id=\"to7957_16\">16</td><td nowrap=\"nowrap\">#</td></tr>\n",
              "            <tr><td class=\"diff_next\"></td><td class=\"diff_header\" id=\"from7957_17\">17</td><td nowrap=\"nowrap\">#&nbsp;&nbsp;&nbsp;&nbsp;You&nbsp;should&nbsp;have&nbsp;received&nbsp;a&nbsp;copy&nbsp;of&nbsp;the&nbsp;GNU&nbsp;Affero&nbsp;General&nbsp;Public&nbsp;License</td><td class=\"diff_next\"></td><td class=\"diff_header\" id=\"to7957_17\">17</td><td nowrap=\"nowrap\">#&nbsp;&nbsp;&nbsp;&nbsp;You&nbsp;should&nbsp;have&nbsp;received&nbsp;a&nbsp;copy&nbsp;of&nbsp;the&nbsp;GNU&nbsp;Affero&nbsp;General&nbsp;Public&nbsp;License</td></tr>\n",
              "            <tr><td class=\"diff_next\"></td><td class=\"diff_header\" id=\"from7957_18\">18</td><td nowrap=\"nowrap\">#&nbsp;&nbsp;&nbsp;&nbsp;along&nbsp;with&nbsp;this&nbsp;program.&nbsp;&nbsp;If&nbsp;not,&nbsp;see&nbsp;&lt;http://www.gnu.org/licenses/&gt;.</td><td class=\"diff_next\"></td><td class=\"diff_header\" id=\"to7957_18\">18</td><td nowrap=\"nowrap\">#&nbsp;&nbsp;&nbsp;&nbsp;along&nbsp;with&nbsp;this&nbsp;program.&nbsp;&nbsp;If&nbsp;not,&nbsp;see&nbsp;&lt;http://www.gnu.org/licenses/&gt;.</td></tr>\n",
              "            <tr><td class=\"diff_next\"></td><td class=\"diff_header\" id=\"from7957_19\">19</td><td nowrap=\"nowrap\">#</td><td class=\"diff_next\"></td><td class=\"diff_header\" id=\"to7957_19\">19</td><td nowrap=\"nowrap\">#</td></tr>\n",
              "            <tr><td class=\"diff_next\"></td><td class=\"diff_header\" id=\"from7957_20\">20</td><td nowrap=\"nowrap\">##############################################################################</td><td class=\"diff_next\"></td><td class=\"diff_header\" id=\"to7957_20\">20</td><td nowrap=\"nowrap\">##############################################################################</td></tr>\n",
              "            <tr><td class=\"diff_next\"></td><td class=\"diff_header\" id=\"from7957_21\">21</td><td nowrap=\"nowrap\"></td><td class=\"diff_next\"></td><td class=\"diff_header\" id=\"to7957_21\">21</td><td nowrap=\"nowrap\"></td></tr>\n",
              "            <tr><td class=\"diff_next\"></td><td class=\"diff_header\" id=\"from7957_22\">22</td><td nowrap=\"nowrap\">from&nbsp;openerp.osv&nbsp;import&nbsp;orm,&nbsp;fields</td><td class=\"diff_next\"></td><td class=\"diff_header\" id=\"to7957_22\">22</td><td nowrap=\"nowrap\">from&nbsp;openerp.osv&nbsp;import&nbsp;orm,&nbsp;fields</td></tr>\n",
              "            <tr><td class=\"diff_next\"></td><td class=\"diff_header\" id=\"from7957_23\">23</td><td nowrap=\"nowrap\"></td><td class=\"diff_next\"></td><td class=\"diff_header\" id=\"to7957_23\">23</td><td nowrap=\"nowrap\"></td></tr>\n",
              "            <tr><td class=\"diff_next\"></td><td class=\"diff_header\" id=\"from7957_24\">24</td><td nowrap=\"nowrap\"></td><td class=\"diff_next\"></td><td class=\"diff_header\" id=\"to7957_24\">24</td><td nowrap=\"nowrap\"></td></tr>\n",
              "            <tr><td class=\"diff_next\"></td><td class=\"diff_header\" id=\"from7957_25\">25</td><td nowrap=\"nowrap\">class&nbsp;AccountConfigSettings(orm.TransientModel):</td><td class=\"diff_next\"></td><td class=\"diff_header\" id=\"to7957_25\">25</td><td nowrap=\"nowrap\">class&nbsp;AccountConfigSettings(orm.TransientModel):</td></tr>\n",
              "            <tr><td class=\"diff_next\"></td><td class=\"diff_header\" id=\"from7957_26\">26</td><td nowrap=\"nowrap\">&nbsp;&nbsp;&nbsp;&nbsp;_inherit&nbsp;=&nbsp;'account.config.settings'</td><td class=\"diff_next\"></td><td class=\"diff_header\" id=\"to7957_26\">26</td><td nowrap=\"nowrap\">&nbsp;&nbsp;&nbsp;&nbsp;_inherit&nbsp;=&nbsp;'account.config.settings'</td></tr>\n",
              "            <tr><td class=\"diff_next\" id=\"difflib_chg_to7957__0\"></td><td class=\"diff_header\" id=\"from7957_27\">27</td><td nowrap=\"nowrap\"></td><td class=\"diff_next\"></td><td class=\"diff_header\" id=\"to7957_27\">27</td><td nowrap=\"nowrap\"></td></tr>\n",
              "            <tr><td class=\"diff_next\"></td><td class=\"diff_header\" id=\"from7957_28\">28</td><td nowrap=\"nowrap\">&nbsp;&nbsp;&nbsp;&nbsp;_columns&nbsp;=&nbsp;{</td><td class=\"diff_next\"></td><td class=\"diff_header\" id=\"to7957_28\">28</td><td nowrap=\"nowrap\">&nbsp;&nbsp;&nbsp;&nbsp;_columns&nbsp;=&nbsp;{</td></tr>\n",
              "            <tr><td class=\"diff_next\"></td><td class=\"diff_header\" id=\"from7957_29\">29</td><td nowrap=\"nowrap\">&nbsp;&nbsp;&nbsp;&nbsp;&nbsp;&nbsp;&nbsp;&nbsp;'group_use_product_description_per_inv_line':&nbsp;fields.boolean(</td><td class=\"diff_next\"></td><td class=\"diff_header\" id=\"to7957_29\">29</td><td nowrap=\"nowrap\">&nbsp;&nbsp;&nbsp;&nbsp;&nbsp;&nbsp;&nbsp;&nbsp;'group_use_product_description_per_inv_line':&nbsp;fields.boolean(</td></tr>\n",
              "            <tr><td class=\"diff_next\"></td><td class=\"diff_header\" id=\"from7957_30\">30</td><td nowrap=\"nowrap\">&nbsp;&nbsp;&nbsp;&nbsp;&nbsp;&nbsp;&nbsp;&nbsp;&nbsp;&nbsp;&nbsp;&nbsp;\"\"\"Allow&nbsp;using&nbsp;only&nbsp;the&nbsp;product&nbsp;description&nbsp;on&nbsp;the</td><td class=\"diff_next\"></td><td class=\"diff_header\" id=\"to7957_30\">30</td><td nowrap=\"nowrap\">&nbsp;&nbsp;&nbsp;&nbsp;&nbsp;&nbsp;&nbsp;&nbsp;&nbsp;&nbsp;&nbsp;&nbsp;\"\"\"Allow&nbsp;using&nbsp;only&nbsp;the&nbsp;product&nbsp;description&nbsp;on&nbsp;the</td></tr>\n",
              "            <tr><td class=\"diff_next\"></td><td class=\"diff_header\" id=\"from7957_31\">31</td><td nowrap=\"nowrap\">&nbsp;&nbsp;&nbsp;&nbsp;&nbsp;&nbsp;&nbsp;&nbsp;&nbsp;&nbsp;&nbsp;&nbsp;invoice&nbsp;order&nbsp;lines\"\"\",</td><td class=\"diff_next\"></td><td class=\"diff_header\" id=\"to7957_31\">31</td><td nowrap=\"nowrap\">&nbsp;&nbsp;&nbsp;&nbsp;&nbsp;&nbsp;&nbsp;&nbsp;&nbsp;&nbsp;&nbsp;&nbsp;invoice&nbsp;order&nbsp;lines\"\"\",</td></tr>\n",
              "            <tr><td class=\"diff_next\"><a href=\"#difflib_chg_to7957__top\">t</a></td><td class=\"diff_header\" id=\"from7957_32\">32</td><td nowrap=\"nowrap\">&nbsp;&nbsp;&nbsp;&nbsp;&nbsp;&nbsp;&nbsp;&nbsp;&nbsp;&nbsp;&nbsp;&nbsp;implied_group=\"invoice_line_description.\"</td><td class=\"diff_next\"><a href=\"#difflib_chg_to7957__top\">t</a></td><td class=\"diff_header\" id=\"to7957_32\">32</td><td nowrap=\"nowrap\">&nbsp;&nbsp;&nbsp;&nbsp;&nbsp;&nbsp;&nbsp;&nbsp;&nbsp;&nbsp;&nbsp;&nbsp;implied_group=\"<span class=\"diff_add\">account_</span>invoice_line_description.\"</td></tr>\n",
              "            <tr><td class=\"diff_next\"></td><td class=\"diff_header\" id=\"from7957_33\">33</td><td nowrap=\"nowrap\">&nbsp;&nbsp;&nbsp;&nbsp;&nbsp;&nbsp;&nbsp;&nbsp;&nbsp;&nbsp;&nbsp;&nbsp;\"group_use_product_description_per_inv_line\",</td><td class=\"diff_next\"></td><td class=\"diff_header\" id=\"to7957_33\">33</td><td nowrap=\"nowrap\">&nbsp;&nbsp;&nbsp;&nbsp;&nbsp;&nbsp;&nbsp;&nbsp;&nbsp;&nbsp;&nbsp;&nbsp;\"group_use_product_description_per_inv_line\",</td></tr>\n",
              "            <tr><td class=\"diff_next\"></td><td class=\"diff_header\" id=\"from7957_34\">34</td><td nowrap=\"nowrap\">&nbsp;&nbsp;&nbsp;&nbsp;&nbsp;&nbsp;&nbsp;&nbsp;&nbsp;&nbsp;&nbsp;&nbsp;help=\"\"\"Allows&nbsp;you&nbsp;to&nbsp;use&nbsp;only&nbsp;product&nbsp;description&nbsp;on&nbsp;the</td><td class=\"diff_next\"></td><td class=\"diff_header\" id=\"to7957_34\">34</td><td nowrap=\"nowrap\">&nbsp;&nbsp;&nbsp;&nbsp;&nbsp;&nbsp;&nbsp;&nbsp;&nbsp;&nbsp;&nbsp;&nbsp;help=\"\"\"Allows&nbsp;you&nbsp;to&nbsp;use&nbsp;only&nbsp;product&nbsp;description&nbsp;on&nbsp;the</td></tr>\n",
              "            <tr><td class=\"diff_next\"></td><td class=\"diff_header\" id=\"from7957_35\">35</td><td nowrap=\"nowrap\">&nbsp;&nbsp;&nbsp;&nbsp;&nbsp;&nbsp;&nbsp;&nbsp;&nbsp;&nbsp;&nbsp;&nbsp;invoice&nbsp;order&nbsp;lines.\"\"\"</td><td class=\"diff_next\"></td><td class=\"diff_header\" id=\"to7957_35\">35</td><td nowrap=\"nowrap\">&nbsp;&nbsp;&nbsp;&nbsp;&nbsp;&nbsp;&nbsp;&nbsp;&nbsp;&nbsp;&nbsp;&nbsp;invoice&nbsp;order&nbsp;lines.\"\"\"</td></tr>\n",
              "            <tr><td class=\"diff_next\"></td><td class=\"diff_header\" id=\"from7957_36\">36</td><td nowrap=\"nowrap\">&nbsp;&nbsp;&nbsp;&nbsp;&nbsp;&nbsp;&nbsp;&nbsp;),</td><td class=\"diff_next\"></td><td class=\"diff_header\" id=\"to7957_36\">36</td><td nowrap=\"nowrap\">&nbsp;&nbsp;&nbsp;&nbsp;&nbsp;&nbsp;&nbsp;&nbsp;),</td></tr>\n",
              "            <tr><td class=\"diff_next\"></td><td class=\"diff_header\" id=\"from7957_37\">37</td><td nowrap=\"nowrap\">&nbsp;&nbsp;&nbsp;&nbsp;}</td><td class=\"diff_next\"></td><td class=\"diff_header\" id=\"to7957_37\">37</td><td nowrap=\"nowrap\">&nbsp;&nbsp;&nbsp;&nbsp;}</td></tr>\n",
              "            <tr><td class=\"diff_next\"></td><td class=\"diff_header\" id=\"from7957_38\">38</td><td nowrap=\"nowrap\"></td><td class=\"diff_next\"></td><td class=\"diff_header\" id=\"to7957_38\">38</td><td nowrap=\"nowrap\"></td></tr>\n",
              "        </tbody>\n",
              "    </table>"
            ],
            "text/plain": [
              "<IPython.core.display.HTML object>"
            ]
          },
          "metadata": {},
          "output_type": "display_data"
        },
        {
          "name": "stdout",
          "output_type": "stream",
          "text": [
            "Message: Fix interpretation of parameters for names list modification\n",
            "\n",
            "Change:\n"
          ]
        },
        {
          "data": {
            "text/html": [
              "\n",
              "    <table class=\"diff\" id=\"difflib_chg_to7958__top\"\n",
              "           cellspacing=\"0\" cellpadding=\"0\" rules=\"groups\" >\n",
              "        <colgroup></colgroup> <colgroup></colgroup> <colgroup></colgroup>\n",
              "        <colgroup></colgroup> <colgroup></colgroup> <colgroup></colgroup>\n",
              "        \n",
              "        <tbody>\n",
              "            <tr><td class=\"diff_next\" id=\"difflib_chg_to7958__0\"><a href=\"#difflib_chg_to7958__0\">f</a></td><td class=\"diff_header\" id=\"from7958_1\">1</td><td nowrap=\"nowrap\">from&nbsp;txircd.modbase&nbsp;import&nbsp;Mode</td><td class=\"diff_next\"><a href=\"#difflib_chg_to7958__0\">f</a></td><td class=\"diff_header\" id=\"to7958_1\">1</td><td nowrap=\"nowrap\">from&nbsp;txircd.modbase&nbsp;import&nbsp;Mode</td></tr>\n",
              "            <tr><td class=\"diff_next\"></td><td class=\"diff_header\" id=\"from7958_2\">2</td><td nowrap=\"nowrap\"></td><td class=\"diff_next\"></td><td class=\"diff_header\" id=\"to7958_2\">2</td><td nowrap=\"nowrap\"></td></tr>\n",
              "            <tr><td class=\"diff_next\"></td><td class=\"diff_header\" id=\"from7958_3\">3</td><td nowrap=\"nowrap\">class&nbsp;InvisibleMode(Mode):</td><td class=\"diff_next\"></td><td class=\"diff_header\" id=\"to7958_3\">3</td><td nowrap=\"nowrap\">class&nbsp;InvisibleMode(Mode):</td></tr>\n",
              "            <tr><td class=\"diff_next\"></td><td class=\"diff_header\" id=\"from7958_4\">4</td><td nowrap=\"nowrap\">&nbsp;&nbsp;&nbsp;&nbsp;&nbsp;&nbsp;&nbsp;&nbsp;def&nbsp;namesListEntry(self,&nbsp;recipient,&nbsp;channel,&nbsp;user,&nbsp;representation):</td><td class=\"diff_next\"></td><td class=\"diff_header\" id=\"to7958_4\">4</td><td nowrap=\"nowrap\">&nbsp;&nbsp;&nbsp;&nbsp;&nbsp;&nbsp;&nbsp;&nbsp;def&nbsp;namesListEntry(self,&nbsp;recipient,&nbsp;channel,&nbsp;user,&nbsp;representation):</td></tr>\n",
              "            <tr><td class=\"diff_next\"><a href=\"#difflib_chg_to7958__top\">t</a></td><td class=\"diff_header\" id=\"from7958_5\">5</td><td nowrap=\"nowrap\">&nbsp;&nbsp;&nbsp;&nbsp;&nbsp;&nbsp;&nbsp;&nbsp;&nbsp;&nbsp;&nbsp;&nbsp;&nbsp;&nbsp;&nbsp;&nbsp;if&nbsp;channel&nbsp;not&nbsp;in&nbsp;recipient.channels&nbsp;and&nbsp;\"i\"&nbsp;in&nbsp;user.mode:</td><td class=\"diff_next\"><a href=\"#difflib_chg_to7958__top\">t</a></td><td class=\"diff_header\" id=\"to7958_5\">5</td><td nowrap=\"nowrap\">&nbsp;&nbsp;&nbsp;&nbsp;&nbsp;&nbsp;&nbsp;&nbsp;&nbsp;&nbsp;&nbsp;&nbsp;&nbsp;&nbsp;&nbsp;&nbsp;if&nbsp;channel<span class=\"diff_add\">.name</span>&nbsp;not&nbsp;in&nbsp;recipient.channels&nbsp;and&nbsp;\"i\"&nbsp;in&nbsp;user.mode:</td></tr>\n",
              "            <tr><td class=\"diff_next\"></td><td class=\"diff_header\" id=\"from7958_6\">6</td><td nowrap=\"nowrap\">&nbsp;&nbsp;&nbsp;&nbsp;&nbsp;&nbsp;&nbsp;&nbsp;&nbsp;&nbsp;&nbsp;&nbsp;&nbsp;&nbsp;&nbsp;&nbsp;&nbsp;&nbsp;&nbsp;&nbsp;&nbsp;&nbsp;&nbsp;&nbsp;return&nbsp;\"\"</td><td class=\"diff_next\"></td><td class=\"diff_header\" id=\"to7958_6\">6</td><td nowrap=\"nowrap\">&nbsp;&nbsp;&nbsp;&nbsp;&nbsp;&nbsp;&nbsp;&nbsp;&nbsp;&nbsp;&nbsp;&nbsp;&nbsp;&nbsp;&nbsp;&nbsp;&nbsp;&nbsp;&nbsp;&nbsp;&nbsp;&nbsp;&nbsp;&nbsp;return&nbsp;\"\"</td></tr>\n",
              "            <tr><td class=\"diff_next\"></td><td class=\"diff_header\" id=\"from7958_7\">7</td><td nowrap=\"nowrap\">&nbsp;&nbsp;&nbsp;&nbsp;&nbsp;&nbsp;&nbsp;&nbsp;&nbsp;&nbsp;&nbsp;&nbsp;&nbsp;&nbsp;&nbsp;&nbsp;return&nbsp;representation</td><td class=\"diff_next\"></td><td class=\"diff_header\" id=\"to7958_7\">7</td><td nowrap=\"nowrap\">&nbsp;&nbsp;&nbsp;&nbsp;&nbsp;&nbsp;&nbsp;&nbsp;&nbsp;&nbsp;&nbsp;&nbsp;&nbsp;&nbsp;&nbsp;&nbsp;return&nbsp;representation</td></tr>\n",
              "            <tr><td class=\"diff_next\"></td><td class=\"diff_header\" id=\"from7958_8\">8</td><td nowrap=\"nowrap\"></td><td class=\"diff_next\"></td><td class=\"diff_header\" id=\"to7958_8\">8</td><td nowrap=\"nowrap\"></td></tr>\n",
              "            <tr><td class=\"diff_next\"></td><td class=\"diff_header\" id=\"from7958_9\">9</td><td nowrap=\"nowrap\">class&nbsp;Spawner(object):</td><td class=\"diff_next\"></td><td class=\"diff_header\" id=\"to7958_9\">9</td><td nowrap=\"nowrap\">class&nbsp;Spawner(object):</td></tr>\n",
              "            <tr><td class=\"diff_next\"></td><td class=\"diff_header\" id=\"from7958_10\">10</td><td nowrap=\"nowrap\">&nbsp;&nbsp;&nbsp;&nbsp;&nbsp;&nbsp;&nbsp;&nbsp;def&nbsp;__init__(self,&nbsp;ircd):</td><td class=\"diff_next\"></td><td class=\"diff_header\" id=\"to7958_10\">10</td><td nowrap=\"nowrap\">&nbsp;&nbsp;&nbsp;&nbsp;&nbsp;&nbsp;&nbsp;&nbsp;def&nbsp;__init__(self,&nbsp;ircd):</td></tr>\n",
              "            <tr><td class=\"diff_next\"></td><td class=\"diff_header\" id=\"from7958_11\">11</td><td nowrap=\"nowrap\">&nbsp;&nbsp;&nbsp;&nbsp;&nbsp;&nbsp;&nbsp;&nbsp;&nbsp;&nbsp;&nbsp;&nbsp;&nbsp;&nbsp;&nbsp;&nbsp;self.ircd&nbsp;=&nbsp;ircd</td><td class=\"diff_next\"></td><td class=\"diff_header\" id=\"to7958_11\">11</td><td nowrap=\"nowrap\">&nbsp;&nbsp;&nbsp;&nbsp;&nbsp;&nbsp;&nbsp;&nbsp;&nbsp;&nbsp;&nbsp;&nbsp;&nbsp;&nbsp;&nbsp;&nbsp;self.ircd&nbsp;=&nbsp;ircd</td></tr>\n",
              "            <tr><td class=\"diff_next\"></td><td class=\"diff_header\" id=\"from7958_12\">12</td><td nowrap=\"nowrap\"></td><td class=\"diff_next\"></td><td class=\"diff_header\" id=\"to7958_12\">12</td><td nowrap=\"nowrap\"></td></tr>\n",
              "            <tr><td class=\"diff_next\"></td><td class=\"diff_header\" id=\"from7958_13\">13</td><td nowrap=\"nowrap\">&nbsp;&nbsp;&nbsp;&nbsp;&nbsp;&nbsp;&nbsp;&nbsp;def&nbsp;spawn(self):</td><td class=\"diff_next\"></td><td class=\"diff_header\" id=\"to7958_13\">13</td><td nowrap=\"nowrap\">&nbsp;&nbsp;&nbsp;&nbsp;&nbsp;&nbsp;&nbsp;&nbsp;def&nbsp;spawn(self):</td></tr>\n",
              "            <tr><td class=\"diff_next\"></td><td class=\"diff_header\" id=\"from7958_14\">14</td><td nowrap=\"nowrap\">&nbsp;&nbsp;&nbsp;&nbsp;&nbsp;&nbsp;&nbsp;&nbsp;&nbsp;&nbsp;&nbsp;&nbsp;&nbsp;&nbsp;&nbsp;&nbsp;return&nbsp;{</td><td class=\"diff_next\"></td><td class=\"diff_header\" id=\"to7958_14\">14</td><td nowrap=\"nowrap\">&nbsp;&nbsp;&nbsp;&nbsp;&nbsp;&nbsp;&nbsp;&nbsp;&nbsp;&nbsp;&nbsp;&nbsp;&nbsp;&nbsp;&nbsp;&nbsp;return&nbsp;{</td></tr>\n",
              "            <tr><td class=\"diff_next\"></td><td class=\"diff_header\" id=\"from7958_15\">15</td><td nowrap=\"nowrap\">&nbsp;&nbsp;&nbsp;&nbsp;&nbsp;&nbsp;&nbsp;&nbsp;&nbsp;&nbsp;&nbsp;&nbsp;&nbsp;&nbsp;&nbsp;&nbsp;&nbsp;&nbsp;&nbsp;&nbsp;&nbsp;&nbsp;&nbsp;&nbsp;\"modes\":&nbsp;{</td><td class=\"diff_next\"></td><td class=\"diff_header\" id=\"to7958_15\">15</td><td nowrap=\"nowrap\">&nbsp;&nbsp;&nbsp;&nbsp;&nbsp;&nbsp;&nbsp;&nbsp;&nbsp;&nbsp;&nbsp;&nbsp;&nbsp;&nbsp;&nbsp;&nbsp;&nbsp;&nbsp;&nbsp;&nbsp;&nbsp;&nbsp;&nbsp;&nbsp;\"modes\":&nbsp;{</td></tr>\n",
              "            <tr><td class=\"diff_next\"></td><td class=\"diff_header\" id=\"from7958_16\">16</td><td nowrap=\"nowrap\">&nbsp;&nbsp;&nbsp;&nbsp;&nbsp;&nbsp;&nbsp;&nbsp;&nbsp;&nbsp;&nbsp;&nbsp;&nbsp;&nbsp;&nbsp;&nbsp;&nbsp;&nbsp;&nbsp;&nbsp;&nbsp;&nbsp;&nbsp;&nbsp;&nbsp;&nbsp;&nbsp;&nbsp;&nbsp;&nbsp;&nbsp;&nbsp;\"uni\":&nbsp;InvisibleMode()</td><td class=\"diff_next\"></td><td class=\"diff_header\" id=\"to7958_16\">16</td><td nowrap=\"nowrap\">&nbsp;&nbsp;&nbsp;&nbsp;&nbsp;&nbsp;&nbsp;&nbsp;&nbsp;&nbsp;&nbsp;&nbsp;&nbsp;&nbsp;&nbsp;&nbsp;&nbsp;&nbsp;&nbsp;&nbsp;&nbsp;&nbsp;&nbsp;&nbsp;&nbsp;&nbsp;&nbsp;&nbsp;&nbsp;&nbsp;&nbsp;&nbsp;\"uni\":&nbsp;InvisibleMode()</td></tr>\n",
              "            <tr><td class=\"diff_next\"></td><td class=\"diff_header\" id=\"from7958_17\">17</td><td nowrap=\"nowrap\">&nbsp;&nbsp;&nbsp;&nbsp;&nbsp;&nbsp;&nbsp;&nbsp;&nbsp;&nbsp;&nbsp;&nbsp;&nbsp;&nbsp;&nbsp;&nbsp;&nbsp;&nbsp;&nbsp;&nbsp;&nbsp;&nbsp;&nbsp;&nbsp;}</td><td class=\"diff_next\"></td><td class=\"diff_header\" id=\"to7958_17\">17</td><td nowrap=\"nowrap\">&nbsp;&nbsp;&nbsp;&nbsp;&nbsp;&nbsp;&nbsp;&nbsp;&nbsp;&nbsp;&nbsp;&nbsp;&nbsp;&nbsp;&nbsp;&nbsp;&nbsp;&nbsp;&nbsp;&nbsp;&nbsp;&nbsp;&nbsp;&nbsp;}</td></tr>\n",
              "            <tr><td class=\"diff_next\"></td><td class=\"diff_header\" id=\"from7958_18\">18</td><td nowrap=\"nowrap\">&nbsp;&nbsp;&nbsp;&nbsp;&nbsp;&nbsp;&nbsp;&nbsp;&nbsp;&nbsp;&nbsp;&nbsp;&nbsp;&nbsp;&nbsp;&nbsp;}</td><td class=\"diff_next\"></td><td class=\"diff_header\" id=\"to7958_18\">18</td><td nowrap=\"nowrap\">&nbsp;&nbsp;&nbsp;&nbsp;&nbsp;&nbsp;&nbsp;&nbsp;&nbsp;&nbsp;&nbsp;&nbsp;&nbsp;&nbsp;&nbsp;&nbsp;}</td></tr>\n",
              "            <tr><td class=\"diff_next\"></td><td class=\"diff_header\" id=\"from7958_19\">19</td><td nowrap=\"nowrap\"></td><td class=\"diff_next\"></td><td class=\"diff_header\" id=\"to7958_19\">19</td><td nowrap=\"nowrap\"></td></tr>\n",
              "            <tr><td class=\"diff_next\"></td><td class=\"diff_header\" id=\"from7958_20\">20</td><td nowrap=\"nowrap\">&nbsp;&nbsp;&nbsp;&nbsp;&nbsp;&nbsp;&nbsp;&nbsp;def&nbsp;cleanup(self):</td><td class=\"diff_next\"></td><td class=\"diff_header\" id=\"to7958_20\">20</td><td nowrap=\"nowrap\">&nbsp;&nbsp;&nbsp;&nbsp;&nbsp;&nbsp;&nbsp;&nbsp;def&nbsp;cleanup(self):</td></tr>\n",
              "            <tr><td class=\"diff_next\"></td><td class=\"diff_header\" id=\"from7958_21\">21</td><td nowrap=\"nowrap\">&nbsp;&nbsp;&nbsp;&nbsp;&nbsp;&nbsp;&nbsp;&nbsp;&nbsp;&nbsp;&nbsp;&nbsp;&nbsp;&nbsp;&nbsp;&nbsp;self.ircd.removeMode(\"uni\")</td><td class=\"diff_next\"></td><td class=\"diff_header\" id=\"to7958_21\">21</td><td nowrap=\"nowrap\">&nbsp;&nbsp;&nbsp;&nbsp;&nbsp;&nbsp;&nbsp;&nbsp;&nbsp;&nbsp;&nbsp;&nbsp;&nbsp;&nbsp;&nbsp;&nbsp;self.ircd.removeMode(\"uni\")</td></tr>\n",
              "        </tbody>\n",
              "    </table>"
            ],
            "text/plain": [
              "<IPython.core.display.HTML object>"
            ]
          },
          "metadata": {},
          "output_type": "display_data"
        },
        {
          "name": "stdout",
          "output_type": "stream",
          "text": [
            "Message: Fix image path in manifest\n",
            "\n",
            "Change:\n"
          ]
        },
        {
          "data": {
            "text/html": [
              "\n",
              "    <table class=\"diff\" id=\"difflib_chg_to7959__top\"\n",
              "           cellspacing=\"0\" cellpadding=\"0\" rules=\"groups\" >\n",
              "        <colgroup></colgroup> <colgroup></colgroup> <colgroup></colgroup>\n",
              "        <colgroup></colgroup> <colgroup></colgroup> <colgroup></colgroup>\n",
              "        \n",
              "        <tbody>\n",
              "            <tr><td class=\"diff_next\"><a href=\"#difflib_chg_to7959__0\">f</a></td><td class=\"diff_header\" id=\"from7959_1\">1</td><td nowrap=\"nowrap\">#&nbsp;-*-&nbsp;coding:&nbsp;utf-8&nbsp;-*-</td><td class=\"diff_next\"><a href=\"#difflib_chg_to7959__0\">f</a></td><td class=\"diff_header\" id=\"to7959_1\">1</td><td nowrap=\"nowrap\">#&nbsp;-*-&nbsp;coding:&nbsp;utf-8&nbsp;-*-</td></tr>\n",
              "            <tr><td class=\"diff_next\"></td><td class=\"diff_header\" id=\"from7959_2\">2</td><td nowrap=\"nowrap\">#&nbsp;©&nbsp;2013-2016&nbsp;Numérigraphe&nbsp;SARL</td><td class=\"diff_next\"></td><td class=\"diff_header\" id=\"to7959_2\">2</td><td nowrap=\"nowrap\">#&nbsp;©&nbsp;2013-2016&nbsp;Numérigraphe&nbsp;SARL</td></tr>\n",
              "            <tr><td class=\"diff_next\"></td><td class=\"diff_header\" id=\"from7959_3\">3</td><td nowrap=\"nowrap\">#&nbsp;License&nbsp;AGPL-3.0&nbsp;or&nbsp;later&nbsp;(http://www.gnu.org/licenses/agpl.html).</td><td class=\"diff_next\"></td><td class=\"diff_header\" id=\"to7959_3\">3</td><td nowrap=\"nowrap\">#&nbsp;License&nbsp;AGPL-3.0&nbsp;or&nbsp;later&nbsp;(http://www.gnu.org/licenses/agpl.html).</td></tr>\n",
              "            <tr><td class=\"diff_next\"></td><td class=\"diff_header\" id=\"from7959_4\">4</td><td nowrap=\"nowrap\"></td><td class=\"diff_next\"></td><td class=\"diff_header\" id=\"to7959_4\">4</td><td nowrap=\"nowrap\"></td></tr>\n",
              "            <tr><td class=\"diff_next\"></td><td class=\"diff_header\" id=\"from7959_5\">5</td><td nowrap=\"nowrap\">{</td><td class=\"diff_next\"></td><td class=\"diff_header\" id=\"to7959_5\">5</td><td nowrap=\"nowrap\">{</td></tr>\n",
              "            <tr><td class=\"diff_next\"></td><td class=\"diff_header\" id=\"from7959_6\">6</td><td nowrap=\"nowrap\">&nbsp;&nbsp;&nbsp;&nbsp;\"name\":&nbsp;\"Hierarchical&nbsp;Inventory&nbsp;adjustments\",</td><td class=\"diff_next\"></td><td class=\"diff_header\" id=\"to7959_6\">6</td><td nowrap=\"nowrap\">&nbsp;&nbsp;&nbsp;&nbsp;\"name\":&nbsp;\"Hierarchical&nbsp;Inventory&nbsp;adjustments\",</td></tr>\n",
              "            <tr><td class=\"diff_next\"></td><td class=\"diff_header\" id=\"from7959_7\">7</td><td nowrap=\"nowrap\">&nbsp;&nbsp;&nbsp;&nbsp;\"summary\":&nbsp;\"Group&nbsp;several&nbsp;Inventory&nbsp;adjustments&nbsp;in&nbsp;a&nbsp;master&nbsp;inventory\",</td><td class=\"diff_next\"></td><td class=\"diff_header\" id=\"to7959_7\">7</td><td nowrap=\"nowrap\">&nbsp;&nbsp;&nbsp;&nbsp;\"summary\":&nbsp;\"Group&nbsp;several&nbsp;Inventory&nbsp;adjustments&nbsp;in&nbsp;a&nbsp;master&nbsp;inventory\",</td></tr>\n",
              "            <tr><td class=\"diff_next\"></td><td class=\"diff_header\" id=\"from7959_8\">8</td><td nowrap=\"nowrap\">&nbsp;&nbsp;&nbsp;&nbsp;\"version\":&nbsp;\"8.0.2.0.0\",</td><td class=\"diff_next\"></td><td class=\"diff_header\" id=\"to7959_8\">8</td><td nowrap=\"nowrap\">&nbsp;&nbsp;&nbsp;&nbsp;\"version\":&nbsp;\"8.0.2.0.0\",</td></tr>\n",
              "            <tr><td class=\"diff_next\" id=\"difflib_chg_to7959__0\"></td><td class=\"diff_header\" id=\"from7959_9\">9</td><td nowrap=\"nowrap\">&nbsp;&nbsp;&nbsp;&nbsp;\"depends\":&nbsp;[\"stock\"],</td><td class=\"diff_next\"></td><td class=\"diff_header\" id=\"to7959_9\">9</td><td nowrap=\"nowrap\">&nbsp;&nbsp;&nbsp;&nbsp;\"depends\":&nbsp;[\"stock\"],</td></tr>\n",
              "            <tr><td class=\"diff_next\"></td><td class=\"diff_header\" id=\"from7959_10\">10</td><td nowrap=\"nowrap\">&nbsp;&nbsp;&nbsp;&nbsp;\"author\":&nbsp;u\"Numérigraphe,Odoo&nbsp;Community&nbsp;Association&nbsp;(OCA)\",</td><td class=\"diff_next\"></td><td class=\"diff_header\" id=\"to7959_10\">10</td><td nowrap=\"nowrap\">&nbsp;&nbsp;&nbsp;&nbsp;\"author\":&nbsp;u\"Numérigraphe,Odoo&nbsp;Community&nbsp;Association&nbsp;(OCA)\",</td></tr>\n",
              "            <tr><td class=\"diff_next\"></td><td class=\"diff_header\" id=\"from7959_11\">11</td><td nowrap=\"nowrap\">&nbsp;&nbsp;&nbsp;&nbsp;\"category\":&nbsp;\"Warehouse&nbsp;Management\",</td><td class=\"diff_next\"></td><td class=\"diff_header\" id=\"to7959_11\">11</td><td nowrap=\"nowrap\">&nbsp;&nbsp;&nbsp;&nbsp;\"category\":&nbsp;\"Warehouse&nbsp;Management\",</td></tr>\n",
              "            <tr><td class=\"diff_next\"></td><td class=\"diff_header\" id=\"from7959_12\">12</td><td nowrap=\"nowrap\">&nbsp;&nbsp;&nbsp;&nbsp;\"data\":&nbsp;[\"views/stock_inventory_view.xml\",</td><td class=\"diff_next\"></td><td class=\"diff_header\" id=\"to7959_12\">12</td><td nowrap=\"nowrap\">&nbsp;&nbsp;&nbsp;&nbsp;\"data\":&nbsp;[\"views/stock_inventory_view.xml\",</td></tr>\n",
              "            <tr><td class=\"diff_next\"></td><td class=\"diff_header\" id=\"from7959_13\">13</td><td nowrap=\"nowrap\">&nbsp;&nbsp;&nbsp;&nbsp;&nbsp;&nbsp;&nbsp;&nbsp;&nbsp;&nbsp;&nbsp;&nbsp;&nbsp;\"wizard/generate_inventory_view.xml\"],</td><td class=\"diff_next\"></td><td class=\"diff_header\" id=\"to7959_13\">13</td><td nowrap=\"nowrap\">&nbsp;&nbsp;&nbsp;&nbsp;&nbsp;&nbsp;&nbsp;&nbsp;&nbsp;&nbsp;&nbsp;&nbsp;&nbsp;\"wizard/generate_inventory_view.xml\"],</td></tr>\n",
              "            <tr><td class=\"diff_next\"><a href=\"#difflib_chg_to7959__top\">t</a></td><td class=\"diff_header\" id=\"from7959_14\">14</td><td nowrap=\"nowrap\">&nbsp;&nbsp;&nbsp;&nbsp;\"images\":&nbsp;[\"inventory_form.png\",</td><td class=\"diff_next\"><a href=\"#difflib_chg_to7959__top\">t</a></td><td class=\"diff_header\" id=\"to7959_14\">14</td><td nowrap=\"nowrap\">&nbsp;&nbsp;&nbsp;&nbsp;\"images\":&nbsp;[\"<span class=\"diff_add\">images/</span>inventory_form.png\",</td></tr>\n",
              "            <tr><td class=\"diff_next\"></td><td class=\"diff_header\" id=\"from7959_15\">15</td><td nowrap=\"nowrap\">&nbsp;&nbsp;&nbsp;&nbsp;&nbsp;&nbsp;&nbsp;&nbsp;&nbsp;&nbsp;&nbsp;&nbsp;&nbsp;&nbsp;&nbsp;\"inventory_form_actions.png\",</td><td class=\"diff_next\"></td><td class=\"diff_header\" id=\"to7959_15\">15</td><td nowrap=\"nowrap\">&nbsp;&nbsp;&nbsp;&nbsp;&nbsp;&nbsp;&nbsp;&nbsp;&nbsp;&nbsp;&nbsp;&nbsp;&nbsp;&nbsp;&nbsp;\"<span class=\"diff_add\">images/</span>inventory_form_actions.png\",</td></tr>\n",
              "            <tr><td class=\"diff_next\"></td><td class=\"diff_header\" id=\"from7959_16\">16</td><td nowrap=\"nowrap\">&nbsp;&nbsp;&nbsp;&nbsp;&nbsp;&nbsp;&nbsp;&nbsp;&nbsp;&nbsp;&nbsp;&nbsp;&nbsp;&nbsp;&nbsp;\"wizard.png\"],</td><td class=\"diff_next\"></td><td class=\"diff_header\" id=\"to7959_16\">16</td><td nowrap=\"nowrap\">&nbsp;&nbsp;&nbsp;&nbsp;&nbsp;&nbsp;&nbsp;&nbsp;&nbsp;&nbsp;&nbsp;&nbsp;&nbsp;&nbsp;&nbsp;\"<span class=\"diff_add\">images/</span>wizard.png\"],</td></tr>\n",
              "            <tr><td class=\"diff_next\"></td><td class=\"diff_header\" id=\"from7959_17\">17</td><td nowrap=\"nowrap\">&nbsp;&nbsp;&nbsp;&nbsp;'license':&nbsp;'AGPL-3',</td><td class=\"diff_next\"></td><td class=\"diff_header\" id=\"to7959_17\">17</td><td nowrap=\"nowrap\">&nbsp;&nbsp;&nbsp;&nbsp;'license':&nbsp;'AGPL-3',</td></tr>\n",
              "            <tr><td class=\"diff_next\"></td><td class=\"diff_header\" id=\"from7959_18\">18</td><td nowrap=\"nowrap\">&nbsp;&nbsp;&nbsp;&nbsp;'installable':&nbsp;True</td><td class=\"diff_next\"></td><td class=\"diff_header\" id=\"to7959_18\">18</td><td nowrap=\"nowrap\">&nbsp;&nbsp;&nbsp;&nbsp;'installable':&nbsp;True</td></tr>\n",
              "            <tr><td class=\"diff_next\"></td><td class=\"diff_header\" id=\"from7959_19\">19</td><td nowrap=\"nowrap\">}</td><td class=\"diff_next\"></td><td class=\"diff_header\" id=\"to7959_19\">19</td><td nowrap=\"nowrap\">}</td></tr>\n",
              "            <tr><td class=\"diff_next\"></td><td class=\"diff_header\" id=\"from7959_20\">20</td><td nowrap=\"nowrap\"></td><td class=\"diff_next\"></td><td class=\"diff_header\" id=\"to7959_20\">20</td><td nowrap=\"nowrap\"></td></tr>\n",
              "        </tbody>\n",
              "    </table>"
            ],
            "text/plain": [
              "<IPython.core.display.HTML object>"
            ]
          },
          "metadata": {},
          "output_type": "display_data"
        },
        {
          "name": "stdout",
          "output_type": "stream",
          "text": [
            "Message:  [FIX][11.0] Make debugger record a debug message instead of error when importing validate_email in partner_email_check\n",
            "\n",
            "Change:\n"
          ]
        },
        {
          "data": {
            "text/html": [
              "\n",
              "    <table class=\"diff\" id=\"difflib_chg_to7960__top\"\n",
              "           cellspacing=\"0\" cellpadding=\"0\" rules=\"groups\" >\n",
              "        <colgroup></colgroup> <colgroup></colgroup> <colgroup></colgroup>\n",
              "        <colgroup></colgroup> <colgroup></colgroup> <colgroup></colgroup>\n",
              "        \n",
              "        <tbody>\n",
              "            <tr><td class=\"diff_next\"><a href=\"#difflib_chg_to7960__0\">f</a></td><td class=\"diff_header\" id=\"from7960_1\">1</td><td nowrap=\"nowrap\">#&nbsp;Copyright&nbsp;2019&nbsp;Komit&nbsp;&lt;https://komit-consulting.com&gt;</td><td class=\"diff_next\"><a href=\"#difflib_chg_to7960__0\">f</a></td><td class=\"diff_header\" id=\"to7960_1\">1</td><td nowrap=\"nowrap\">#&nbsp;Copyright&nbsp;2019&nbsp;Komit&nbsp;&lt;https://komit-consulting.com&gt;</td></tr>\n",
              "            <tr><td class=\"diff_next\"></td><td class=\"diff_header\" id=\"from7960_2\">2</td><td nowrap=\"nowrap\">#&nbsp;License&nbsp;AGPL-3.0&nbsp;or&nbsp;later&nbsp;(https://www.gnu.org/licenses/agpl).</td><td class=\"diff_next\"></td><td class=\"diff_header\" id=\"to7960_2\">2</td><td nowrap=\"nowrap\">#&nbsp;License&nbsp;AGPL-3.0&nbsp;or&nbsp;later&nbsp;(https://www.gnu.org/licenses/agpl).</td></tr>\n",
              "            <tr><td class=\"diff_next\"></td><td class=\"diff_header\" id=\"from7960_3\">3</td><td nowrap=\"nowrap\"></td><td class=\"diff_next\"></td><td class=\"diff_header\" id=\"to7960_3\">3</td><td nowrap=\"nowrap\"></td></tr>\n",
              "            <tr><td class=\"diff_next\"></td><td class=\"diff_header\" id=\"from7960_4\">4</td><td nowrap=\"nowrap\">import&nbsp;logging</td><td class=\"diff_next\"></td><td class=\"diff_header\" id=\"to7960_4\">4</td><td nowrap=\"nowrap\">import&nbsp;logging</td></tr>\n",
              "            <tr><td class=\"diff_next\"></td><td class=\"diff_header\" id=\"from7960_5\">5</td><td nowrap=\"nowrap\">from&nbsp;odoo&nbsp;import&nbsp;api,&nbsp;models,&nbsp;_</td><td class=\"diff_next\"></td><td class=\"diff_header\" id=\"to7960_5\">5</td><td nowrap=\"nowrap\">from&nbsp;odoo&nbsp;import&nbsp;api,&nbsp;models,&nbsp;_</td></tr>\n",
              "            <tr><td class=\"diff_next\"></td><td class=\"diff_header\" id=\"from7960_6\">6</td><td nowrap=\"nowrap\">from&nbsp;odoo.exceptions&nbsp;import&nbsp;UserError</td><td class=\"diff_next\"></td><td class=\"diff_header\" id=\"to7960_6\">6</td><td nowrap=\"nowrap\">from&nbsp;odoo.exceptions&nbsp;import&nbsp;UserError</td></tr>\n",
              "            <tr><td class=\"diff_next\"></td><td class=\"diff_header\" id=\"from7960_7\">7</td><td nowrap=\"nowrap\"></td><td class=\"diff_next\"></td><td class=\"diff_header\" id=\"to7960_7\">7</td><td nowrap=\"nowrap\"></td></tr>\n",
              "            <tr><td class=\"diff_next\" id=\"difflib_chg_to7960__0\"></td><td class=\"diff_header\" id=\"from7960_8\">8</td><td nowrap=\"nowrap\">_logger&nbsp;=&nbsp;logging.getLogger(__name__)</td><td class=\"diff_next\"></td><td class=\"diff_header\" id=\"to7960_8\">8</td><td nowrap=\"nowrap\">_logger&nbsp;=&nbsp;logging.getLogger(__name__)</td></tr>\n",
              "            <tr><td class=\"diff_next\"></td><td class=\"diff_header\" id=\"from7960_9\">9</td><td nowrap=\"nowrap\"></td><td class=\"diff_next\"></td><td class=\"diff_header\" id=\"to7960_9\">9</td><td nowrap=\"nowrap\"></td></tr>\n",
              "            <tr><td class=\"diff_next\"></td><td class=\"diff_header\" id=\"from7960_10\">10</td><td nowrap=\"nowrap\">try:</td><td class=\"diff_next\"></td><td class=\"diff_header\" id=\"to7960_10\">10</td><td nowrap=\"nowrap\">try:</td></tr>\n",
              "            <tr><td class=\"diff_next\"></td><td class=\"diff_header\" id=\"from7960_11\">11</td><td nowrap=\"nowrap\">&nbsp;&nbsp;&nbsp;&nbsp;from&nbsp;validate_email&nbsp;import&nbsp;validate_email</td><td class=\"diff_next\"></td><td class=\"diff_header\" id=\"to7960_11\">11</td><td nowrap=\"nowrap\">&nbsp;&nbsp;&nbsp;&nbsp;from&nbsp;validate_email&nbsp;import&nbsp;validate_email</td></tr>\n",
              "            <tr><td class=\"diff_next\"></td><td class=\"diff_header\" id=\"from7960_12\">12</td><td nowrap=\"nowrap\">except&nbsp;ImportError:</td><td class=\"diff_next\"></td><td class=\"diff_header\" id=\"to7960_12\">12</td><td nowrap=\"nowrap\">except&nbsp;ImportError:</td></tr>\n",
              "            <tr><td class=\"diff_next\"><a href=\"#difflib_chg_to7960__top\">t</a></td><td class=\"diff_header\" id=\"from7960_13\">13</td><td nowrap=\"nowrap\">&nbsp;&nbsp;&nbsp;&nbsp;_logger.e<span class=\"diff_chg\">rror</span>('Cannot&nbsp;import&nbsp;\"validate_email\".')</td><td class=\"diff_next\"><a href=\"#difflib_chg_to7960__top\">t</a></td><td class=\"diff_header\" id=\"to7960_13\">13</td><td nowrap=\"nowrap\">&nbsp;&nbsp;&nbsp;&nbsp;_logger.<span class=\"diff_add\">d</span>e<span class=\"diff_chg\">bug</span>('Cannot&nbsp;import&nbsp;\"validate_email\".')</td></tr>\n",
              "            <tr><td class=\"diff_next\"></td><td class=\"diff_header\" id=\"from7960_14\">14</td><td nowrap=\"nowrap\"></td><td class=\"diff_next\"></td><td class=\"diff_header\" id=\"to7960_14\">14</td><td nowrap=\"nowrap\"></td></tr>\n",
              "            <tr><td class=\"diff_next\"></td><td class=\"diff_header\" id=\"from7960_15\">15</td><td nowrap=\"nowrap\">&nbsp;&nbsp;&nbsp;&nbsp;def&nbsp;validate_email(email):</td><td class=\"diff_next\"></td><td class=\"diff_header\" id=\"to7960_15\">15</td><td nowrap=\"nowrap\">&nbsp;&nbsp;&nbsp;&nbsp;def&nbsp;validate_email(email):</td></tr>\n",
              "            <tr><td class=\"diff_next\"></td><td class=\"diff_header\" id=\"from7960_16\">16</td><td nowrap=\"nowrap\">&nbsp;&nbsp;&nbsp;&nbsp;&nbsp;&nbsp;&nbsp;&nbsp;_logger.warning(</td><td class=\"diff_next\"></td><td class=\"diff_header\" id=\"to7960_16\">16</td><td nowrap=\"nowrap\">&nbsp;&nbsp;&nbsp;&nbsp;&nbsp;&nbsp;&nbsp;&nbsp;_logger.warning(</td></tr>\n",
              "            <tr><td class=\"diff_next\"></td><td class=\"diff_header\" id=\"from7960_17\">17</td><td nowrap=\"nowrap\">&nbsp;&nbsp;&nbsp;&nbsp;&nbsp;&nbsp;&nbsp;&nbsp;&nbsp;&nbsp;&nbsp;&nbsp;'Can&nbsp;not&nbsp;validate&nbsp;email,&nbsp;'</td><td class=\"diff_next\"></td><td class=\"diff_header\" id=\"to7960_17\">17</td><td nowrap=\"nowrap\">&nbsp;&nbsp;&nbsp;&nbsp;&nbsp;&nbsp;&nbsp;&nbsp;&nbsp;&nbsp;&nbsp;&nbsp;'Can&nbsp;not&nbsp;validate&nbsp;email,&nbsp;'</td></tr>\n",
              "            <tr><td class=\"diff_next\"></td><td class=\"diff_header\" id=\"from7960_18\">18</td><td nowrap=\"nowrap\">&nbsp;&nbsp;&nbsp;&nbsp;&nbsp;&nbsp;&nbsp;&nbsp;&nbsp;&nbsp;&nbsp;&nbsp;'python&nbsp;dependency&nbsp;required&nbsp;\"validate_email\"')</td><td class=\"diff_next\"></td><td class=\"diff_header\" id=\"to7960_18\">18</td><td nowrap=\"nowrap\">&nbsp;&nbsp;&nbsp;&nbsp;&nbsp;&nbsp;&nbsp;&nbsp;&nbsp;&nbsp;&nbsp;&nbsp;'python&nbsp;dependency&nbsp;required&nbsp;\"validate_email\"')</td></tr>\n",
              "            <tr><td class=\"diff_next\"></td><td class=\"diff_header\" id=\"from7960_19\">19</td><td nowrap=\"nowrap\">&nbsp;&nbsp;&nbsp;&nbsp;&nbsp;&nbsp;&nbsp;&nbsp;return&nbsp;True</td><td class=\"diff_next\"></td><td class=\"diff_header\" id=\"to7960_19\">19</td><td nowrap=\"nowrap\">&nbsp;&nbsp;&nbsp;&nbsp;&nbsp;&nbsp;&nbsp;&nbsp;return&nbsp;True</td></tr>\n",
              "            <tr><td class=\"diff_next\"></td><td class=\"diff_header\" id=\"from7960_20\">20</td><td nowrap=\"nowrap\"></td><td class=\"diff_next\"></td><td class=\"diff_header\" id=\"to7960_20\">20</td><td nowrap=\"nowrap\"></td></tr>\n",
              "            <tr><td class=\"diff_next\"></td><td class=\"diff_header\" id=\"from7960_21\">21</td><td nowrap=\"nowrap\"></td><td class=\"diff_next\"></td><td class=\"diff_header\" id=\"to7960_21\">21</td><td nowrap=\"nowrap\"></td></tr>\n",
              "            <tr><td class=\"diff_next\"></td><td class=\"diff_header\" id=\"from7960_22\">22</td><td nowrap=\"nowrap\">class&nbsp;ResPartner(models.Model):</td><td class=\"diff_next\"></td><td class=\"diff_header\" id=\"to7960_22\">22</td><td nowrap=\"nowrap\">class&nbsp;ResPartner(models.Model):</td></tr>\n",
              "            <tr><td class=\"diff_next\"></td><td class=\"diff_header\" id=\"from7960_23\">23</td><td nowrap=\"nowrap\">&nbsp;&nbsp;&nbsp;&nbsp;_inherit&nbsp;=&nbsp;'res.partner'</td><td class=\"diff_next\"></td><td class=\"diff_header\" id=\"to7960_23\">23</td><td nowrap=\"nowrap\">&nbsp;&nbsp;&nbsp;&nbsp;_inherit&nbsp;=&nbsp;'res.partner'</td></tr>\n",
              "            <tr><td class=\"diff_next\"></td><td class=\"diff_header\" id=\"from7960_24\">24</td><td nowrap=\"nowrap\"></td><td class=\"diff_next\"></td><td class=\"diff_header\" id=\"to7960_24\">24</td><td nowrap=\"nowrap\"></td></tr>\n",
              "            <tr><td class=\"diff_next\"></td><td class=\"diff_header\" id=\"from7960_25\">25</td><td nowrap=\"nowrap\">&nbsp;&nbsp;&nbsp;&nbsp;@api.constrains('email')</td><td class=\"diff_next\"></td><td class=\"diff_header\" id=\"to7960_25\">25</td><td nowrap=\"nowrap\">&nbsp;&nbsp;&nbsp;&nbsp;@api.constrains('email')</td></tr>\n",
              "            <tr><td class=\"diff_next\"></td><td class=\"diff_header\" id=\"from7960_26\">26</td><td nowrap=\"nowrap\">&nbsp;&nbsp;&nbsp;&nbsp;def&nbsp;constrains_email(self):</td><td class=\"diff_next\"></td><td class=\"diff_header\" id=\"to7960_26\">26</td><td nowrap=\"nowrap\">&nbsp;&nbsp;&nbsp;&nbsp;def&nbsp;constrains_email(self):</td></tr>\n",
              "            <tr><td class=\"diff_next\"></td><td class=\"diff_header\" id=\"from7960_27\">27</td><td nowrap=\"nowrap\">&nbsp;&nbsp;&nbsp;&nbsp;&nbsp;&nbsp;&nbsp;&nbsp;for&nbsp;rec&nbsp;in&nbsp;self.filtered(\"email\"):</td><td class=\"diff_next\"></td><td class=\"diff_header\" id=\"to7960_27\">27</td><td nowrap=\"nowrap\">&nbsp;&nbsp;&nbsp;&nbsp;&nbsp;&nbsp;&nbsp;&nbsp;for&nbsp;rec&nbsp;in&nbsp;self.filtered(\"email\"):</td></tr>\n",
              "            <tr><td class=\"diff_next\"></td><td class=\"diff_header\" id=\"from7960_28\">28</td><td nowrap=\"nowrap\">&nbsp;&nbsp;&nbsp;&nbsp;&nbsp;&nbsp;&nbsp;&nbsp;&nbsp;&nbsp;&nbsp;&nbsp;self.email_check(rec.email)</td><td class=\"diff_next\"></td><td class=\"diff_header\" id=\"to7960_28\">28</td><td nowrap=\"nowrap\">&nbsp;&nbsp;&nbsp;&nbsp;&nbsp;&nbsp;&nbsp;&nbsp;&nbsp;&nbsp;&nbsp;&nbsp;self.email_check(rec.email)</td></tr>\n",
              "            <tr><td class=\"diff_next\"></td><td class=\"diff_header\" id=\"from7960_29\">29</td><td nowrap=\"nowrap\"></td><td class=\"diff_next\"></td><td class=\"diff_header\" id=\"to7960_29\">29</td><td nowrap=\"nowrap\"></td></tr>\n",
              "            <tr><td class=\"diff_next\"></td><td class=\"diff_header\" id=\"from7960_30\">30</td><td nowrap=\"nowrap\">&nbsp;&nbsp;&nbsp;&nbsp;@api.model</td><td class=\"diff_next\"></td><td class=\"diff_header\" id=\"to7960_30\">30</td><td nowrap=\"nowrap\">&nbsp;&nbsp;&nbsp;&nbsp;@api.model</td></tr>\n",
              "            <tr><td class=\"diff_next\"></td><td class=\"diff_header\" id=\"from7960_31\">31</td><td nowrap=\"nowrap\">&nbsp;&nbsp;&nbsp;&nbsp;def&nbsp;email_check(self,&nbsp;email):</td><td class=\"diff_next\"></td><td class=\"diff_header\" id=\"to7960_31\">31</td><td nowrap=\"nowrap\">&nbsp;&nbsp;&nbsp;&nbsp;def&nbsp;email_check(self,&nbsp;email):</td></tr>\n",
              "            <tr><td class=\"diff_next\"></td><td class=\"diff_header\" id=\"from7960_32\">32</td><td nowrap=\"nowrap\">&nbsp;&nbsp;&nbsp;&nbsp;&nbsp;&nbsp;&nbsp;&nbsp;if&nbsp;validate_email(email):</td><td class=\"diff_next\"></td><td class=\"diff_header\" id=\"to7960_32\">32</td><td nowrap=\"nowrap\">&nbsp;&nbsp;&nbsp;&nbsp;&nbsp;&nbsp;&nbsp;&nbsp;if&nbsp;validate_email(email):</td></tr>\n",
              "            <tr><td class=\"diff_next\"></td><td class=\"diff_header\" id=\"from7960_33\">33</td><td nowrap=\"nowrap\">&nbsp;&nbsp;&nbsp;&nbsp;&nbsp;&nbsp;&nbsp;&nbsp;&nbsp;&nbsp;&nbsp;&nbsp;return&nbsp;True</td><td class=\"diff_next\"></td><td class=\"diff_header\" id=\"to7960_33\">33</td><td nowrap=\"nowrap\">&nbsp;&nbsp;&nbsp;&nbsp;&nbsp;&nbsp;&nbsp;&nbsp;&nbsp;&nbsp;&nbsp;&nbsp;return&nbsp;True</td></tr>\n",
              "            <tr><td class=\"diff_next\"></td><td class=\"diff_header\" id=\"from7960_34\">34</td><td nowrap=\"nowrap\">&nbsp;&nbsp;&nbsp;&nbsp;&nbsp;&nbsp;&nbsp;&nbsp;raise&nbsp;UserError(_('Invalid&nbsp;e-mail!'))</td><td class=\"diff_next\"></td><td class=\"diff_header\" id=\"to7960_34\">34</td><td nowrap=\"nowrap\">&nbsp;&nbsp;&nbsp;&nbsp;&nbsp;&nbsp;&nbsp;&nbsp;raise&nbsp;UserError(_('Invalid&nbsp;e-mail!'))</td></tr>\n",
              "            <tr><td class=\"diff_next\"></td><td class=\"diff_header\" id=\"from7960_35\">35</td><td nowrap=\"nowrap\"></td><td class=\"diff_next\"></td><td class=\"diff_header\" id=\"to7960_35\">35</td><td nowrap=\"nowrap\"></td></tr>\n",
              "        </tbody>\n",
              "    </table>"
            ],
            "text/plain": [
              "<IPython.core.display.HTML object>"
            ]
          },
          "metadata": {},
          "output_type": "display_data"
        },
        {
          "name": "stdout",
          "output_type": "stream",
          "text": [
            "Message: Modify the author email address\n",
            "\n",
            "Change:\n"
          ]
        },
        {
          "data": {
            "text/html": [
              "\n",
              "    <table class=\"diff\" id=\"difflib_chg_to7961__top\"\n",
              "           cellspacing=\"0\" cellpadding=\"0\" rules=\"groups\" >\n",
              "        <colgroup></colgroup> <colgroup></colgroup> <colgroup></colgroup>\n",
              "        <colgroup></colgroup> <colgroup></colgroup> <colgroup></colgroup>\n",
              "        \n",
              "        <tbody>\n",
              "            <tr><td class=\"diff_next\"><a href=\"#difflib_chg_to7961__0\">f</a></td><td class=\"diff_header\" id=\"from7961_1\">1</td><td nowrap=\"nowrap\">#!/usr/bin/env&nbsp;python</td><td class=\"diff_next\"><a href=\"#difflib_chg_to7961__0\">f</a></td><td class=\"diff_header\" id=\"to7961_1\">1</td><td nowrap=\"nowrap\">#!/usr/bin/env&nbsp;python</td></tr>\n",
              "            <tr><td class=\"diff_next\"></td><td class=\"diff_header\" id=\"from7961_2\">2</td><td nowrap=\"nowrap\">from&nbsp;distutils.core&nbsp;import&nbsp;setup</td><td class=\"diff_next\"></td><td class=\"diff_header\" id=\"to7961_2\">2</td><td nowrap=\"nowrap\">from&nbsp;distutils.core&nbsp;import&nbsp;setup</td></tr>\n",
              "            <tr><td class=\"diff_next\"></td><td class=\"diff_header\" id=\"from7961_3\">3</td><td nowrap=\"nowrap\"></td><td class=\"diff_next\"></td><td class=\"diff_header\" id=\"to7961_3\">3</td><td nowrap=\"nowrap\"></td></tr>\n",
              "            <tr><td class=\"diff_next\"></td><td class=\"diff_header\" id=\"from7961_4\">4</td><td nowrap=\"nowrap\">packages&nbsp;=&nbsp;[</td><td class=\"diff_next\"></td><td class=\"diff_header\" id=\"to7961_4\">4</td><td nowrap=\"nowrap\">packages&nbsp;=&nbsp;[</td></tr>\n",
              "            <tr><td class=\"diff_next\"></td><td class=\"diff_header\" id=\"from7961_5\">5</td><td nowrap=\"nowrap\">&nbsp;&nbsp;&nbsp;&nbsp;'upho',</td><td class=\"diff_next\"></td><td class=\"diff_header\" id=\"to7961_5\">5</td><td nowrap=\"nowrap\">&nbsp;&nbsp;&nbsp;&nbsp;'upho',</td></tr>\n",
              "            <tr><td class=\"diff_next\"></td><td class=\"diff_header\" id=\"from7961_6\">6</td><td nowrap=\"nowrap\">&nbsp;&nbsp;&nbsp;&nbsp;'upho.phonon',</td><td class=\"diff_next\"></td><td class=\"diff_header\" id=\"to7961_6\">6</td><td nowrap=\"nowrap\">&nbsp;&nbsp;&nbsp;&nbsp;'upho.phonon',</td></tr>\n",
              "            <tr><td class=\"diff_next\"></td><td class=\"diff_header\" id=\"from7961_7\">7</td><td nowrap=\"nowrap\">&nbsp;&nbsp;&nbsp;&nbsp;'upho.harmonic',</td><td class=\"diff_next\"></td><td class=\"diff_header\" id=\"to7961_7\">7</td><td nowrap=\"nowrap\">&nbsp;&nbsp;&nbsp;&nbsp;'upho.harmonic',</td></tr>\n",
              "            <tr><td class=\"diff_next\"></td><td class=\"diff_header\" id=\"from7961_8\">8</td><td nowrap=\"nowrap\">&nbsp;&nbsp;&nbsp;&nbsp;'upho.analysis',</td><td class=\"diff_next\"></td><td class=\"diff_header\" id=\"to7961_8\">8</td><td nowrap=\"nowrap\">&nbsp;&nbsp;&nbsp;&nbsp;'upho.analysis',</td></tr>\n",
              "            <tr><td class=\"diff_next\"></td><td class=\"diff_header\" id=\"from7961_9\">9</td><td nowrap=\"nowrap\">&nbsp;&nbsp;&nbsp;&nbsp;'upho.structure',</td><td class=\"diff_next\"></td><td class=\"diff_header\" id=\"to7961_9\">9</td><td nowrap=\"nowrap\">&nbsp;&nbsp;&nbsp;&nbsp;'upho.structure',</td></tr>\n",
              "            <tr><td class=\"diff_next\"></td><td class=\"diff_header\" id=\"from7961_10\">10</td><td nowrap=\"nowrap\">&nbsp;&nbsp;&nbsp;&nbsp;'upho.irreps',</td><td class=\"diff_next\"></td><td class=\"diff_header\" id=\"to7961_10\">10</td><td nowrap=\"nowrap\">&nbsp;&nbsp;&nbsp;&nbsp;'upho.irreps',</td></tr>\n",
              "            <tr><td class=\"diff_next\"></td><td class=\"diff_header\" id=\"from7961_11\">11</td><td nowrap=\"nowrap\">&nbsp;&nbsp;&nbsp;&nbsp;'upho.qpoints',</td><td class=\"diff_next\"></td><td class=\"diff_header\" id=\"to7961_11\">11</td><td nowrap=\"nowrap\">&nbsp;&nbsp;&nbsp;&nbsp;'upho.qpoints',</td></tr>\n",
              "            <tr><td class=\"diff_next\"></td><td class=\"diff_header\" id=\"from7961_12\">12</td><td nowrap=\"nowrap\">&nbsp;&nbsp;&nbsp;&nbsp;'group',</td><td class=\"diff_next\"></td><td class=\"diff_header\" id=\"to7961_12\">12</td><td nowrap=\"nowrap\">&nbsp;&nbsp;&nbsp;&nbsp;'group',</td></tr>\n",
              "            <tr><td class=\"diff_next\"></td><td class=\"diff_header\" id=\"from7961_13\">13</td><td nowrap=\"nowrap\">]</td><td class=\"diff_next\"></td><td class=\"diff_header\" id=\"to7961_13\">13</td><td nowrap=\"nowrap\">]</td></tr>\n",
              "            <tr><td class=\"diff_next\"></td><td class=\"diff_header\" id=\"from7961_14\">14</td><td nowrap=\"nowrap\">scripts&nbsp;=&nbsp;[</td><td class=\"diff_next\"></td><td class=\"diff_header\" id=\"to7961_14\">14</td><td nowrap=\"nowrap\">scripts&nbsp;=&nbsp;[</td></tr>\n",
              "            <tr><td class=\"diff_next\"></td><td class=\"diff_header\" id=\"from7961_15\">15</td><td nowrap=\"nowrap\">&nbsp;&nbsp;&nbsp;&nbsp;'scripts/upho_weights',</td><td class=\"diff_next\"></td><td class=\"diff_header\" id=\"to7961_15\">15</td><td nowrap=\"nowrap\">&nbsp;&nbsp;&nbsp;&nbsp;'scripts/upho_weights',</td></tr>\n",
              "            <tr><td class=\"diff_next\"></td><td class=\"diff_header\" id=\"from7961_16\">16</td><td nowrap=\"nowrap\">&nbsp;&nbsp;&nbsp;&nbsp;'scripts/upho_sf',</td><td class=\"diff_next\"></td><td class=\"diff_header\" id=\"to7961_16\">16</td><td nowrap=\"nowrap\">&nbsp;&nbsp;&nbsp;&nbsp;'scripts/upho_sf',</td></tr>\n",
              "            <tr><td class=\"diff_next\"></td><td class=\"diff_header\" id=\"from7961_17\">17</td><td nowrap=\"nowrap\">&nbsp;&nbsp;&nbsp;&nbsp;'scripts/upho_qpoints',</td><td class=\"diff_next\"></td><td class=\"diff_header\" id=\"to7961_17\">17</td><td nowrap=\"nowrap\">&nbsp;&nbsp;&nbsp;&nbsp;'scripts/upho_qpoints',</td></tr>\n",
              "            <tr><td class=\"diff_next\" id=\"difflib_chg_to7961__0\"></td><td class=\"diff_header\" id=\"from7961_18\">18</td><td nowrap=\"nowrap\">&nbsp;&nbsp;&nbsp;&nbsp;'scripts/upho_fit',</td><td class=\"diff_next\"></td><td class=\"diff_header\" id=\"to7961_18\">18</td><td nowrap=\"nowrap\">&nbsp;&nbsp;&nbsp;&nbsp;'scripts/upho_fit',</td></tr>\n",
              "            <tr><td class=\"diff_next\"></td><td class=\"diff_header\" id=\"from7961_19\">19</td><td nowrap=\"nowrap\">]</td><td class=\"diff_next\"></td><td class=\"diff_header\" id=\"to7961_19\">19</td><td nowrap=\"nowrap\">]</td></tr>\n",
              "            <tr><td class=\"diff_next\"></td><td class=\"diff_header\" id=\"from7961_20\">20</td><td nowrap=\"nowrap\">setup(name='upho',</td><td class=\"diff_next\"></td><td class=\"diff_header\" id=\"to7961_20\">20</td><td nowrap=\"nowrap\">setup(name='upho',</td></tr>\n",
              "            <tr><td class=\"diff_next\"></td><td class=\"diff_header\" id=\"from7961_21\">21</td><td nowrap=\"nowrap\">&nbsp;&nbsp;&nbsp;&nbsp;&nbsp;&nbsp;version='0.5.3',</td><td class=\"diff_next\"></td><td class=\"diff_header\" id=\"to7961_21\">21</td><td nowrap=\"nowrap\">&nbsp;&nbsp;&nbsp;&nbsp;&nbsp;&nbsp;version='0.5.3',</td></tr>\n",
              "            <tr><td class=\"diff_next\"></td><td class=\"diff_header\" id=\"from7961_22\">22</td><td nowrap=\"nowrap\">&nbsp;&nbsp;&nbsp;&nbsp;&nbsp;&nbsp;author=\"Yuji&nbsp;Ikeda\",</td><td class=\"diff_next\"></td><td class=\"diff_header\" id=\"to7961_22\">22</td><td nowrap=\"nowrap\">&nbsp;&nbsp;&nbsp;&nbsp;&nbsp;&nbsp;author=\"Yuji&nbsp;Ikeda\",</td></tr>\n",
              "            <tr><td class=\"diff_next\"><a href=\"#difflib_chg_to7961__top\">t</a></td><td class=\"diff_header\" id=\"from7961_23\">23</td><td nowrap=\"nowrap\"><span class=\"diff_sub\">&nbsp;&nbsp;&nbsp;&nbsp;&nbsp;&nbsp;author_email=\"ikeda.yuji.6m@kyoto-u.ac.jp\",</span></td><td class=\"diff_next\"><a href=\"#difflib_chg_to7961__top\">t</a></td><td class=\"diff_header\" id=\"to7961_23\">23</td><td nowrap=\"nowrap\"><span class=\"diff_add\">&nbsp;&nbsp;&nbsp;&nbsp;&nbsp;&nbsp;author_email=\"y.ikeda@mpie.de\",</span></td></tr>\n",
              "            <tr><td class=\"diff_next\"></td><td class=\"diff_header\" id=\"from7961_24\">24</td><td nowrap=\"nowrap\">&nbsp;&nbsp;&nbsp;&nbsp;&nbsp;&nbsp;packages=packages,</td><td class=\"diff_next\"></td><td class=\"diff_header\" id=\"to7961_24\">24</td><td nowrap=\"nowrap\">&nbsp;&nbsp;&nbsp;&nbsp;&nbsp;&nbsp;packages=packages,</td></tr>\n",
              "            <tr><td class=\"diff_next\"></td><td class=\"diff_header\" id=\"from7961_25\">25</td><td nowrap=\"nowrap\">&nbsp;&nbsp;&nbsp;&nbsp;&nbsp;&nbsp;scripts=scripts,</td><td class=\"diff_next\"></td><td class=\"diff_header\" id=\"to7961_25\">25</td><td nowrap=\"nowrap\">&nbsp;&nbsp;&nbsp;&nbsp;&nbsp;&nbsp;scripts=scripts,</td></tr>\n",
              "            <tr><td class=\"diff_next\"></td><td class=\"diff_header\" id=\"from7961_26\">26</td><td nowrap=\"nowrap\">&nbsp;&nbsp;&nbsp;&nbsp;&nbsp;&nbsp;install_requires=['numpy',&nbsp;'h5py',&nbsp;'phonopy'])</td><td class=\"diff_next\"></td><td class=\"diff_header\" id=\"to7961_26\">26</td><td nowrap=\"nowrap\">&nbsp;&nbsp;&nbsp;&nbsp;&nbsp;&nbsp;install_requires=['numpy',&nbsp;'h5py',&nbsp;'phonopy'])</td></tr>\n",
              "            <tr><td class=\"diff_next\"></td><td class=\"diff_header\" id=\"from7961_27\">27</td><td nowrap=\"nowrap\"></td><td class=\"diff_next\"></td><td class=\"diff_header\" id=\"to7961_27\">27</td><td nowrap=\"nowrap\"></td></tr>\n",
              "        </tbody>\n",
              "    </table>"
            ],
            "text/plain": [
              "<IPython.core.display.HTML object>"
            ]
          },
          "metadata": {},
          "output_type": "display_data"
        },
        {
          "name": "stdout",
          "output_type": "stream",
          "text": [
            "Message: Change the version of the package.\n",
            "Change:\n"
          ]
        },
        {
          "data": {
            "text/html": [
              "\n",
              "    <table class=\"diff\" id=\"difflib_chg_to7962__top\"\n",
              "           cellspacing=\"0\" cellpadding=\"0\" rules=\"groups\" >\n",
              "        <colgroup></colgroup> <colgroup></colgroup> <colgroup></colgroup>\n",
              "        <colgroup></colgroup> <colgroup></colgroup> <colgroup></colgroup>\n",
              "        \n",
              "        <tbody>\n",
              "            <tr><td class=\"diff_next\" id=\"difflib_chg_to7962__0\"><a href=\"#difflib_chg_to7962__0\">f</a></td><td class=\"diff_header\" id=\"from7962_1\">1</td><td nowrap=\"nowrap\"></td><td class=\"diff_next\"><a href=\"#difflib_chg_to7962__0\">f</a></td><td class=\"diff_header\" id=\"to7962_1\">1</td><td nowrap=\"nowrap\"></td></tr>\n",
              "            <tr><td class=\"diff_next\"></td><td class=\"diff_header\" id=\"from7962_2\">2</td><td nowrap=\"nowrap\">from&nbsp;setuptools&nbsp;import&nbsp;setup,&nbsp;find_packages</td><td class=\"diff_next\"></td><td class=\"diff_header\" id=\"to7962_2\">2</td><td nowrap=\"nowrap\">from&nbsp;setuptools&nbsp;import&nbsp;setup,&nbsp;find_packages</td></tr>\n",
              "            <tr><td class=\"diff_next\"></td><td class=\"diff_header\" id=\"from7962_3\">3</td><td nowrap=\"nowrap\">import&nbsp;sys,&nbsp;os</td><td class=\"diff_next\"></td><td class=\"diff_header\" id=\"to7962_3\">3</td><td nowrap=\"nowrap\">import&nbsp;sys,&nbsp;os</td></tr>\n",
              "            <tr><td class=\"diff_next\"></td><td class=\"diff_header\" id=\"from7962_4\">4</td><td nowrap=\"nowrap\"></td><td class=\"diff_next\"></td><td class=\"diff_header\" id=\"to7962_4\">4</td><td nowrap=\"nowrap\"></td></tr>\n",
              "            <tr><td class=\"diff_next\"><a href=\"#difflib_chg_to7962__top\">t</a></td><td class=\"diff_header\" id=\"from7962_5\">5</td><td nowrap=\"nowrap\">version&nbsp;=&nbsp;'1.1.<span class=\"diff_chg\">1</span>'</td><td class=\"diff_next\"><a href=\"#difflib_chg_to7962__top\">t</a></td><td class=\"diff_header\" id=\"to7962_5\">5</td><td nowrap=\"nowrap\">version&nbsp;=&nbsp;'1.1.<span class=\"diff_chg\">2</span>'</td></tr>\n",
              "            <tr><td class=\"diff_next\"></td><td class=\"diff_header\" id=\"from7962_6\">6</td><td nowrap=\"nowrap\"></td><td class=\"diff_next\"></td><td class=\"diff_header\" id=\"to7962_6\">6</td><td nowrap=\"nowrap\"></td></tr>\n",
              "            <tr><td class=\"diff_next\"></td><td class=\"diff_header\" id=\"from7962_7\">7</td><td nowrap=\"nowrap\">setup(</td><td class=\"diff_next\"></td><td class=\"diff_header\" id=\"to7962_7\">7</td><td nowrap=\"nowrap\">setup(</td></tr>\n",
              "            <tr><td class=\"diff_next\"></td><td class=\"diff_header\" id=\"from7962_8\">8</td><td nowrap=\"nowrap\">&nbsp;&nbsp;&nbsp;&nbsp;name&nbsp;=&nbsp;'daprot',</td><td class=\"diff_next\"></td><td class=\"diff_header\" id=\"to7962_8\">8</td><td nowrap=\"nowrap\">&nbsp;&nbsp;&nbsp;&nbsp;name&nbsp;=&nbsp;'daprot',</td></tr>\n",
              "            <tr><td class=\"diff_next\"></td><td class=\"diff_header\" id=\"from7962_9\">9</td><td nowrap=\"nowrap\">&nbsp;&nbsp;&nbsp;&nbsp;version&nbsp;=&nbsp;version,</td><td class=\"diff_next\"></td><td class=\"diff_header\" id=\"to7962_9\">9</td><td nowrap=\"nowrap\">&nbsp;&nbsp;&nbsp;&nbsp;version&nbsp;=&nbsp;version,</td></tr>\n",
              "            <tr><td class=\"diff_next\"></td><td class=\"diff_header\" id=\"from7962_10\">10</td><td nowrap=\"nowrap\">&nbsp;&nbsp;&nbsp;&nbsp;description&nbsp;=&nbsp;\"daprot&nbsp;is&nbsp;a&nbsp;data&nbsp;prototyper&nbsp;and&nbsp;mapper&nbsp;library.\",</td><td class=\"diff_next\"></td><td class=\"diff_header\" id=\"to7962_10\">10</td><td nowrap=\"nowrap\">&nbsp;&nbsp;&nbsp;&nbsp;description&nbsp;=&nbsp;\"daprot&nbsp;is&nbsp;a&nbsp;data&nbsp;prototyper&nbsp;and&nbsp;mapper&nbsp;library.\",</td></tr>\n",
              "            <tr><td class=\"diff_next\"></td><td class=\"diff_header\" id=\"from7962_11\">11</td><td nowrap=\"nowrap\">&nbsp;&nbsp;&nbsp;&nbsp;packages&nbsp;=&nbsp;find_packages(&nbsp;exclude&nbsp;=&nbsp;[&nbsp;'ez_setup']&nbsp;),</td><td class=\"diff_next\"></td><td class=\"diff_header\" id=\"to7962_11\">11</td><td nowrap=\"nowrap\">&nbsp;&nbsp;&nbsp;&nbsp;packages&nbsp;=&nbsp;find_packages(&nbsp;exclude&nbsp;=&nbsp;[&nbsp;'ez_setup']&nbsp;),</td></tr>\n",
              "            <tr><td class=\"diff_next\"></td><td class=\"diff_header\" id=\"from7962_12\">12</td><td nowrap=\"nowrap\">&nbsp;&nbsp;&nbsp;&nbsp;include_package_data&nbsp;=&nbsp;True,</td><td class=\"diff_next\"></td><td class=\"diff_header\" id=\"to7962_12\">12</td><td nowrap=\"nowrap\">&nbsp;&nbsp;&nbsp;&nbsp;include_package_data&nbsp;=&nbsp;True,</td></tr>\n",
              "            <tr><td class=\"diff_next\"></td><td class=\"diff_header\" id=\"from7962_13\">13</td><td nowrap=\"nowrap\">&nbsp;&nbsp;&nbsp;&nbsp;zip_safe&nbsp;=&nbsp;False,</td><td class=\"diff_next\"></td><td class=\"diff_header\" id=\"to7962_13\">13</td><td nowrap=\"nowrap\">&nbsp;&nbsp;&nbsp;&nbsp;zip_safe&nbsp;=&nbsp;False,</td></tr>\n",
              "            <tr><td class=\"diff_next\"></td><td class=\"diff_header\" id=\"from7962_14\">14</td><td nowrap=\"nowrap\">&nbsp;&nbsp;&nbsp;&nbsp;entry_points&nbsp;=&nbsp;{},</td><td class=\"diff_next\"></td><td class=\"diff_header\" id=\"to7962_14\">14</td><td nowrap=\"nowrap\">&nbsp;&nbsp;&nbsp;&nbsp;entry_points&nbsp;=&nbsp;{},</td></tr>\n",
              "            <tr><td class=\"diff_next\"></td><td class=\"diff_header\" id=\"from7962_15\">15</td><td nowrap=\"nowrap\">&nbsp;&nbsp;&nbsp;&nbsp;author&nbsp;=&nbsp;'Bence&nbsp;Faludi',</td><td class=\"diff_next\"></td><td class=\"diff_header\" id=\"to7962_15\">15</td><td nowrap=\"nowrap\">&nbsp;&nbsp;&nbsp;&nbsp;author&nbsp;=&nbsp;'Bence&nbsp;Faludi',</td></tr>\n",
              "            <tr><td class=\"diff_next\"></td><td class=\"diff_header\" id=\"from7962_16\">16</td><td nowrap=\"nowrap\">&nbsp;&nbsp;&nbsp;&nbsp;author_email&nbsp;=&nbsp;'bence@ozmo.hu',</td><td class=\"diff_next\"></td><td class=\"diff_header\" id=\"to7962_16\">16</td><td nowrap=\"nowrap\">&nbsp;&nbsp;&nbsp;&nbsp;author_email&nbsp;=&nbsp;'bence@ozmo.hu',</td></tr>\n",
              "            <tr><td class=\"diff_next\"></td><td class=\"diff_header\" id=\"from7962_17\">17</td><td nowrap=\"nowrap\">&nbsp;&nbsp;&nbsp;&nbsp;license&nbsp;=&nbsp;'GPL',</td><td class=\"diff_next\"></td><td class=\"diff_header\" id=\"to7962_17\">17</td><td nowrap=\"nowrap\">&nbsp;&nbsp;&nbsp;&nbsp;license&nbsp;=&nbsp;'GPL',</td></tr>\n",
              "            <tr><td class=\"diff_next\"></td><td class=\"diff_header\" id=\"from7962_18\">18</td><td nowrap=\"nowrap\">&nbsp;&nbsp;&nbsp;&nbsp;install_requires&nbsp;=&nbsp;[</td><td class=\"diff_next\"></td><td class=\"diff_header\" id=\"to7962_18\">18</td><td nowrap=\"nowrap\">&nbsp;&nbsp;&nbsp;&nbsp;install_requires&nbsp;=&nbsp;[</td></tr>\n",
              "            <tr><td class=\"diff_next\"></td><td class=\"diff_header\" id=\"from7962_19\">19</td><td nowrap=\"nowrap\">&nbsp;&nbsp;&nbsp;&nbsp;&nbsp;&nbsp;&nbsp;&nbsp;'dm',</td><td class=\"diff_next\"></td><td class=\"diff_header\" id=\"to7962_19\">19</td><td nowrap=\"nowrap\">&nbsp;&nbsp;&nbsp;&nbsp;&nbsp;&nbsp;&nbsp;&nbsp;'dm',</td></tr>\n",
              "            <tr><td class=\"diff_next\"></td><td class=\"diff_header\" id=\"from7962_20\">20</td><td nowrap=\"nowrap\">&nbsp;&nbsp;&nbsp;&nbsp;&nbsp;&nbsp;&nbsp;&nbsp;'funcomp',</td><td class=\"diff_next\"></td><td class=\"diff_header\" id=\"to7962_20\">20</td><td nowrap=\"nowrap\">&nbsp;&nbsp;&nbsp;&nbsp;&nbsp;&nbsp;&nbsp;&nbsp;'funcomp',</td></tr>\n",
              "            <tr><td class=\"diff_next\"></td><td class=\"diff_header\" id=\"from7962_21\">21</td><td nowrap=\"nowrap\">&nbsp;&nbsp;&nbsp;&nbsp;],</td><td class=\"diff_next\"></td><td class=\"diff_header\" id=\"to7962_21\">21</td><td nowrap=\"nowrap\">&nbsp;&nbsp;&nbsp;&nbsp;],</td></tr>\n",
              "            <tr><td class=\"diff_next\"></td><td class=\"diff_header\" id=\"from7962_22\">22</td><td nowrap=\"nowrap\">&nbsp;&nbsp;&nbsp;&nbsp;test_suite&nbsp;=&nbsp;\"daprot.tests\"</td><td class=\"diff_next\"></td><td class=\"diff_header\" id=\"to7962_22\">22</td><td nowrap=\"nowrap\">&nbsp;&nbsp;&nbsp;&nbsp;test_suite&nbsp;=&nbsp;\"daprot.tests\"</td></tr>\n",
              "            <tr><td class=\"diff_next\"></td><td class=\"diff_header\" id=\"from7962_23\">23</td><td nowrap=\"nowrap\">)</td><td class=\"diff_next\"></td><td class=\"diff_header\" id=\"to7962_23\">23</td><td nowrap=\"nowrap\">)</td></tr>\n",
              "            <tr><td class=\"diff_next\"></td><td class=\"diff_header\" id=\"from7962_24\">24</td><td nowrap=\"nowrap\"></td><td class=\"diff_next\"></td><td class=\"diff_header\" id=\"to7962_24\">24</td><td nowrap=\"nowrap\"></td></tr>\n",
              "        </tbody>\n",
              "    </table>"
            ],
            "text/plain": [
              "<IPython.core.display.HTML object>"
            ]
          },
          "metadata": {},
          "output_type": "display_data"
        }
      ],
      "source": [
        "from IPython.display import display, HTML\n",
        "from difflib import HtmlDiff\n",
        "\n",
        "for i in range(10):\n",
        "    sample = train_data[\"train\"][i]\n",
        "    old_lines = sample[\"old_contents\"].split(\"\\n\")\n",
        "    new_lines = sample[\"new_contents\"].split(\"\\n\")\n",
        "    differ = HtmlDiff()\n",
        "    print(\"Message:\", sample[\"message\"])\n",
        "    print(\"Change:\")\n",
        "    display(HTML(differ.make_table(old_lines, new_lines)))\n"
      ]
    },
    {
      "cell_type": "markdown",
      "metadata": {
        "id": "ILjHlcVEYIpL"
      },
      "source": [
        "As can be seen in these sample, commit messages almost always don't uniquely determine the change that was made, and they are not intended to do so, because their main function is to differentiate commits inside one repository, which is much easier. So given such quality of training data, it is not very surprising that OctoCoder and other models using this dataset cannot beat even the models trained on the outputs of OpenAI models.\n",
        "\n",
        "Actually, what they can learn at all from such messages as \"revert ... this reverts commit ...\" is a more interesting question. Seems like a good example for [the claim](https://aclanthology.org/2022.naacl-main.167.pdf) that prompts in instruction tuning don't work the same way as instructions for humans."
      ]
    },
    {
      "cell_type": "markdown",
      "metadata": {
        "id": "jzn7aZGUQoNs"
      },
      "source": [
        "# Evaluating `Refact-1.6B`\n",
        "\n",
        "I'm following the instructions from [Octopack repository](https://github.com/bigcode-project/octopack/tree/main#evaluation) here, though changed the way to configurate `accelerate`, because Colab doesn't allow console input."
      ]
    },
    {
      "cell_type": "code",
      "execution_count": null,
      "metadata": {
        "id": "YBS7oKH39Bwc"
      },
      "outputs": [],
      "source": [
        "!git clone https://github.com/bigcode-project/bigcode-evaluation-harness\n",
        "os.chdir(\"bigcode-evaluation-harness\")\n",
        "!pip install -q -r requirements.txt\n",
        "!python -c \"from accelerate.utils import write_basic_config; write_basic_config(mixed_precision='fp16')\""
      ]
    },
    {
      "cell_type": "markdown",
      "metadata": {
        "id": "XJ3lTYrYGjyw"
      },
      "source": [
        "The evaluation was very slow, so I reduced the number of `n_samples` (for beam search, probably) from $20$ to $5$."
      ]
    },
    {
      "cell_type": "code",
      "execution_count": 6,
      "metadata": {
        "colab": {
          "base_uri": "https://localhost:8080/"
        },
        "id": "5N_kvmfCEWR3",
        "outputId": "65692443-33b2-4609-8a0b-3b2028b7aef4"
      },
      "outputs": [
        {
          "name": "stdout",
          "output_type": "stream",
          "text": [
            "2023-11-13 08:52:38.818514: E tensorflow/compiler/xla/stream_executor/cuda/cuda_dnn.cc:9342] Unable to register cuDNN factory: Attempting to register factory for plugin cuDNN when one has already been registered\n",
            "2023-11-13 08:52:38.818565: E tensorflow/compiler/xla/stream_executor/cuda/cuda_fft.cc:609] Unable to register cuFFT factory: Attempting to register factory for plugin cuFFT when one has already been registered\n",
            "2023-11-13 08:52:38.818615: E tensorflow/compiler/xla/stream_executor/cuda/cuda_blas.cc:1518] Unable to register cuBLAS factory: Attempting to register factory for plugin cuBLAS when one has already been registered\n",
            "2023-11-13 08:52:40.107724: W tensorflow/compiler/tf2tensorrt/utils/py_utils.cc:38] TF-TRT Warning: Could not find TensorRT\n",
            "Selected Tasks: ['humanevalfixtests-python']\n",
            "Loading model in bf16\n",
            "/usr/local/lib/python3.10/dist-packages/transformers/models/auto/auto_factory.py:472: FutureWarning: The `use_auth_token` argument is deprecated and will be removed in v5 of Transformers. Please use `token` instead.\n",
            "  warnings.warn(\n",
            "/usr/local/lib/python3.10/dist-packages/transformers/utils/hub.py:374: FutureWarning: The `use_auth_token` argument is deprecated and will be removed in v5 of Transformers. Please use `token` instead.\n",
            "  warnings.warn(\n",
            "/usr/local/lib/python3.10/dist-packages/transformers/models/auto/tokenization_auto.py:671: FutureWarning: The `use_auth_token` argument is deprecated and will be removed in v5 of Transformers. Please use `token` instead.\n",
            "  warnings.warn(\n",
            "number of problems for this task is 164\n",
            "100% 164/164 [45:06<00:00, 16.50s/it]\n",
            "/content/bigcode-evaluation-harness/bigcode_eval/evaluator.py:66: UserWarning: Number of tasks wasn't proportional to number of devices, we removed extra predictions to only keep nsamples=4\n",
            "  warnings.warn(\n",
            "generations were saved at generations_humanevalfixpython_octocoder.json\n",
            "Evaluating generations...\n",
            "Downloading builder script: 100% 7.92k/7.92k [00:00<00:00, 22.6MB/s]\n",
            "Downloading extra modules: 100% 13.0k/13.0k [00:00<00:00, 30.7MB/s]\n",
            "{\n",
            "  \"humanevalfixtests-python\": {\n",
            "    \"pass@1\": 0.09603658536585366\n",
            "  },\n",
            "  \"config\": {\n",
            "    \"prefix\": \"\",\n",
            "    \"do_sample\": true,\n",
            "    \"temperature\": 0.2,\n",
            "    \"top_k\": 0,\n",
            "    \"top_p\": 0.95,\n",
            "    \"n_samples\": 4,\n",
            "    \"eos\": \"<|endoftext|>\",\n",
            "    \"seed\": 0,\n",
            "    \"model\": \"smallcloudai/Refact-1_6B-fim\",\n",
            "    \"modeltype\": \"causal\",\n",
            "    \"peft_model\": null,\n",
            "    \"revision\": null,\n",
            "    \"use_auth_token\": false,\n",
            "    \"trust_remote_code\": true,\n",
            "    \"tasks\": \"humanevalfixtests-python\",\n",
            "    \"instruction_tokens\": null,\n",
            "    \"batch_size\": 5,\n",
            "    \"max_length_generation\": 2048,\n",
            "    \"precision\": \"bf16\",\n",
            "    \"load_in_8bit\": false,\n",
            "    \"load_in_4bit\": false,\n",
            "    \"limit\": null,\n",
            "    \"limit_start\": 0,\n",
            "    \"postprocess\": true,\n",
            "    \"allow_code_execution\": true,\n",
            "    \"generation_only\": false,\n",
            "    \"load_generations_path\": null,\n",
            "    \"load_data_path\": null,\n",
            "    \"metric_output_path\": \"evaluation_humanevalfixpython_octocoder.json\",\n",
            "    \"save_generations\": true,\n",
            "    \"save_generations_path\": \"generations_humanevalfixpython_octocoder.json\",\n",
            "    \"save_references\": false,\n",
            "    \"prompt\": \"octocoder\",\n",
            "    \"max_memory_per_gpu\": null,\n",
            "    \"check_references\": false\n",
            "  }\n",
            "}\n"
          ]
        }
      ],
      "source": [
        "!accelerate launch main.py \\\n",
        "--model smallcloudai/Refact-1_6B-fim  \\\n",
        "--tasks humanevalfixtests-python \\\n",
        "--do_sample True \\\n",
        "--temperature 0.2 \\\n",
        "--n_samples 4 \\\n",
        "--batch_size 5 \\\n",
        "--allow_code_execution \\\n",
        "--save_generations \\\n",
        "--trust_remote_code \\\n",
        "--prompt octocoder \\\n",
        "--save_generations_path generations_humanevalfixpython_octocoder.json \\\n",
        "--metric_output_path evaluation_humanevalfixpython_octocoder.json \\\n",
        "--max_length_generation 2048 \\\n",
        "--precision bf16"
      ]
    },
    {
      "cell_type": "markdown",
      "metadata": {
        "id": "wymS_3-xG7cz"
      },
      "source": [
        "As we see, in this setting it achieved $9\\%$ pass@1. [The authors](https://huggingface.co/smallcloudai/Refact-1_6B-fim) claim $18\\%$ for \"pass@1 (T=0.2) on HumanEvalFixTests Python\", but maybe they used different prompt/configuration. Let's inspect some generations. Most of them simply copy the buggy solution, which is not interesting, so I will filter the remaining ones."
      ]
    },
    {
      "cell_type": "code",
      "execution_count": 65,
      "metadata": {
        "colab": {
          "base_uri": "https://localhost:8080/",
          "height": 1000
        },
        "id": "_PqaqLJnHtY6",
        "outputId": "4b7f2910-37c1-43bf-c29f-7755e6aa2046"
      },
      "outputs": [
        {
          "name": "stdout",
          "output_type": "stream",
          "text": [
            "Task #0:"
          ]
        },
        {
          "data": {
            "text/html": [
              "<span style=\"background-color:pink;\">Same as buggy</span>"
            ],
            "text/plain": [
              "<IPython.core.display.HTML object>"
            ]
          },
          "metadata": {},
          "output_type": "display_data"
        },
        {
          "name": "stdout",
          "output_type": "stream",
          "text": [
            "Task #1:"
          ]
        },
        {
          "data": {
            "text/html": [
              "<span style=\"background-color:pink;\">Same as buggy</span>"
            ],
            "text/plain": [
              "<IPython.core.display.HTML object>"
            ]
          },
          "metadata": {},
          "output_type": "display_data"
        },
        {
          "name": "stdout",
          "output_type": "stream",
          "text": [
            "Task #2:"
          ]
        },
        {
          "data": {
            "text/html": [
              "<span style=\"background-color:pink;\">Same as buggy</span>"
            ],
            "text/plain": [
              "<IPython.core.display.HTML object>"
            ]
          },
          "metadata": {},
          "output_type": "display_data"
        },
        {
          "name": "stdout",
          "output_type": "stream",
          "text": [
            "Task #3:"
          ]
        },
        {
          "data": {
            "text/html": [
              "<span style=\"background-color:lime;\">Same as correct</span>"
            ],
            "text/plain": [
              "<IPython.core.display.HTML object>"
            ]
          },
          "metadata": {},
          "output_type": "display_data"
        },
        {
          "name": "stdout",
          "output_type": "stream",
          "text": [
            "Task #4:"
          ]
        },
        {
          "data": {
            "text/html": [
              "<span style=\"background-color:pink;\">Same as buggy</span>"
            ],
            "text/plain": [
              "<IPython.core.display.HTML object>"
            ]
          },
          "metadata": {},
          "output_type": "display_data"
        },
        {
          "name": "stdout",
          "output_type": "stream",
          "text": [
            "Task #5:"
          ]
        },
        {
          "data": {
            "text/html": [
              "<span style=\"background-color:lime;\">Same as correct</span>"
            ],
            "text/plain": [
              "<IPython.core.display.HTML object>"
            ]
          },
          "metadata": {},
          "output_type": "display_data"
        },
        {
          "name": "stdout",
          "output_type": "stream",
          "text": [
            "Task #6:"
          ]
        },
        {
          "data": {
            "text/html": [
              "<span style=\"background-color:pink;\">Same as buggy</span>"
            ],
            "text/plain": [
              "<IPython.core.display.HTML object>"
            ]
          },
          "metadata": {},
          "output_type": "display_data"
        },
        {
          "name": "stdout",
          "output_type": "stream",
          "text": [
            "Task #7:"
          ]
        },
        {
          "data": {
            "text/html": [
              "<span style=\"background-color:pink;\">Same as buggy</span>"
            ],
            "text/plain": [
              "<IPython.core.display.HTML object>"
            ]
          },
          "metadata": {},
          "output_type": "display_data"
        },
        {
          "name": "stdout",
          "output_type": "stream",
          "text": [
            "Task #8:"
          ]
        },
        {
          "data": {
            "text/html": [
              "<span style=\"background-color:lime;\">Same as correct</span>"
            ],
            "text/plain": [
              "<IPython.core.display.HTML object>"
            ]
          },
          "metadata": {},
          "output_type": "display_data"
        },
        {
          "name": "stdout",
          "output_type": "stream",
          "text": [
            "Task #9:"
          ]
        },
        {
          "data": {
            "text/html": [
              "<span style=\"background-color:aqua;\">Interesting!</span>"
            ],
            "text/plain": [
              "<IPython.core.display.HTML object>"
            ]
          },
          "metadata": {},
          "output_type": "display_data"
        },
        {
          "name": "stdout",
          "output_type": "stream",
          "text": [
            "Generated solution:\n"
          ]
        },
        {
          "data": {
            "text/html": [
              "<style>pre { line-height: 125%; }\n",
              "td.linenos .normal { color: inherit; background-color: transparent; padding-left: 5px; padding-right: 5px; }\n",
              "span.linenos { color: inherit; background-color: transparent; padding-left: 5px; padding-right: 5px; }\n",
              "td.linenos .special { color: #000000; background-color: #ffffc0; padding-left: 5px; padding-right: 5px; }\n",
              "span.linenos.special { color: #000000; background-color: #ffffc0; padding-left: 5px; padding-right: 5px; }\n",
              ".output_html .hll { background-color: #ffffcc }\n",
              ".output_html { background: #f8f8f8; }\n",
              ".output_html .c { color: #3D7B7B; font-style: italic } /* Comment */\n",
              ".output_html .err { border: 1px solid #FF0000 } /* Error */\n",
              ".output_html .k { color: #008000; font-weight: bold } /* Keyword */\n",
              ".output_html .o { color: #666666 } /* Operator */\n",
              ".output_html .ch { color: #3D7B7B; font-style: italic } /* Comment.Hashbang */\n",
              ".output_html .cm { color: #3D7B7B; font-style: italic } /* Comment.Multiline */\n",
              ".output_html .cp { color: #9C6500 } /* Comment.Preproc */\n",
              ".output_html .cpf { color: #3D7B7B; font-style: italic } /* Comment.PreprocFile */\n",
              ".output_html .c1 { color: #3D7B7B; font-style: italic } /* Comment.Single */\n",
              ".output_html .cs { color: #3D7B7B; font-style: italic } /* Comment.Special */\n",
              ".output_html .gd { color: #A00000 } /* Generic.Deleted */\n",
              ".output_html .ge { font-style: italic } /* Generic.Emph */\n",
              ".output_html .ges { font-weight: bold; font-style: italic } /* Generic.EmphStrong */\n",
              ".output_html .gr { color: #E40000 } /* Generic.Error */\n",
              ".output_html .gh { color: #000080; font-weight: bold } /* Generic.Heading */\n",
              ".output_html .gi { color: #008400 } /* Generic.Inserted */\n",
              ".output_html .go { color: #717171 } /* Generic.Output */\n",
              ".output_html .gp { color: #000080; font-weight: bold } /* Generic.Prompt */\n",
              ".output_html .gs { font-weight: bold } /* Generic.Strong */\n",
              ".output_html .gu { color: #800080; font-weight: bold } /* Generic.Subheading */\n",
              ".output_html .gt { color: #0044DD } /* Generic.Traceback */\n",
              ".output_html .kc { color: #008000; font-weight: bold } /* Keyword.Constant */\n",
              ".output_html .kd { color: #008000; font-weight: bold } /* Keyword.Declaration */\n",
              ".output_html .kn { color: #008000; font-weight: bold } /* Keyword.Namespace */\n",
              ".output_html .kp { color: #008000 } /* Keyword.Pseudo */\n",
              ".output_html .kr { color: #008000; font-weight: bold } /* Keyword.Reserved */\n",
              ".output_html .kt { color: #B00040 } /* Keyword.Type */\n",
              ".output_html .m { color: #666666 } /* Literal.Number */\n",
              ".output_html .s { color: #BA2121 } /* Literal.String */\n",
              ".output_html .na { color: #687822 } /* Name.Attribute */\n",
              ".output_html .nb { color: #008000 } /* Name.Builtin */\n",
              ".output_html .nc { color: #0000FF; font-weight: bold } /* Name.Class */\n",
              ".output_html .no { color: #880000 } /* Name.Constant */\n",
              ".output_html .nd { color: #AA22FF } /* Name.Decorator */\n",
              ".output_html .ni { color: #717171; font-weight: bold } /* Name.Entity */\n",
              ".output_html .ne { color: #CB3F38; font-weight: bold } /* Name.Exception */\n",
              ".output_html .nf { color: #0000FF } /* Name.Function */\n",
              ".output_html .nl { color: #767600 } /* Name.Label */\n",
              ".output_html .nn { color: #0000FF; font-weight: bold } /* Name.Namespace */\n",
              ".output_html .nt { color: #008000; font-weight: bold } /* Name.Tag */\n",
              ".output_html .nv { color: #19177C } /* Name.Variable */\n",
              ".output_html .ow { color: #AA22FF; font-weight: bold } /* Operator.Word */\n",
              ".output_html .w { color: #bbbbbb } /* Text.Whitespace */\n",
              ".output_html .mb { color: #666666 } /* Literal.Number.Bin */\n",
              ".output_html .mf { color: #666666 } /* Literal.Number.Float */\n",
              ".output_html .mh { color: #666666 } /* Literal.Number.Hex */\n",
              ".output_html .mi { color: #666666 } /* Literal.Number.Integer */\n",
              ".output_html .mo { color: #666666 } /* Literal.Number.Oct */\n",
              ".output_html .sa { color: #BA2121 } /* Literal.String.Affix */\n",
              ".output_html .sb { color: #BA2121 } /* Literal.String.Backtick */\n",
              ".output_html .sc { color: #BA2121 } /* Literal.String.Char */\n",
              ".output_html .dl { color: #BA2121 } /* Literal.String.Delimiter */\n",
              ".output_html .sd { color: #BA2121; font-style: italic } /* Literal.String.Doc */\n",
              ".output_html .s2 { color: #BA2121 } /* Literal.String.Double */\n",
              ".output_html .se { color: #AA5D1F; font-weight: bold } /* Literal.String.Escape */\n",
              ".output_html .sh { color: #BA2121 } /* Literal.String.Heredoc */\n",
              ".output_html .si { color: #A45A77; font-weight: bold } /* Literal.String.Interpol */\n",
              ".output_html .sx { color: #008000 } /* Literal.String.Other */\n",
              ".output_html .sr { color: #A45A77 } /* Literal.String.Regex */\n",
              ".output_html .s1 { color: #BA2121 } /* Literal.String.Single */\n",
              ".output_html .ss { color: #19177C } /* Literal.String.Symbol */\n",
              ".output_html .bp { color: #008000 } /* Name.Builtin.Pseudo */\n",
              ".output_html .fm { color: #0000FF } /* Name.Function.Magic */\n",
              ".output_html .vc { color: #19177C } /* Name.Variable.Class */\n",
              ".output_html .vg { color: #19177C } /* Name.Variable.Global */\n",
              ".output_html .vi { color: #19177C } /* Name.Variable.Instance */\n",
              ".output_html .vm { color: #19177C } /* Name.Variable.Magic */\n",
              ".output_html .il { color: #666666 } /* Literal.Number.Integer.Long */</style><div class=\"highlight\"><pre><span></span><span class=\"kn\">from</span> <span class=\"nn\">typing</span> <span class=\"kn\">import</span> <span class=\"n\">List</span><span class=\"p\">,</span> <span class=\"n\">Tuple</span>\n",
              "\n",
              "\n",
              "<span class=\"k\">def</span> <span class=\"nf\">rolling_max</span><span class=\"p\">(</span><span class=\"n\">numbers</span><span class=\"p\">:</span> <span class=\"n\">List</span><span class=\"p\">[</span><span class=\"nb\">int</span><span class=\"p\">])</span> <span class=\"o\">-&gt;</span> <span class=\"n\">List</span><span class=\"p\">[</span><span class=\"nb\">int</span><span class=\"p\">]:</span>\n",
              "    <span class=\"k\">if</span> <span class=\"ow\">not</span> <span class=\"n\">numbers</span><span class=\"p\">:</span>\n",
              "        <span class=\"k\">return</span> <span class=\"p\">[]</span>\n",
              "\n",
              "    <span class=\"n\">running_max</span> <span class=\"o\">=</span> <span class=\"n\">numbers</span><span class=\"p\">[</span><span class=\"mi\">0</span><span class=\"p\">]</span>\n",
              "    <span class=\"n\">result</span> <span class=\"o\">=</span> <span class=\"p\">[</span><span class=\"n\">running_max</span><span class=\"p\">]</span>\n",
              "\n",
              "    <span class=\"k\">for</span> <span class=\"n\">n</span> <span class=\"ow\">in</span> <span class=\"n\">numbers</span><span class=\"p\">[</span><span class=\"mi\">1</span><span class=\"p\">:]:</span>\n",
              "        <span class=\"k\">if</span> <span class=\"n\">n</span> <span class=\"o\">&gt;</span> <span class=\"n\">running_max</span><span class=\"p\">:</span>\n",
              "            <span class=\"n\">running_max</span> <span class=\"o\">=</span> <span class=\"n\">n</span>\n",
              "        <span class=\"k\">else</span><span class=\"p\">:</span>\n",
              "            <span class=\"n\">running_max</span> <span class=\"o\">=</span> <span class=\"n\">running_max</span>\n",
              "\n",
              "    <span class=\"k\">return</span> <span class=\"n\">result</span>\n",
              "</pre></div>\n"
            ],
            "text/latex": [
              "\\begin{Verbatim}[commandchars=\\\\\\{\\}]\n",
              "\\PY{k+kn}{from} \\PY{n+nn}{typing} \\PY{k+kn}{import} \\PY{n}{List}\\PY{p}{,} \\PY{n}{Tuple}\n",
              "\n",
              "\n",
              "\\PY{k}{def} \\PY{n+nf}{rolling\\PYZus{}max}\\PY{p}{(}\\PY{n}{numbers}\\PY{p}{:} \\PY{n}{List}\\PY{p}{[}\\PY{n+nb}{int}\\PY{p}{]}\\PY{p}{)} \\PY{o}{\\PYZhy{}}\\PY{o}{\\PYZgt{}} \\PY{n}{List}\\PY{p}{[}\\PY{n+nb}{int}\\PY{p}{]}\\PY{p}{:}\n",
              "    \\PY{k}{if} \\PY{o+ow}{not} \\PY{n}{numbers}\\PY{p}{:}\n",
              "        \\PY{k}{return} \\PY{p}{[}\\PY{p}{]}\n",
              "\n",
              "    \\PY{n}{running\\PYZus{}max} \\PY{o}{=} \\PY{n}{numbers}\\PY{p}{[}\\PY{l+m+mi}{0}\\PY{p}{]}\n",
              "    \\PY{n}{result} \\PY{o}{=} \\PY{p}{[}\\PY{n}{running\\PYZus{}max}\\PY{p}{]}\n",
              "\n",
              "    \\PY{k}{for} \\PY{n}{n} \\PY{o+ow}{in} \\PY{n}{numbers}\\PY{p}{[}\\PY{l+m+mi}{1}\\PY{p}{:}\\PY{p}{]}\\PY{p}{:}\n",
              "        \\PY{k}{if} \\PY{n}{n} \\PY{o}{\\PYZgt{}} \\PY{n}{running\\PYZus{}max}\\PY{p}{:}\n",
              "            \\PY{n}{running\\PYZus{}max} \\PY{o}{=} \\PY{n}{n}\n",
              "        \\PY{k}{else}\\PY{p}{:}\n",
              "            \\PY{n}{running\\PYZus{}max} \\PY{o}{=} \\PY{n}{running\\PYZus{}max}\n",
              "\n",
              "    \\PY{k}{return} \\PY{n}{result}\n",
              "\\end{Verbatim}\n"
            ],
            "text/plain": [
              "from typing import List, Tuple\n",
              "\n",
              "\n",
              "def rolling_max(numbers: List[int]) -> List[int]:\n",
              "    if not numbers:\n",
              "        return []\n",
              "\n",
              "    running_max = numbers[0]\n",
              "    result = [running_max]\n",
              "\n",
              "    for n in numbers[1:]:\n",
              "        if n > running_max:\n",
              "            running_max = n\n",
              "        else:\n",
              "            running_max = running_max\n",
              "\n",
              "    return result"
            ]
          },
          "metadata": {},
          "output_type": "display_data"
        },
        {
          "name": "stdout",
          "output_type": "stream",
          "text": [
            "Buggy solution:\n"
          ]
        },
        {
          "data": {
            "text/html": [
              "<style>pre { line-height: 125%; }\n",
              "td.linenos .normal { color: inherit; background-color: transparent; padding-left: 5px; padding-right: 5px; }\n",
              "span.linenos { color: inherit; background-color: transparent; padding-left: 5px; padding-right: 5px; }\n",
              "td.linenos .special { color: #000000; background-color: #ffffc0; padding-left: 5px; padding-right: 5px; }\n",
              "span.linenos.special { color: #000000; background-color: #ffffc0; padding-left: 5px; padding-right: 5px; }\n",
              ".output_html .hll { background-color: #ffffcc }\n",
              ".output_html { background: #f8f8f8; }\n",
              ".output_html .c { color: #3D7B7B; font-style: italic } /* Comment */\n",
              ".output_html .err { border: 1px solid #FF0000 } /* Error */\n",
              ".output_html .k { color: #008000; font-weight: bold } /* Keyword */\n",
              ".output_html .o { color: #666666 } /* Operator */\n",
              ".output_html .ch { color: #3D7B7B; font-style: italic } /* Comment.Hashbang */\n",
              ".output_html .cm { color: #3D7B7B; font-style: italic } /* Comment.Multiline */\n",
              ".output_html .cp { color: #9C6500 } /* Comment.Preproc */\n",
              ".output_html .cpf { color: #3D7B7B; font-style: italic } /* Comment.PreprocFile */\n",
              ".output_html .c1 { color: #3D7B7B; font-style: italic } /* Comment.Single */\n",
              ".output_html .cs { color: #3D7B7B; font-style: italic } /* Comment.Special */\n",
              ".output_html .gd { color: #A00000 } /* Generic.Deleted */\n",
              ".output_html .ge { font-style: italic } /* Generic.Emph */\n",
              ".output_html .ges { font-weight: bold; font-style: italic } /* Generic.EmphStrong */\n",
              ".output_html .gr { color: #E40000 } /* Generic.Error */\n",
              ".output_html .gh { color: #000080; font-weight: bold } /* Generic.Heading */\n",
              ".output_html .gi { color: #008400 } /* Generic.Inserted */\n",
              ".output_html .go { color: #717171 } /* Generic.Output */\n",
              ".output_html .gp { color: #000080; font-weight: bold } /* Generic.Prompt */\n",
              ".output_html .gs { font-weight: bold } /* Generic.Strong */\n",
              ".output_html .gu { color: #800080; font-weight: bold } /* Generic.Subheading */\n",
              ".output_html .gt { color: #0044DD } /* Generic.Traceback */\n",
              ".output_html .kc { color: #008000; font-weight: bold } /* Keyword.Constant */\n",
              ".output_html .kd { color: #008000; font-weight: bold } /* Keyword.Declaration */\n",
              ".output_html .kn { color: #008000; font-weight: bold } /* Keyword.Namespace */\n",
              ".output_html .kp { color: #008000 } /* Keyword.Pseudo */\n",
              ".output_html .kr { color: #008000; font-weight: bold } /* Keyword.Reserved */\n",
              ".output_html .kt { color: #B00040 } /* Keyword.Type */\n",
              ".output_html .m { color: #666666 } /* Literal.Number */\n",
              ".output_html .s { color: #BA2121 } /* Literal.String */\n",
              ".output_html .na { color: #687822 } /* Name.Attribute */\n",
              ".output_html .nb { color: #008000 } /* Name.Builtin */\n",
              ".output_html .nc { color: #0000FF; font-weight: bold } /* Name.Class */\n",
              ".output_html .no { color: #880000 } /* Name.Constant */\n",
              ".output_html .nd { color: #AA22FF } /* Name.Decorator */\n",
              ".output_html .ni { color: #717171; font-weight: bold } /* Name.Entity */\n",
              ".output_html .ne { color: #CB3F38; font-weight: bold } /* Name.Exception */\n",
              ".output_html .nf { color: #0000FF } /* Name.Function */\n",
              ".output_html .nl { color: #767600 } /* Name.Label */\n",
              ".output_html .nn { color: #0000FF; font-weight: bold } /* Name.Namespace */\n",
              ".output_html .nt { color: #008000; font-weight: bold } /* Name.Tag */\n",
              ".output_html .nv { color: #19177C } /* Name.Variable */\n",
              ".output_html .ow { color: #AA22FF; font-weight: bold } /* Operator.Word */\n",
              ".output_html .w { color: #bbbbbb } /* Text.Whitespace */\n",
              ".output_html .mb { color: #666666 } /* Literal.Number.Bin */\n",
              ".output_html .mf { color: #666666 } /* Literal.Number.Float */\n",
              ".output_html .mh { color: #666666 } /* Literal.Number.Hex */\n",
              ".output_html .mi { color: #666666 } /* Literal.Number.Integer */\n",
              ".output_html .mo { color: #666666 } /* Literal.Number.Oct */\n",
              ".output_html .sa { color: #BA2121 } /* Literal.String.Affix */\n",
              ".output_html .sb { color: #BA2121 } /* Literal.String.Backtick */\n",
              ".output_html .sc { color: #BA2121 } /* Literal.String.Char */\n",
              ".output_html .dl { color: #BA2121 } /* Literal.String.Delimiter */\n",
              ".output_html .sd { color: #BA2121; font-style: italic } /* Literal.String.Doc */\n",
              ".output_html .s2 { color: #BA2121 } /* Literal.String.Double */\n",
              ".output_html .se { color: #AA5D1F; font-weight: bold } /* Literal.String.Escape */\n",
              ".output_html .sh { color: #BA2121 } /* Literal.String.Heredoc */\n",
              ".output_html .si { color: #A45A77; font-weight: bold } /* Literal.String.Interpol */\n",
              ".output_html .sx { color: #008000 } /* Literal.String.Other */\n",
              ".output_html .sr { color: #A45A77 } /* Literal.String.Regex */\n",
              ".output_html .s1 { color: #BA2121 } /* Literal.String.Single */\n",
              ".output_html .ss { color: #19177C } /* Literal.String.Symbol */\n",
              ".output_html .bp { color: #008000 } /* Name.Builtin.Pseudo */\n",
              ".output_html .fm { color: #0000FF } /* Name.Function.Magic */\n",
              ".output_html .vc { color: #19177C } /* Name.Variable.Class */\n",
              ".output_html .vg { color: #19177C } /* Name.Variable.Global */\n",
              ".output_html .vi { color: #19177C } /* Name.Variable.Instance */\n",
              ".output_html .vm { color: #19177C } /* Name.Variable.Magic */\n",
              ".output_html .il { color: #666666 } /* Literal.Number.Integer.Long */</style><div class=\"highlight\"><pre><span></span>    <span class=\"n\">running_max</span> <span class=\"o\">=</span> <span class=\"kc\">None</span>\n",
              "    <span class=\"n\">result</span> <span class=\"o\">=</span> <span class=\"p\">[]</span>\n",
              "\n",
              "    <span class=\"k\">for</span> <span class=\"n\">n</span> <span class=\"ow\">in</span> <span class=\"n\">numbers</span><span class=\"p\">:</span>\n",
              "        <span class=\"k\">if</span> <span class=\"n\">running_max</span> <span class=\"ow\">is</span> <span class=\"kc\">None</span><span class=\"p\">:</span>\n",
              "            <span class=\"n\">running_max</span> <span class=\"o\">=</span> <span class=\"n\">n</span>\n",
              "        <span class=\"k\">else</span><span class=\"p\">:</span>\n",
              "            <span class=\"n\">running_max</span> <span class=\"o\">=</span> <span class=\"nb\">max</span><span class=\"p\">(</span><span class=\"n\">numbers</span><span class=\"p\">)</span>\n",
              "\n",
              "        <span class=\"n\">result</span><span class=\"o\">.</span><span class=\"n\">append</span><span class=\"p\">(</span><span class=\"n\">running_max</span><span class=\"p\">)</span>\n",
              "\n",
              "    <span class=\"k\">return</span> <span class=\"n\">result</span>\n",
              "</pre></div>\n"
            ],
            "text/latex": [
              "\\begin{Verbatim}[commandchars=\\\\\\{\\}]\n",
              "    \\PY{n}{running\\PYZus{}max} \\PY{o}{=} \\PY{k+kc}{None}\n",
              "    \\PY{n}{result} \\PY{o}{=} \\PY{p}{[}\\PY{p}{]}\n",
              "\n",
              "    \\PY{k}{for} \\PY{n}{n} \\PY{o+ow}{in} \\PY{n}{numbers}\\PY{p}{:}\n",
              "        \\PY{k}{if} \\PY{n}{running\\PYZus{}max} \\PY{o+ow}{is} \\PY{k+kc}{None}\\PY{p}{:}\n",
              "            \\PY{n}{running\\PYZus{}max} \\PY{o}{=} \\PY{n}{n}\n",
              "        \\PY{k}{else}\\PY{p}{:}\n",
              "            \\PY{n}{running\\PYZus{}max} \\PY{o}{=} \\PY{n+nb}{max}\\PY{p}{(}\\PY{n}{numbers}\\PY{p}{)}\n",
              "\n",
              "        \\PY{n}{result}\\PY{o}{.}\\PY{n}{append}\\PY{p}{(}\\PY{n}{running\\PYZus{}max}\\PY{p}{)}\n",
              "\n",
              "    \\PY{k}{return} \\PY{n}{result}\n",
              "\\end{Verbatim}\n"
            ],
            "text/plain": [
              "    running_max = None\n",
              "    result = []\n",
              "\n",
              "    for n in numbers:\n",
              "        if running_max is None:\n",
              "            running_max = n\n",
              "        else:\n",
              "            running_max = max(numbers)\n",
              "\n",
              "        result.append(running_max)\n",
              "\n",
              "    return result"
            ]
          },
          "metadata": {},
          "output_type": "display_data"
        },
        {
          "name": "stdout",
          "output_type": "stream",
          "text": [
            "Correct solution:\n"
          ]
        },
        {
          "data": {
            "text/html": [
              "<style>pre { line-height: 125%; }\n",
              "td.linenos .normal { color: inherit; background-color: transparent; padding-left: 5px; padding-right: 5px; }\n",
              "span.linenos { color: inherit; background-color: transparent; padding-left: 5px; padding-right: 5px; }\n",
              "td.linenos .special { color: #000000; background-color: #ffffc0; padding-left: 5px; padding-right: 5px; }\n",
              "span.linenos.special { color: #000000; background-color: #ffffc0; padding-left: 5px; padding-right: 5px; }\n",
              ".output_html .hll { background-color: #ffffcc }\n",
              ".output_html { background: #f8f8f8; }\n",
              ".output_html .c { color: #3D7B7B; font-style: italic } /* Comment */\n",
              ".output_html .err { border: 1px solid #FF0000 } /* Error */\n",
              ".output_html .k { color: #008000; font-weight: bold } /* Keyword */\n",
              ".output_html .o { color: #666666 } /* Operator */\n",
              ".output_html .ch { color: #3D7B7B; font-style: italic } /* Comment.Hashbang */\n",
              ".output_html .cm { color: #3D7B7B; font-style: italic } /* Comment.Multiline */\n",
              ".output_html .cp { color: #9C6500 } /* Comment.Preproc */\n",
              ".output_html .cpf { color: #3D7B7B; font-style: italic } /* Comment.PreprocFile */\n",
              ".output_html .c1 { color: #3D7B7B; font-style: italic } /* Comment.Single */\n",
              ".output_html .cs { color: #3D7B7B; font-style: italic } /* Comment.Special */\n",
              ".output_html .gd { color: #A00000 } /* Generic.Deleted */\n",
              ".output_html .ge { font-style: italic } /* Generic.Emph */\n",
              ".output_html .ges { font-weight: bold; font-style: italic } /* Generic.EmphStrong */\n",
              ".output_html .gr { color: #E40000 } /* Generic.Error */\n",
              ".output_html .gh { color: #000080; font-weight: bold } /* Generic.Heading */\n",
              ".output_html .gi { color: #008400 } /* Generic.Inserted */\n",
              ".output_html .go { color: #717171 } /* Generic.Output */\n",
              ".output_html .gp { color: #000080; font-weight: bold } /* Generic.Prompt */\n",
              ".output_html .gs { font-weight: bold } /* Generic.Strong */\n",
              ".output_html .gu { color: #800080; font-weight: bold } /* Generic.Subheading */\n",
              ".output_html .gt { color: #0044DD } /* Generic.Traceback */\n",
              ".output_html .kc { color: #008000; font-weight: bold } /* Keyword.Constant */\n",
              ".output_html .kd { color: #008000; font-weight: bold } /* Keyword.Declaration */\n",
              ".output_html .kn { color: #008000; font-weight: bold } /* Keyword.Namespace */\n",
              ".output_html .kp { color: #008000 } /* Keyword.Pseudo */\n",
              ".output_html .kr { color: #008000; font-weight: bold } /* Keyword.Reserved */\n",
              ".output_html .kt { color: #B00040 } /* Keyword.Type */\n",
              ".output_html .m { color: #666666 } /* Literal.Number */\n",
              ".output_html .s { color: #BA2121 } /* Literal.String */\n",
              ".output_html .na { color: #687822 } /* Name.Attribute */\n",
              ".output_html .nb { color: #008000 } /* Name.Builtin */\n",
              ".output_html .nc { color: #0000FF; font-weight: bold } /* Name.Class */\n",
              ".output_html .no { color: #880000 } /* Name.Constant */\n",
              ".output_html .nd { color: #AA22FF } /* Name.Decorator */\n",
              ".output_html .ni { color: #717171; font-weight: bold } /* Name.Entity */\n",
              ".output_html .ne { color: #CB3F38; font-weight: bold } /* Name.Exception */\n",
              ".output_html .nf { color: #0000FF } /* Name.Function */\n",
              ".output_html .nl { color: #767600 } /* Name.Label */\n",
              ".output_html .nn { color: #0000FF; font-weight: bold } /* Name.Namespace */\n",
              ".output_html .nt { color: #008000; font-weight: bold } /* Name.Tag */\n",
              ".output_html .nv { color: #19177C } /* Name.Variable */\n",
              ".output_html .ow { color: #AA22FF; font-weight: bold } /* Operator.Word */\n",
              ".output_html .w { color: #bbbbbb } /* Text.Whitespace */\n",
              ".output_html .mb { color: #666666 } /* Literal.Number.Bin */\n",
              ".output_html .mf { color: #666666 } /* Literal.Number.Float */\n",
              ".output_html .mh { color: #666666 } /* Literal.Number.Hex */\n",
              ".output_html .mi { color: #666666 } /* Literal.Number.Integer */\n",
              ".output_html .mo { color: #666666 } /* Literal.Number.Oct */\n",
              ".output_html .sa { color: #BA2121 } /* Literal.String.Affix */\n",
              ".output_html .sb { color: #BA2121 } /* Literal.String.Backtick */\n",
              ".output_html .sc { color: #BA2121 } /* Literal.String.Char */\n",
              ".output_html .dl { color: #BA2121 } /* Literal.String.Delimiter */\n",
              ".output_html .sd { color: #BA2121; font-style: italic } /* Literal.String.Doc */\n",
              ".output_html .s2 { color: #BA2121 } /* Literal.String.Double */\n",
              ".output_html .se { color: #AA5D1F; font-weight: bold } /* Literal.String.Escape */\n",
              ".output_html .sh { color: #BA2121 } /* Literal.String.Heredoc */\n",
              ".output_html .si { color: #A45A77; font-weight: bold } /* Literal.String.Interpol */\n",
              ".output_html .sx { color: #008000 } /* Literal.String.Other */\n",
              ".output_html .sr { color: #A45A77 } /* Literal.String.Regex */\n",
              ".output_html .s1 { color: #BA2121 } /* Literal.String.Single */\n",
              ".output_html .ss { color: #19177C } /* Literal.String.Symbol */\n",
              ".output_html .bp { color: #008000 } /* Name.Builtin.Pseudo */\n",
              ".output_html .fm { color: #0000FF } /* Name.Function.Magic */\n",
              ".output_html .vc { color: #19177C } /* Name.Variable.Class */\n",
              ".output_html .vg { color: #19177C } /* Name.Variable.Global */\n",
              ".output_html .vi { color: #19177C } /* Name.Variable.Instance */\n",
              ".output_html .vm { color: #19177C } /* Name.Variable.Magic */\n",
              ".output_html .il { color: #666666 } /* Literal.Number.Integer.Long */</style><div class=\"highlight\"><pre><span></span>    <span class=\"n\">running_max</span> <span class=\"o\">=</span> <span class=\"kc\">None</span>\n",
              "    <span class=\"n\">result</span> <span class=\"o\">=</span> <span class=\"p\">[]</span>\n",
              "\n",
              "    <span class=\"k\">for</span> <span class=\"n\">n</span> <span class=\"ow\">in</span> <span class=\"n\">numbers</span><span class=\"p\">:</span>\n",
              "        <span class=\"k\">if</span> <span class=\"n\">running_max</span> <span class=\"ow\">is</span> <span class=\"kc\">None</span><span class=\"p\">:</span>\n",
              "            <span class=\"n\">running_max</span> <span class=\"o\">=</span> <span class=\"n\">n</span>\n",
              "        <span class=\"k\">else</span><span class=\"p\">:</span>\n",
              "            <span class=\"n\">running_max</span> <span class=\"o\">=</span> <span class=\"nb\">max</span><span class=\"p\">(</span><span class=\"n\">running_max</span><span class=\"p\">,</span> <span class=\"n\">n</span><span class=\"p\">)</span>\n",
              "\n",
              "        <span class=\"n\">result</span><span class=\"o\">.</span><span class=\"n\">append</span><span class=\"p\">(</span><span class=\"n\">running_max</span><span class=\"p\">)</span>\n",
              "\n",
              "    <span class=\"k\">return</span> <span class=\"n\">result</span>\n",
              "</pre></div>\n"
            ],
            "text/latex": [
              "\\begin{Verbatim}[commandchars=\\\\\\{\\}]\n",
              "    \\PY{n}{running\\PYZus{}max} \\PY{o}{=} \\PY{k+kc}{None}\n",
              "    \\PY{n}{result} \\PY{o}{=} \\PY{p}{[}\\PY{p}{]}\n",
              "\n",
              "    \\PY{k}{for} \\PY{n}{n} \\PY{o+ow}{in} \\PY{n}{numbers}\\PY{p}{:}\n",
              "        \\PY{k}{if} \\PY{n}{running\\PYZus{}max} \\PY{o+ow}{is} \\PY{k+kc}{None}\\PY{p}{:}\n",
              "            \\PY{n}{running\\PYZus{}max} \\PY{o}{=} \\PY{n}{n}\n",
              "        \\PY{k}{else}\\PY{p}{:}\n",
              "            \\PY{n}{running\\PYZus{}max} \\PY{o}{=} \\PY{n+nb}{max}\\PY{p}{(}\\PY{n}{running\\PYZus{}max}\\PY{p}{,} \\PY{n}{n}\\PY{p}{)}\n",
              "\n",
              "        \\PY{n}{result}\\PY{o}{.}\\PY{n}{append}\\PY{p}{(}\\PY{n}{running\\PYZus{}max}\\PY{p}{)}\n",
              "\n",
              "    \\PY{k}{return} \\PY{n}{result}\n",
              "\\end{Verbatim}\n"
            ],
            "text/plain": [
              "    running_max = None\n",
              "    result = []\n",
              "\n",
              "    for n in numbers:\n",
              "        if running_max is None:\n",
              "            running_max = n\n",
              "        else:\n",
              "            running_max = max(running_max, n)\n",
              "\n",
              "        result.append(running_max)\n",
              "\n",
              "    return result"
            ]
          },
          "metadata": {},
          "output_type": "display_data"
        },
        {
          "name": "stdout",
          "output_type": "stream",
          "text": [
            "\n",
            "Task #10:"
          ]
        },
        {
          "data": {
            "text/html": [
              "<span style=\"background-color:pink;\">Same as buggy</span>"
            ],
            "text/plain": [
              "<IPython.core.display.HTML object>"
            ]
          },
          "metadata": {},
          "output_type": "display_data"
        },
        {
          "name": "stdout",
          "output_type": "stream",
          "text": [
            "Task #11:"
          ]
        },
        {
          "data": {
            "text/html": [
              "<span style=\"background-color:pink;\">Same as buggy</span>"
            ],
            "text/plain": [
              "<IPython.core.display.HTML object>"
            ]
          },
          "metadata": {},
          "output_type": "display_data"
        },
        {
          "name": "stdout",
          "output_type": "stream",
          "text": [
            "Task #12:"
          ]
        },
        {
          "data": {
            "text/html": [
              "<span style=\"background-color:pink;\">Same as buggy</span>"
            ],
            "text/plain": [
              "<IPython.core.display.HTML object>"
            ]
          },
          "metadata": {},
          "output_type": "display_data"
        },
        {
          "name": "stdout",
          "output_type": "stream",
          "text": [
            "Task #13:"
          ]
        },
        {
          "data": {
            "text/html": [
              "<span style=\"background-color:pink;\">Same as buggy</span>"
            ],
            "text/plain": [
              "<IPython.core.display.HTML object>"
            ]
          },
          "metadata": {},
          "output_type": "display_data"
        },
        {
          "name": "stdout",
          "output_type": "stream",
          "text": [
            "Task #14:"
          ]
        },
        {
          "data": {
            "text/html": [
              "<span style=\"background-color:aqua;\">Interesting!</span>"
            ],
            "text/plain": [
              "<IPython.core.display.HTML object>"
            ]
          },
          "metadata": {},
          "output_type": "display_data"
        },
        {
          "name": "stdout",
          "output_type": "stream",
          "text": [
            "Generated solution:\n"
          ]
        },
        {
          "data": {
            "text/html": [
              "<style>pre { line-height: 125%; }\n",
              "td.linenos .normal { color: inherit; background-color: transparent; padding-left: 5px; padding-right: 5px; }\n",
              "span.linenos { color: inherit; background-color: transparent; padding-left: 5px; padding-right: 5px; }\n",
              "td.linenos .special { color: #000000; background-color: #ffffc0; padding-left: 5px; padding-right: 5px; }\n",
              "span.linenos.special { color: #000000; background-color: #ffffc0; padding-left: 5px; padding-right: 5px; }\n",
              ".output_html .hll { background-color: #ffffcc }\n",
              ".output_html { background: #f8f8f8; }\n",
              ".output_html .c { color: #3D7B7B; font-style: italic } /* Comment */\n",
              ".output_html .err { border: 1px solid #FF0000 } /* Error */\n",
              ".output_html .k { color: #008000; font-weight: bold } /* Keyword */\n",
              ".output_html .o { color: #666666 } /* Operator */\n",
              ".output_html .ch { color: #3D7B7B; font-style: italic } /* Comment.Hashbang */\n",
              ".output_html .cm { color: #3D7B7B; font-style: italic } /* Comment.Multiline */\n",
              ".output_html .cp { color: #9C6500 } /* Comment.Preproc */\n",
              ".output_html .cpf { color: #3D7B7B; font-style: italic } /* Comment.PreprocFile */\n",
              ".output_html .c1 { color: #3D7B7B; font-style: italic } /* Comment.Single */\n",
              ".output_html .cs { color: #3D7B7B; font-style: italic } /* Comment.Special */\n",
              ".output_html .gd { color: #A00000 } /* Generic.Deleted */\n",
              ".output_html .ge { font-style: italic } /* Generic.Emph */\n",
              ".output_html .ges { font-weight: bold; font-style: italic } /* Generic.EmphStrong */\n",
              ".output_html .gr { color: #E40000 } /* Generic.Error */\n",
              ".output_html .gh { color: #000080; font-weight: bold } /* Generic.Heading */\n",
              ".output_html .gi { color: #008400 } /* Generic.Inserted */\n",
              ".output_html .go { color: #717171 } /* Generic.Output */\n",
              ".output_html .gp { color: #000080; font-weight: bold } /* Generic.Prompt */\n",
              ".output_html .gs { font-weight: bold } /* Generic.Strong */\n",
              ".output_html .gu { color: #800080; font-weight: bold } /* Generic.Subheading */\n",
              ".output_html .gt { color: #0044DD } /* Generic.Traceback */\n",
              ".output_html .kc { color: #008000; font-weight: bold } /* Keyword.Constant */\n",
              ".output_html .kd { color: #008000; font-weight: bold } /* Keyword.Declaration */\n",
              ".output_html .kn { color: #008000; font-weight: bold } /* Keyword.Namespace */\n",
              ".output_html .kp { color: #008000 } /* Keyword.Pseudo */\n",
              ".output_html .kr { color: #008000; font-weight: bold } /* Keyword.Reserved */\n",
              ".output_html .kt { color: #B00040 } /* Keyword.Type */\n",
              ".output_html .m { color: #666666 } /* Literal.Number */\n",
              ".output_html .s { color: #BA2121 } /* Literal.String */\n",
              ".output_html .na { color: #687822 } /* Name.Attribute */\n",
              ".output_html .nb { color: #008000 } /* Name.Builtin */\n",
              ".output_html .nc { color: #0000FF; font-weight: bold } /* Name.Class */\n",
              ".output_html .no { color: #880000 } /* Name.Constant */\n",
              ".output_html .nd { color: #AA22FF } /* Name.Decorator */\n",
              ".output_html .ni { color: #717171; font-weight: bold } /* Name.Entity */\n",
              ".output_html .ne { color: #CB3F38; font-weight: bold } /* Name.Exception */\n",
              ".output_html .nf { color: #0000FF } /* Name.Function */\n",
              ".output_html .nl { color: #767600 } /* Name.Label */\n",
              ".output_html .nn { color: #0000FF; font-weight: bold } /* Name.Namespace */\n",
              ".output_html .nt { color: #008000; font-weight: bold } /* Name.Tag */\n",
              ".output_html .nv { color: #19177C } /* Name.Variable */\n",
              ".output_html .ow { color: #AA22FF; font-weight: bold } /* Operator.Word */\n",
              ".output_html .w { color: #bbbbbb } /* Text.Whitespace */\n",
              ".output_html .mb { color: #666666 } /* Literal.Number.Bin */\n",
              ".output_html .mf { color: #666666 } /* Literal.Number.Float */\n",
              ".output_html .mh { color: #666666 } /* Literal.Number.Hex */\n",
              ".output_html .mi { color: #666666 } /* Literal.Number.Integer */\n",
              ".output_html .mo { color: #666666 } /* Literal.Number.Oct */\n",
              ".output_html .sa { color: #BA2121 } /* Literal.String.Affix */\n",
              ".output_html .sb { color: #BA2121 } /* Literal.String.Backtick */\n",
              ".output_html .sc { color: #BA2121 } /* Literal.String.Char */\n",
              ".output_html .dl { color: #BA2121 } /* Literal.String.Delimiter */\n",
              ".output_html .sd { color: #BA2121; font-style: italic } /* Literal.String.Doc */\n",
              ".output_html .s2 { color: #BA2121 } /* Literal.String.Double */\n",
              ".output_html .se { color: #AA5D1F; font-weight: bold } /* Literal.String.Escape */\n",
              ".output_html .sh { color: #BA2121 } /* Literal.String.Heredoc */\n",
              ".output_html .si { color: #A45A77; font-weight: bold } /* Literal.String.Interpol */\n",
              ".output_html .sx { color: #008000 } /* Literal.String.Other */\n",
              ".output_html .sr { color: #A45A77 } /* Literal.String.Regex */\n",
              ".output_html .s1 { color: #BA2121 } /* Literal.String.Single */\n",
              ".output_html .ss { color: #19177C } /* Literal.String.Symbol */\n",
              ".output_html .bp { color: #008000 } /* Name.Builtin.Pseudo */\n",
              ".output_html .fm { color: #0000FF } /* Name.Function.Magic */\n",
              ".output_html .vc { color: #19177C } /* Name.Variable.Class */\n",
              ".output_html .vg { color: #19177C } /* Name.Variable.Global */\n",
              ".output_html .vi { color: #19177C } /* Name.Variable.Instance */\n",
              ".output_html .vm { color: #19177C } /* Name.Variable.Magic */\n",
              ".output_html .il { color: #666666 } /* Literal.Number.Integer.Long */</style><div class=\"highlight\"><pre><span></span><span class=\"kn\">from</span> <span class=\"nn\">typing</span> <span class=\"kn\">import</span> <span class=\"n\">List</span>\n",
              "\n",
              "\n",
              "<span class=\"k\">def</span> <span class=\"nf\">all_prefixes</span><span class=\"p\">(</span><span class=\"n\">string</span><span class=\"p\">:</span> <span class=\"nb\">str</span><span class=\"p\">)</span> <span class=\"o\">-&gt;</span> <span class=\"n\">List</span><span class=\"p\">[</span><span class=\"nb\">str</span><span class=\"p\">]:</span>\n",
              "<span class=\"w\">    </span><span class=\"sd\">&quot;&quot;&quot;</span>\n",
              "<span class=\"sd\">    &gt;&gt;&gt; all_prefixes(&#39;&#39;)</span>\n",
              "<span class=\"sd\">    []</span>\n",
              "<span class=\"sd\">    &gt;&gt;&gt; all_prefixes(&#39;asdfgh&#39;)</span>\n",
              "<span class=\"sd\">    [&#39;a&#39;, &#39;as&#39;, &#39;asd&#39;, &#39;asdf&#39;, &#39;asdfg&#39;, &#39;asdfgh&#39;]</span>\n",
              "<span class=\"sd\">    &gt;&gt;&gt; all_prefixes(&#39;WWW&#39;)</span>\n",
              "<span class=\"sd\">    [&#39;W&#39;, &#39;WW&#39;, &#39;WWW&#39;]</span>\n",
              "<span class=\"sd\">    &quot;&quot;&quot;</span>\n",
              "    <span class=\"n\">result</span> <span class=\"o\">=</span> <span class=\"p\">[]</span>\n",
              "    <span class=\"k\">for</span> <span class=\"n\">i</span> <span class=\"ow\">in</span> <span class=\"nb\">range</span><span class=\"p\">(</span><span class=\"nb\">len</span><span class=\"p\">(</span><span class=\"n\">string</span><span class=\"p\">)</span><span class=\"o\">-</span><span class=\"mi\">1</span><span class=\"p\">):</span>\n",
              "        <span class=\"n\">result</span><span class=\"o\">.</span><span class=\"n\">append</span><span class=\"p\">(</span><span class=\"n\">string</span><span class=\"p\">[:</span><span class=\"n\">i</span><span class=\"o\">+</span><span class=\"mi\">1</span><span class=\"p\">])</span>\n",
              "    <span class=\"k\">return</span> <span class=\"n\">result</span>\n",
              "</pre></div>\n"
            ],
            "text/latex": [
              "\\begin{Verbatim}[commandchars=\\\\\\{\\}]\n",
              "\\PY{k+kn}{from} \\PY{n+nn}{typing} \\PY{k+kn}{import} \\PY{n}{List}\n",
              "\n",
              "\n",
              "\\PY{k}{def} \\PY{n+nf}{all\\PYZus{}prefixes}\\PY{p}{(}\\PY{n}{string}\\PY{p}{:} \\PY{n+nb}{str}\\PY{p}{)} \\PY{o}{\\PYZhy{}}\\PY{o}{\\PYZgt{}} \\PY{n}{List}\\PY{p}{[}\\PY{n+nb}{str}\\PY{p}{]}\\PY{p}{:}\n",
              "\\PY{+w}{    }\\PY{l+s+sd}{\\PYZdq{}\\PYZdq{}\\PYZdq{}}\n",
              "\\PY{l+s+sd}{    \\PYZgt{}\\PYZgt{}\\PYZgt{} all\\PYZus{}prefixes(\\PYZsq{}\\PYZsq{})}\n",
              "\\PY{l+s+sd}{    []}\n",
              "\\PY{l+s+sd}{    \\PYZgt{}\\PYZgt{}\\PYZgt{} all\\PYZus{}prefixes(\\PYZsq{}asdfgh\\PYZsq{})}\n",
              "\\PY{l+s+sd}{    [\\PYZsq{}a\\PYZsq{}, \\PYZsq{}as\\PYZsq{}, \\PYZsq{}asd\\PYZsq{}, \\PYZsq{}asdf\\PYZsq{}, \\PYZsq{}asdfg\\PYZsq{}, \\PYZsq{}asdfgh\\PYZsq{}]}\n",
              "\\PY{l+s+sd}{    \\PYZgt{}\\PYZgt{}\\PYZgt{} all\\PYZus{}prefixes(\\PYZsq{}WWW\\PYZsq{})}\n",
              "\\PY{l+s+sd}{    [\\PYZsq{}W\\PYZsq{}, \\PYZsq{}WW\\PYZsq{}, \\PYZsq{}WWW\\PYZsq{}]}\n",
              "\\PY{l+s+sd}{    \\PYZdq{}\\PYZdq{}\\PYZdq{}}\n",
              "    \\PY{n}{result} \\PY{o}{=} \\PY{p}{[}\\PY{p}{]}\n",
              "    \\PY{k}{for} \\PY{n}{i} \\PY{o+ow}{in} \\PY{n+nb}{range}\\PY{p}{(}\\PY{n+nb}{len}\\PY{p}{(}\\PY{n}{string}\\PY{p}{)}\\PY{o}{\\PYZhy{}}\\PY{l+m+mi}{1}\\PY{p}{)}\\PY{p}{:}\n",
              "        \\PY{n}{result}\\PY{o}{.}\\PY{n}{append}\\PY{p}{(}\\PY{n}{string}\\PY{p}{[}\\PY{p}{:}\\PY{n}{i}\\PY{o}{+}\\PY{l+m+mi}{1}\\PY{p}{]}\\PY{p}{)}\n",
              "    \\PY{k}{return} \\PY{n}{result}\n",
              "\\end{Verbatim}\n"
            ],
            "text/plain": [
              "from typing import List\n",
              "\n",
              "\n",
              "def all_prefixes(string: str) -> List[str]:\n",
              "    \"\"\"\n",
              "    >>> all_prefixes('')\n",
              "    []\n",
              "    >>> all_prefixes('asdfgh')\n",
              "    ['a', 'as', 'asd', 'asdf', 'asdfg', 'asdfgh']\n",
              "    >>> all_prefixes('WWW')\n",
              "    ['W', 'WW', 'WWW']\n",
              "    \"\"\"\n",
              "    result = []\n",
              "    for i in range(len(string)-1):\n",
              "        result.append(string[:i+1])\n",
              "    return result\n"
            ]
          },
          "metadata": {},
          "output_type": "display_data"
        },
        {
          "name": "stdout",
          "output_type": "stream",
          "text": [
            "Buggy solution:\n"
          ]
        },
        {
          "data": {
            "text/html": [
              "<style>pre { line-height: 125%; }\n",
              "td.linenos .normal { color: inherit; background-color: transparent; padding-left: 5px; padding-right: 5px; }\n",
              "span.linenos { color: inherit; background-color: transparent; padding-left: 5px; padding-right: 5px; }\n",
              "td.linenos .special { color: #000000; background-color: #ffffc0; padding-left: 5px; padding-right: 5px; }\n",
              "span.linenos.special { color: #000000; background-color: #ffffc0; padding-left: 5px; padding-right: 5px; }\n",
              ".output_html .hll { background-color: #ffffcc }\n",
              ".output_html { background: #f8f8f8; }\n",
              ".output_html .c { color: #3D7B7B; font-style: italic } /* Comment */\n",
              ".output_html .err { border: 1px solid #FF0000 } /* Error */\n",
              ".output_html .k { color: #008000; font-weight: bold } /* Keyword */\n",
              ".output_html .o { color: #666666 } /* Operator */\n",
              ".output_html .ch { color: #3D7B7B; font-style: italic } /* Comment.Hashbang */\n",
              ".output_html .cm { color: #3D7B7B; font-style: italic } /* Comment.Multiline */\n",
              ".output_html .cp { color: #9C6500 } /* Comment.Preproc */\n",
              ".output_html .cpf { color: #3D7B7B; font-style: italic } /* Comment.PreprocFile */\n",
              ".output_html .c1 { color: #3D7B7B; font-style: italic } /* Comment.Single */\n",
              ".output_html .cs { color: #3D7B7B; font-style: italic } /* Comment.Special */\n",
              ".output_html .gd { color: #A00000 } /* Generic.Deleted */\n",
              ".output_html .ge { font-style: italic } /* Generic.Emph */\n",
              ".output_html .ges { font-weight: bold; font-style: italic } /* Generic.EmphStrong */\n",
              ".output_html .gr { color: #E40000 } /* Generic.Error */\n",
              ".output_html .gh { color: #000080; font-weight: bold } /* Generic.Heading */\n",
              ".output_html .gi { color: #008400 } /* Generic.Inserted */\n",
              ".output_html .go { color: #717171 } /* Generic.Output */\n",
              ".output_html .gp { color: #000080; font-weight: bold } /* Generic.Prompt */\n",
              ".output_html .gs { font-weight: bold } /* Generic.Strong */\n",
              ".output_html .gu { color: #800080; font-weight: bold } /* Generic.Subheading */\n",
              ".output_html .gt { color: #0044DD } /* Generic.Traceback */\n",
              ".output_html .kc { color: #008000; font-weight: bold } /* Keyword.Constant */\n",
              ".output_html .kd { color: #008000; font-weight: bold } /* Keyword.Declaration */\n",
              ".output_html .kn { color: #008000; font-weight: bold } /* Keyword.Namespace */\n",
              ".output_html .kp { color: #008000 } /* Keyword.Pseudo */\n",
              ".output_html .kr { color: #008000; font-weight: bold } /* Keyword.Reserved */\n",
              ".output_html .kt { color: #B00040 } /* Keyword.Type */\n",
              ".output_html .m { color: #666666 } /* Literal.Number */\n",
              ".output_html .s { color: #BA2121 } /* Literal.String */\n",
              ".output_html .na { color: #687822 } /* Name.Attribute */\n",
              ".output_html .nb { color: #008000 } /* Name.Builtin */\n",
              ".output_html .nc { color: #0000FF; font-weight: bold } /* Name.Class */\n",
              ".output_html .no { color: #880000 } /* Name.Constant */\n",
              ".output_html .nd { color: #AA22FF } /* Name.Decorator */\n",
              ".output_html .ni { color: #717171; font-weight: bold } /* Name.Entity */\n",
              ".output_html .ne { color: #CB3F38; font-weight: bold } /* Name.Exception */\n",
              ".output_html .nf { color: #0000FF } /* Name.Function */\n",
              ".output_html .nl { color: #767600 } /* Name.Label */\n",
              ".output_html .nn { color: #0000FF; font-weight: bold } /* Name.Namespace */\n",
              ".output_html .nt { color: #008000; font-weight: bold } /* Name.Tag */\n",
              ".output_html .nv { color: #19177C } /* Name.Variable */\n",
              ".output_html .ow { color: #AA22FF; font-weight: bold } /* Operator.Word */\n",
              ".output_html .w { color: #bbbbbb } /* Text.Whitespace */\n",
              ".output_html .mb { color: #666666 } /* Literal.Number.Bin */\n",
              ".output_html .mf { color: #666666 } /* Literal.Number.Float */\n",
              ".output_html .mh { color: #666666 } /* Literal.Number.Hex */\n",
              ".output_html .mi { color: #666666 } /* Literal.Number.Integer */\n",
              ".output_html .mo { color: #666666 } /* Literal.Number.Oct */\n",
              ".output_html .sa { color: #BA2121 } /* Literal.String.Affix */\n",
              ".output_html .sb { color: #BA2121 } /* Literal.String.Backtick */\n",
              ".output_html .sc { color: #BA2121 } /* Literal.String.Char */\n",
              ".output_html .dl { color: #BA2121 } /* Literal.String.Delimiter */\n",
              ".output_html .sd { color: #BA2121; font-style: italic } /* Literal.String.Doc */\n",
              ".output_html .s2 { color: #BA2121 } /* Literal.String.Double */\n",
              ".output_html .se { color: #AA5D1F; font-weight: bold } /* Literal.String.Escape */\n",
              ".output_html .sh { color: #BA2121 } /* Literal.String.Heredoc */\n",
              ".output_html .si { color: #A45A77; font-weight: bold } /* Literal.String.Interpol */\n",
              ".output_html .sx { color: #008000 } /* Literal.String.Other */\n",
              ".output_html .sr { color: #A45A77 } /* Literal.String.Regex */\n",
              ".output_html .s1 { color: #BA2121 } /* Literal.String.Single */\n",
              ".output_html .ss { color: #19177C } /* Literal.String.Symbol */\n",
              ".output_html .bp { color: #008000 } /* Name.Builtin.Pseudo */\n",
              ".output_html .fm { color: #0000FF } /* Name.Function.Magic */\n",
              ".output_html .vc { color: #19177C } /* Name.Variable.Class */\n",
              ".output_html .vg { color: #19177C } /* Name.Variable.Global */\n",
              ".output_html .vi { color: #19177C } /* Name.Variable.Instance */\n",
              ".output_html .vm { color: #19177C } /* Name.Variable.Magic */\n",
              ".output_html .il { color: #666666 } /* Literal.Number.Integer.Long */</style><div class=\"highlight\"><pre><span></span>    <span class=\"n\">result</span> <span class=\"o\">=</span> <span class=\"p\">[]</span>\n",
              "\n",
              "    <span class=\"k\">for</span> <span class=\"n\">i</span> <span class=\"ow\">in</span> <span class=\"nb\">range</span><span class=\"p\">(</span><span class=\"nb\">len</span><span class=\"p\">(</span><span class=\"n\">string</span><span class=\"p\">)</span><span class=\"o\">-</span><span class=\"mi\">1</span><span class=\"p\">):</span>\n",
              "        <span class=\"n\">result</span><span class=\"o\">.</span><span class=\"n\">append</span><span class=\"p\">(</span><span class=\"n\">string</span><span class=\"p\">[:</span><span class=\"n\">i</span><span class=\"o\">+</span><span class=\"mi\">1</span><span class=\"p\">])</span>\n",
              "    <span class=\"k\">return</span> <span class=\"n\">result</span>\n",
              "</pre></div>\n"
            ],
            "text/latex": [
              "\\begin{Verbatim}[commandchars=\\\\\\{\\}]\n",
              "    \\PY{n}{result} \\PY{o}{=} \\PY{p}{[}\\PY{p}{]}\n",
              "\n",
              "    \\PY{k}{for} \\PY{n}{i} \\PY{o+ow}{in} \\PY{n+nb}{range}\\PY{p}{(}\\PY{n+nb}{len}\\PY{p}{(}\\PY{n}{string}\\PY{p}{)}\\PY{o}{\\PYZhy{}}\\PY{l+m+mi}{1}\\PY{p}{)}\\PY{p}{:}\n",
              "        \\PY{n}{result}\\PY{o}{.}\\PY{n}{append}\\PY{p}{(}\\PY{n}{string}\\PY{p}{[}\\PY{p}{:}\\PY{n}{i}\\PY{o}{+}\\PY{l+m+mi}{1}\\PY{p}{]}\\PY{p}{)}\n",
              "    \\PY{k}{return} \\PY{n}{result}\n",
              "\\end{Verbatim}\n"
            ],
            "text/plain": [
              "    result = []\n",
              "\n",
              "    for i in range(len(string)-1):\n",
              "        result.append(string[:i+1])\n",
              "    return result"
            ]
          },
          "metadata": {},
          "output_type": "display_data"
        },
        {
          "name": "stdout",
          "output_type": "stream",
          "text": [
            "Correct solution:\n"
          ]
        },
        {
          "data": {
            "text/html": [
              "<style>pre { line-height: 125%; }\n",
              "td.linenos .normal { color: inherit; background-color: transparent; padding-left: 5px; padding-right: 5px; }\n",
              "span.linenos { color: inherit; background-color: transparent; padding-left: 5px; padding-right: 5px; }\n",
              "td.linenos .special { color: #000000; background-color: #ffffc0; padding-left: 5px; padding-right: 5px; }\n",
              "span.linenos.special { color: #000000; background-color: #ffffc0; padding-left: 5px; padding-right: 5px; }\n",
              ".output_html .hll { background-color: #ffffcc }\n",
              ".output_html { background: #f8f8f8; }\n",
              ".output_html .c { color: #3D7B7B; font-style: italic } /* Comment */\n",
              ".output_html .err { border: 1px solid #FF0000 } /* Error */\n",
              ".output_html .k { color: #008000; font-weight: bold } /* Keyword */\n",
              ".output_html .o { color: #666666 } /* Operator */\n",
              ".output_html .ch { color: #3D7B7B; font-style: italic } /* Comment.Hashbang */\n",
              ".output_html .cm { color: #3D7B7B; font-style: italic } /* Comment.Multiline */\n",
              ".output_html .cp { color: #9C6500 } /* Comment.Preproc */\n",
              ".output_html .cpf { color: #3D7B7B; font-style: italic } /* Comment.PreprocFile */\n",
              ".output_html .c1 { color: #3D7B7B; font-style: italic } /* Comment.Single */\n",
              ".output_html .cs { color: #3D7B7B; font-style: italic } /* Comment.Special */\n",
              ".output_html .gd { color: #A00000 } /* Generic.Deleted */\n",
              ".output_html .ge { font-style: italic } /* Generic.Emph */\n",
              ".output_html .ges { font-weight: bold; font-style: italic } /* Generic.EmphStrong */\n",
              ".output_html .gr { color: #E40000 } /* Generic.Error */\n",
              ".output_html .gh { color: #000080; font-weight: bold } /* Generic.Heading */\n",
              ".output_html .gi { color: #008400 } /* Generic.Inserted */\n",
              ".output_html .go { color: #717171 } /* Generic.Output */\n",
              ".output_html .gp { color: #000080; font-weight: bold } /* Generic.Prompt */\n",
              ".output_html .gs { font-weight: bold } /* Generic.Strong */\n",
              ".output_html .gu { color: #800080; font-weight: bold } /* Generic.Subheading */\n",
              ".output_html .gt { color: #0044DD } /* Generic.Traceback */\n",
              ".output_html .kc { color: #008000; font-weight: bold } /* Keyword.Constant */\n",
              ".output_html .kd { color: #008000; font-weight: bold } /* Keyword.Declaration */\n",
              ".output_html .kn { color: #008000; font-weight: bold } /* Keyword.Namespace */\n",
              ".output_html .kp { color: #008000 } /* Keyword.Pseudo */\n",
              ".output_html .kr { color: #008000; font-weight: bold } /* Keyword.Reserved */\n",
              ".output_html .kt { color: #B00040 } /* Keyword.Type */\n",
              ".output_html .m { color: #666666 } /* Literal.Number */\n",
              ".output_html .s { color: #BA2121 } /* Literal.String */\n",
              ".output_html .na { color: #687822 } /* Name.Attribute */\n",
              ".output_html .nb { color: #008000 } /* Name.Builtin */\n",
              ".output_html .nc { color: #0000FF; font-weight: bold } /* Name.Class */\n",
              ".output_html .no { color: #880000 } /* Name.Constant */\n",
              ".output_html .nd { color: #AA22FF } /* Name.Decorator */\n",
              ".output_html .ni { color: #717171; font-weight: bold } /* Name.Entity */\n",
              ".output_html .ne { color: #CB3F38; font-weight: bold } /* Name.Exception */\n",
              ".output_html .nf { color: #0000FF } /* Name.Function */\n",
              ".output_html .nl { color: #767600 } /* Name.Label */\n",
              ".output_html .nn { color: #0000FF; font-weight: bold } /* Name.Namespace */\n",
              ".output_html .nt { color: #008000; font-weight: bold } /* Name.Tag */\n",
              ".output_html .nv { color: #19177C } /* Name.Variable */\n",
              ".output_html .ow { color: #AA22FF; font-weight: bold } /* Operator.Word */\n",
              ".output_html .w { color: #bbbbbb } /* Text.Whitespace */\n",
              ".output_html .mb { color: #666666 } /* Literal.Number.Bin */\n",
              ".output_html .mf { color: #666666 } /* Literal.Number.Float */\n",
              ".output_html .mh { color: #666666 } /* Literal.Number.Hex */\n",
              ".output_html .mi { color: #666666 } /* Literal.Number.Integer */\n",
              ".output_html .mo { color: #666666 } /* Literal.Number.Oct */\n",
              ".output_html .sa { color: #BA2121 } /* Literal.String.Affix */\n",
              ".output_html .sb { color: #BA2121 } /* Literal.String.Backtick */\n",
              ".output_html .sc { color: #BA2121 } /* Literal.String.Char */\n",
              ".output_html .dl { color: #BA2121 } /* Literal.String.Delimiter */\n",
              ".output_html .sd { color: #BA2121; font-style: italic } /* Literal.String.Doc */\n",
              ".output_html .s2 { color: #BA2121 } /* Literal.String.Double */\n",
              ".output_html .se { color: #AA5D1F; font-weight: bold } /* Literal.String.Escape */\n",
              ".output_html .sh { color: #BA2121 } /* Literal.String.Heredoc */\n",
              ".output_html .si { color: #A45A77; font-weight: bold } /* Literal.String.Interpol */\n",
              ".output_html .sx { color: #008000 } /* Literal.String.Other */\n",
              ".output_html .sr { color: #A45A77 } /* Literal.String.Regex */\n",
              ".output_html .s1 { color: #BA2121 } /* Literal.String.Single */\n",
              ".output_html .ss { color: #19177C } /* Literal.String.Symbol */\n",
              ".output_html .bp { color: #008000 } /* Name.Builtin.Pseudo */\n",
              ".output_html .fm { color: #0000FF } /* Name.Function.Magic */\n",
              ".output_html .vc { color: #19177C } /* Name.Variable.Class */\n",
              ".output_html .vg { color: #19177C } /* Name.Variable.Global */\n",
              ".output_html .vi { color: #19177C } /* Name.Variable.Instance */\n",
              ".output_html .vm { color: #19177C } /* Name.Variable.Magic */\n",
              ".output_html .il { color: #666666 } /* Literal.Number.Integer.Long */</style><div class=\"highlight\"><pre><span></span>    <span class=\"n\">result</span> <span class=\"o\">=</span> <span class=\"p\">[]</span>\n",
              "\n",
              "    <span class=\"k\">for</span> <span class=\"n\">i</span> <span class=\"ow\">in</span> <span class=\"nb\">range</span><span class=\"p\">(</span><span class=\"nb\">len</span><span class=\"p\">(</span><span class=\"n\">string</span><span class=\"p\">)):</span>\n",
              "        <span class=\"n\">result</span><span class=\"o\">.</span><span class=\"n\">append</span><span class=\"p\">(</span><span class=\"n\">string</span><span class=\"p\">[:</span><span class=\"n\">i</span><span class=\"o\">+</span><span class=\"mi\">1</span><span class=\"p\">])</span>\n",
              "    <span class=\"k\">return</span> <span class=\"n\">result</span>\n",
              "</pre></div>\n"
            ],
            "text/latex": [
              "\\begin{Verbatim}[commandchars=\\\\\\{\\}]\n",
              "    \\PY{n}{result} \\PY{o}{=} \\PY{p}{[}\\PY{p}{]}\n",
              "\n",
              "    \\PY{k}{for} \\PY{n}{i} \\PY{o+ow}{in} \\PY{n+nb}{range}\\PY{p}{(}\\PY{n+nb}{len}\\PY{p}{(}\\PY{n}{string}\\PY{p}{)}\\PY{p}{)}\\PY{p}{:}\n",
              "        \\PY{n}{result}\\PY{o}{.}\\PY{n}{append}\\PY{p}{(}\\PY{n}{string}\\PY{p}{[}\\PY{p}{:}\\PY{n}{i}\\PY{o}{+}\\PY{l+m+mi}{1}\\PY{p}{]}\\PY{p}{)}\n",
              "    \\PY{k}{return} \\PY{n}{result}\n",
              "\\end{Verbatim}\n"
            ],
            "text/plain": [
              "    result = []\n",
              "\n",
              "    for i in range(len(string)):\n",
              "        result.append(string[:i+1])\n",
              "    return result"
            ]
          },
          "metadata": {},
          "output_type": "display_data"
        },
        {
          "name": "stdout",
          "output_type": "stream",
          "text": [
            "\n",
            "Task #15:"
          ]
        },
        {
          "data": {
            "text/html": [
              "<span style=\"background-color:pink;\">Same as buggy</span>"
            ],
            "text/plain": [
              "<IPython.core.display.HTML object>"
            ]
          },
          "metadata": {},
          "output_type": "display_data"
        },
        {
          "name": "stdout",
          "output_type": "stream",
          "text": [
            "Task #16:"
          ]
        },
        {
          "data": {
            "text/html": [
              "<span style=\"background-color:aqua;\">Interesting!</span>"
            ],
            "text/plain": [
              "<IPython.core.display.HTML object>"
            ]
          },
          "metadata": {},
          "output_type": "display_data"
        },
        {
          "name": "stdout",
          "output_type": "stream",
          "text": [
            "Generated solution:\n"
          ]
        },
        {
          "data": {
            "text/html": [
              "<style>pre { line-height: 125%; }\n",
              "td.linenos .normal { color: inherit; background-color: transparent; padding-left: 5px; padding-right: 5px; }\n",
              "span.linenos { color: inherit; background-color: transparent; padding-left: 5px; padding-right: 5px; }\n",
              "td.linenos .special { color: #000000; background-color: #ffffc0; padding-left: 5px; padding-right: 5px; }\n",
              "span.linenos.special { color: #000000; background-color: #ffffc0; padding-left: 5px; padding-right: 5px; }\n",
              ".output_html .hll { background-color: #ffffcc }\n",
              ".output_html { background: #f8f8f8; }\n",
              ".output_html .c { color: #3D7B7B; font-style: italic } /* Comment */\n",
              ".output_html .err { border: 1px solid #FF0000 } /* Error */\n",
              ".output_html .k { color: #008000; font-weight: bold } /* Keyword */\n",
              ".output_html .o { color: #666666 } /* Operator */\n",
              ".output_html .ch { color: #3D7B7B; font-style: italic } /* Comment.Hashbang */\n",
              ".output_html .cm { color: #3D7B7B; font-style: italic } /* Comment.Multiline */\n",
              ".output_html .cp { color: #9C6500 } /* Comment.Preproc */\n",
              ".output_html .cpf { color: #3D7B7B; font-style: italic } /* Comment.PreprocFile */\n",
              ".output_html .c1 { color: #3D7B7B; font-style: italic } /* Comment.Single */\n",
              ".output_html .cs { color: #3D7B7B; font-style: italic } /* Comment.Special */\n",
              ".output_html .gd { color: #A00000 } /* Generic.Deleted */\n",
              ".output_html .ge { font-style: italic } /* Generic.Emph */\n",
              ".output_html .ges { font-weight: bold; font-style: italic } /* Generic.EmphStrong */\n",
              ".output_html .gr { color: #E40000 } /* Generic.Error */\n",
              ".output_html .gh { color: #000080; font-weight: bold } /* Generic.Heading */\n",
              ".output_html .gi { color: #008400 } /* Generic.Inserted */\n",
              ".output_html .go { color: #717171 } /* Generic.Output */\n",
              ".output_html .gp { color: #000080; font-weight: bold } /* Generic.Prompt */\n",
              ".output_html .gs { font-weight: bold } /* Generic.Strong */\n",
              ".output_html .gu { color: #800080; font-weight: bold } /* Generic.Subheading */\n",
              ".output_html .gt { color: #0044DD } /* Generic.Traceback */\n",
              ".output_html .kc { color: #008000; font-weight: bold } /* Keyword.Constant */\n",
              ".output_html .kd { color: #008000; font-weight: bold } /* Keyword.Declaration */\n",
              ".output_html .kn { color: #008000; font-weight: bold } /* Keyword.Namespace */\n",
              ".output_html .kp { color: #008000 } /* Keyword.Pseudo */\n",
              ".output_html .kr { color: #008000; font-weight: bold } /* Keyword.Reserved */\n",
              ".output_html .kt { color: #B00040 } /* Keyword.Type */\n",
              ".output_html .m { color: #666666 } /* Literal.Number */\n",
              ".output_html .s { color: #BA2121 } /* Literal.String */\n",
              ".output_html .na { color: #687822 } /* Name.Attribute */\n",
              ".output_html .nb { color: #008000 } /* Name.Builtin */\n",
              ".output_html .nc { color: #0000FF; font-weight: bold } /* Name.Class */\n",
              ".output_html .no { color: #880000 } /* Name.Constant */\n",
              ".output_html .nd { color: #AA22FF } /* Name.Decorator */\n",
              ".output_html .ni { color: #717171; font-weight: bold } /* Name.Entity */\n",
              ".output_html .ne { color: #CB3F38; font-weight: bold } /* Name.Exception */\n",
              ".output_html .nf { color: #0000FF } /* Name.Function */\n",
              ".output_html .nl { color: #767600 } /* Name.Label */\n",
              ".output_html .nn { color: #0000FF; font-weight: bold } /* Name.Namespace */\n",
              ".output_html .nt { color: #008000; font-weight: bold } /* Name.Tag */\n",
              ".output_html .nv { color: #19177C } /* Name.Variable */\n",
              ".output_html .ow { color: #AA22FF; font-weight: bold } /* Operator.Word */\n",
              ".output_html .w { color: #bbbbbb } /* Text.Whitespace */\n",
              ".output_html .mb { color: #666666 } /* Literal.Number.Bin */\n",
              ".output_html .mf { color: #666666 } /* Literal.Number.Float */\n",
              ".output_html .mh { color: #666666 } /* Literal.Number.Hex */\n",
              ".output_html .mi { color: #666666 } /* Literal.Number.Integer */\n",
              ".output_html .mo { color: #666666 } /* Literal.Number.Oct */\n",
              ".output_html .sa { color: #BA2121 } /* Literal.String.Affix */\n",
              ".output_html .sb { color: #BA2121 } /* Literal.String.Backtick */\n",
              ".output_html .sc { color: #BA2121 } /* Literal.String.Char */\n",
              ".output_html .dl { color: #BA2121 } /* Literal.String.Delimiter */\n",
              ".output_html .sd { color: #BA2121; font-style: italic } /* Literal.String.Doc */\n",
              ".output_html .s2 { color: #BA2121 } /* Literal.String.Double */\n",
              ".output_html .se { color: #AA5D1F; font-weight: bold } /* Literal.String.Escape */\n",
              ".output_html .sh { color: #BA2121 } /* Literal.String.Heredoc */\n",
              ".output_html .si { color: #A45A77; font-weight: bold } /* Literal.String.Interpol */\n",
              ".output_html .sx { color: #008000 } /* Literal.String.Other */\n",
              ".output_html .sr { color: #A45A77 } /* Literal.String.Regex */\n",
              ".output_html .s1 { color: #BA2121 } /* Literal.String.Single */\n",
              ".output_html .ss { color: #19177C } /* Literal.String.Symbol */\n",
              ".output_html .bp { color: #008000 } /* Name.Builtin.Pseudo */\n",
              ".output_html .fm { color: #0000FF } /* Name.Function.Magic */\n",
              ".output_html .vc { color: #19177C } /* Name.Variable.Class */\n",
              ".output_html .vg { color: #19177C } /* Name.Variable.Global */\n",
              ".output_html .vi { color: #19177C } /* Name.Variable.Instance */\n",
              ".output_html .vm { color: #19177C } /* Name.Variable.Magic */\n",
              ".output_html .il { color: #666666 } /* Literal.Number.Integer.Long */</style><div class=\"highlight\"><pre><span></span><span class=\"k\">def</span> <span class=\"nf\">count_distinct_characters</span><span class=\"p\">(</span><span class=\"n\">string</span><span class=\"p\">:</span> <span class=\"nb\">str</span><span class=\"p\">)</span> <span class=\"o\">-&gt;</span> <span class=\"nb\">int</span><span class=\"p\">:</span>\n",
              "    <span class=\"c1\"># Create an empty set to store the distinct characters</span>\n",
              "    <span class=\"n\">distinct_chars</span> <span class=\"o\">=</span> <span class=\"nb\">set</span><span class=\"p\">()</span>\n",
              "\n",
              "    <span class=\"c1\"># Iterate over each character in the string</span>\n",
              "    <span class=\"k\">for</span> <span class=\"n\">char</span> <span class=\"ow\">in</span> <span class=\"n\">string</span><span class=\"p\">:</span>\n",
              "        <span class=\"c1\"># Add the character to the set</span>\n",
              "        <span class=\"n\">distinct_chars</span><span class=\"o\">.</span><span class=\"n\">add</span><span class=\"p\">(</span><span class=\"n\">char</span><span class=\"p\">)</span>\n",
              "\n",
              "    <span class=\"c1\"># Return the size of the set, which is the number of distinct characters</span>\n",
              "    <span class=\"k\">return</span> <span class=\"nb\">len</span><span class=\"p\">(</span><span class=\"n\">distinct_chars</span><span class=\"p\">)</span>\n",
              "</pre></div>\n"
            ],
            "text/latex": [
              "\\begin{Verbatim}[commandchars=\\\\\\{\\}]\n",
              "\\PY{k}{def} \\PY{n+nf}{count\\PYZus{}distinct\\PYZus{}characters}\\PY{p}{(}\\PY{n}{string}\\PY{p}{:} \\PY{n+nb}{str}\\PY{p}{)} \\PY{o}{\\PYZhy{}}\\PY{o}{\\PYZgt{}} \\PY{n+nb}{int}\\PY{p}{:}\n",
              "    \\PY{c+c1}{\\PYZsh{} Create an empty set to store the distinct characters}\n",
              "    \\PY{n}{distinct\\PYZus{}chars} \\PY{o}{=} \\PY{n+nb}{set}\\PY{p}{(}\\PY{p}{)}\n",
              "\n",
              "    \\PY{c+c1}{\\PYZsh{} Iterate over each character in the string}\n",
              "    \\PY{k}{for} \\PY{n}{char} \\PY{o+ow}{in} \\PY{n}{string}\\PY{p}{:}\n",
              "        \\PY{c+c1}{\\PYZsh{} Add the character to the set}\n",
              "        \\PY{n}{distinct\\PYZus{}chars}\\PY{o}{.}\\PY{n}{add}\\PY{p}{(}\\PY{n}{char}\\PY{p}{)}\n",
              "\n",
              "    \\PY{c+c1}{\\PYZsh{} Return the size of the set, which is the number of distinct characters}\n",
              "    \\PY{k}{return} \\PY{n+nb}{len}\\PY{p}{(}\\PY{n}{distinct\\PYZus{}chars}\\PY{p}{)}\n",
              "\\end{Verbatim}\n"
            ],
            "text/plain": [
              "def count_distinct_characters(string: str) -> int:\n",
              "    # Create an empty set to store the distinct characters\n",
              "    distinct_chars = set()\n",
              "\n",
              "    # Iterate over each character in the string\n",
              "    for char in string:\n",
              "        # Add the character to the set\n",
              "        distinct_chars.add(char)\n",
              "\n",
              "    # Return the size of the set, which is the number of distinct characters\n",
              "    return len(distinct_chars)"
            ]
          },
          "metadata": {},
          "output_type": "display_data"
        },
        {
          "name": "stdout",
          "output_type": "stream",
          "text": [
            "Buggy solution:\n"
          ]
        },
        {
          "data": {
            "text/html": [
              "<style>pre { line-height: 125%; }\n",
              "td.linenos .normal { color: inherit; background-color: transparent; padding-left: 5px; padding-right: 5px; }\n",
              "span.linenos { color: inherit; background-color: transparent; padding-left: 5px; padding-right: 5px; }\n",
              "td.linenos .special { color: #000000; background-color: #ffffc0; padding-left: 5px; padding-right: 5px; }\n",
              "span.linenos.special { color: #000000; background-color: #ffffc0; padding-left: 5px; padding-right: 5px; }\n",
              ".output_html .hll { background-color: #ffffcc }\n",
              ".output_html { background: #f8f8f8; }\n",
              ".output_html .c { color: #3D7B7B; font-style: italic } /* Comment */\n",
              ".output_html .err { border: 1px solid #FF0000 } /* Error */\n",
              ".output_html .k { color: #008000; font-weight: bold } /* Keyword */\n",
              ".output_html .o { color: #666666 } /* Operator */\n",
              ".output_html .ch { color: #3D7B7B; font-style: italic } /* Comment.Hashbang */\n",
              ".output_html .cm { color: #3D7B7B; font-style: italic } /* Comment.Multiline */\n",
              ".output_html .cp { color: #9C6500 } /* Comment.Preproc */\n",
              ".output_html .cpf { color: #3D7B7B; font-style: italic } /* Comment.PreprocFile */\n",
              ".output_html .c1 { color: #3D7B7B; font-style: italic } /* Comment.Single */\n",
              ".output_html .cs { color: #3D7B7B; font-style: italic } /* Comment.Special */\n",
              ".output_html .gd { color: #A00000 } /* Generic.Deleted */\n",
              ".output_html .ge { font-style: italic } /* Generic.Emph */\n",
              ".output_html .ges { font-weight: bold; font-style: italic } /* Generic.EmphStrong */\n",
              ".output_html .gr { color: #E40000 } /* Generic.Error */\n",
              ".output_html .gh { color: #000080; font-weight: bold } /* Generic.Heading */\n",
              ".output_html .gi { color: #008400 } /* Generic.Inserted */\n",
              ".output_html .go { color: #717171 } /* Generic.Output */\n",
              ".output_html .gp { color: #000080; font-weight: bold } /* Generic.Prompt */\n",
              ".output_html .gs { font-weight: bold } /* Generic.Strong */\n",
              ".output_html .gu { color: #800080; font-weight: bold } /* Generic.Subheading */\n",
              ".output_html .gt { color: #0044DD } /* Generic.Traceback */\n",
              ".output_html .kc { color: #008000; font-weight: bold } /* Keyword.Constant */\n",
              ".output_html .kd { color: #008000; font-weight: bold } /* Keyword.Declaration */\n",
              ".output_html .kn { color: #008000; font-weight: bold } /* Keyword.Namespace */\n",
              ".output_html .kp { color: #008000 } /* Keyword.Pseudo */\n",
              ".output_html .kr { color: #008000; font-weight: bold } /* Keyword.Reserved */\n",
              ".output_html .kt { color: #B00040 } /* Keyword.Type */\n",
              ".output_html .m { color: #666666 } /* Literal.Number */\n",
              ".output_html .s { color: #BA2121 } /* Literal.String */\n",
              ".output_html .na { color: #687822 } /* Name.Attribute */\n",
              ".output_html .nb { color: #008000 } /* Name.Builtin */\n",
              ".output_html .nc { color: #0000FF; font-weight: bold } /* Name.Class */\n",
              ".output_html .no { color: #880000 } /* Name.Constant */\n",
              ".output_html .nd { color: #AA22FF } /* Name.Decorator */\n",
              ".output_html .ni { color: #717171; font-weight: bold } /* Name.Entity */\n",
              ".output_html .ne { color: #CB3F38; font-weight: bold } /* Name.Exception */\n",
              ".output_html .nf { color: #0000FF } /* Name.Function */\n",
              ".output_html .nl { color: #767600 } /* Name.Label */\n",
              ".output_html .nn { color: #0000FF; font-weight: bold } /* Name.Namespace */\n",
              ".output_html .nt { color: #008000; font-weight: bold } /* Name.Tag */\n",
              ".output_html .nv { color: #19177C } /* Name.Variable */\n",
              ".output_html .ow { color: #AA22FF; font-weight: bold } /* Operator.Word */\n",
              ".output_html .w { color: #bbbbbb } /* Text.Whitespace */\n",
              ".output_html .mb { color: #666666 } /* Literal.Number.Bin */\n",
              ".output_html .mf { color: #666666 } /* Literal.Number.Float */\n",
              ".output_html .mh { color: #666666 } /* Literal.Number.Hex */\n",
              ".output_html .mi { color: #666666 } /* Literal.Number.Integer */\n",
              ".output_html .mo { color: #666666 } /* Literal.Number.Oct */\n",
              ".output_html .sa { color: #BA2121 } /* Literal.String.Affix */\n",
              ".output_html .sb { color: #BA2121 } /* Literal.String.Backtick */\n",
              ".output_html .sc { color: #BA2121 } /* Literal.String.Char */\n",
              ".output_html .dl { color: #BA2121 } /* Literal.String.Delimiter */\n",
              ".output_html .sd { color: #BA2121; font-style: italic } /* Literal.String.Doc */\n",
              ".output_html .s2 { color: #BA2121 } /* Literal.String.Double */\n",
              ".output_html .se { color: #AA5D1F; font-weight: bold } /* Literal.String.Escape */\n",
              ".output_html .sh { color: #BA2121 } /* Literal.String.Heredoc */\n",
              ".output_html .si { color: #A45A77; font-weight: bold } /* Literal.String.Interpol */\n",
              ".output_html .sx { color: #008000 } /* Literal.String.Other */\n",
              ".output_html .sr { color: #A45A77 } /* Literal.String.Regex */\n",
              ".output_html .s1 { color: #BA2121 } /* Literal.String.Single */\n",
              ".output_html .ss { color: #19177C } /* Literal.String.Symbol */\n",
              ".output_html .bp { color: #008000 } /* Name.Builtin.Pseudo */\n",
              ".output_html .fm { color: #0000FF } /* Name.Function.Magic */\n",
              ".output_html .vc { color: #19177C } /* Name.Variable.Class */\n",
              ".output_html .vg { color: #19177C } /* Name.Variable.Global */\n",
              ".output_html .vi { color: #19177C } /* Name.Variable.Instance */\n",
              ".output_html .vm { color: #19177C } /* Name.Variable.Magic */\n",
              ".output_html .il { color: #666666 } /* Literal.Number.Integer.Long */</style><div class=\"highlight\"><pre><span></span>    <span class=\"k\">return</span> <span class=\"nb\">len</span><span class=\"p\">(</span><span class=\"nb\">set</span><span class=\"p\">(</span><span class=\"n\">string</span><span class=\"p\">))</span>\n",
              "</pre></div>\n"
            ],
            "text/latex": [
              "\\begin{Verbatim}[commandchars=\\\\\\{\\}]\n",
              "    \\PY{k}{return} \\PY{n+nb}{len}\\PY{p}{(}\\PY{n+nb}{set}\\PY{p}{(}\\PY{n}{string}\\PY{p}{)}\\PY{p}{)}\n",
              "\\end{Verbatim}\n"
            ],
            "text/plain": [
              "    return len(set(string))"
            ]
          },
          "metadata": {},
          "output_type": "display_data"
        },
        {
          "name": "stdout",
          "output_type": "stream",
          "text": [
            "Correct solution:\n"
          ]
        },
        {
          "data": {
            "text/html": [
              "<style>pre { line-height: 125%; }\n",
              "td.linenos .normal { color: inherit; background-color: transparent; padding-left: 5px; padding-right: 5px; }\n",
              "span.linenos { color: inherit; background-color: transparent; padding-left: 5px; padding-right: 5px; }\n",
              "td.linenos .special { color: #000000; background-color: #ffffc0; padding-left: 5px; padding-right: 5px; }\n",
              "span.linenos.special { color: #000000; background-color: #ffffc0; padding-left: 5px; padding-right: 5px; }\n",
              ".output_html .hll { background-color: #ffffcc }\n",
              ".output_html { background: #f8f8f8; }\n",
              ".output_html .c { color: #3D7B7B; font-style: italic } /* Comment */\n",
              ".output_html .err { border: 1px solid #FF0000 } /* Error */\n",
              ".output_html .k { color: #008000; font-weight: bold } /* Keyword */\n",
              ".output_html .o { color: #666666 } /* Operator */\n",
              ".output_html .ch { color: #3D7B7B; font-style: italic } /* Comment.Hashbang */\n",
              ".output_html .cm { color: #3D7B7B; font-style: italic } /* Comment.Multiline */\n",
              ".output_html .cp { color: #9C6500 } /* Comment.Preproc */\n",
              ".output_html .cpf { color: #3D7B7B; font-style: italic } /* Comment.PreprocFile */\n",
              ".output_html .c1 { color: #3D7B7B; font-style: italic } /* Comment.Single */\n",
              ".output_html .cs { color: #3D7B7B; font-style: italic } /* Comment.Special */\n",
              ".output_html .gd { color: #A00000 } /* Generic.Deleted */\n",
              ".output_html .ge { font-style: italic } /* Generic.Emph */\n",
              ".output_html .ges { font-weight: bold; font-style: italic } /* Generic.EmphStrong */\n",
              ".output_html .gr { color: #E40000 } /* Generic.Error */\n",
              ".output_html .gh { color: #000080; font-weight: bold } /* Generic.Heading */\n",
              ".output_html .gi { color: #008400 } /* Generic.Inserted */\n",
              ".output_html .go { color: #717171 } /* Generic.Output */\n",
              ".output_html .gp { color: #000080; font-weight: bold } /* Generic.Prompt */\n",
              ".output_html .gs { font-weight: bold } /* Generic.Strong */\n",
              ".output_html .gu { color: #800080; font-weight: bold } /* Generic.Subheading */\n",
              ".output_html .gt { color: #0044DD } /* Generic.Traceback */\n",
              ".output_html .kc { color: #008000; font-weight: bold } /* Keyword.Constant */\n",
              ".output_html .kd { color: #008000; font-weight: bold } /* Keyword.Declaration */\n",
              ".output_html .kn { color: #008000; font-weight: bold } /* Keyword.Namespace */\n",
              ".output_html .kp { color: #008000 } /* Keyword.Pseudo */\n",
              ".output_html .kr { color: #008000; font-weight: bold } /* Keyword.Reserved */\n",
              ".output_html .kt { color: #B00040 } /* Keyword.Type */\n",
              ".output_html .m { color: #666666 } /* Literal.Number */\n",
              ".output_html .s { color: #BA2121 } /* Literal.String */\n",
              ".output_html .na { color: #687822 } /* Name.Attribute */\n",
              ".output_html .nb { color: #008000 } /* Name.Builtin */\n",
              ".output_html .nc { color: #0000FF; font-weight: bold } /* Name.Class */\n",
              ".output_html .no { color: #880000 } /* Name.Constant */\n",
              ".output_html .nd { color: #AA22FF } /* Name.Decorator */\n",
              ".output_html .ni { color: #717171; font-weight: bold } /* Name.Entity */\n",
              ".output_html .ne { color: #CB3F38; font-weight: bold } /* Name.Exception */\n",
              ".output_html .nf { color: #0000FF } /* Name.Function */\n",
              ".output_html .nl { color: #767600 } /* Name.Label */\n",
              ".output_html .nn { color: #0000FF; font-weight: bold } /* Name.Namespace */\n",
              ".output_html .nt { color: #008000; font-weight: bold } /* Name.Tag */\n",
              ".output_html .nv { color: #19177C } /* Name.Variable */\n",
              ".output_html .ow { color: #AA22FF; font-weight: bold } /* Operator.Word */\n",
              ".output_html .w { color: #bbbbbb } /* Text.Whitespace */\n",
              ".output_html .mb { color: #666666 } /* Literal.Number.Bin */\n",
              ".output_html .mf { color: #666666 } /* Literal.Number.Float */\n",
              ".output_html .mh { color: #666666 } /* Literal.Number.Hex */\n",
              ".output_html .mi { color: #666666 } /* Literal.Number.Integer */\n",
              ".output_html .mo { color: #666666 } /* Literal.Number.Oct */\n",
              ".output_html .sa { color: #BA2121 } /* Literal.String.Affix */\n",
              ".output_html .sb { color: #BA2121 } /* Literal.String.Backtick */\n",
              ".output_html .sc { color: #BA2121 } /* Literal.String.Char */\n",
              ".output_html .dl { color: #BA2121 } /* Literal.String.Delimiter */\n",
              ".output_html .sd { color: #BA2121; font-style: italic } /* Literal.String.Doc */\n",
              ".output_html .s2 { color: #BA2121 } /* Literal.String.Double */\n",
              ".output_html .se { color: #AA5D1F; font-weight: bold } /* Literal.String.Escape */\n",
              ".output_html .sh { color: #BA2121 } /* Literal.String.Heredoc */\n",
              ".output_html .si { color: #A45A77; font-weight: bold } /* Literal.String.Interpol */\n",
              ".output_html .sx { color: #008000 } /* Literal.String.Other */\n",
              ".output_html .sr { color: #A45A77 } /* Literal.String.Regex */\n",
              ".output_html .s1 { color: #BA2121 } /* Literal.String.Single */\n",
              ".output_html .ss { color: #19177C } /* Literal.String.Symbol */\n",
              ".output_html .bp { color: #008000 } /* Name.Builtin.Pseudo */\n",
              ".output_html .fm { color: #0000FF } /* Name.Function.Magic */\n",
              ".output_html .vc { color: #19177C } /* Name.Variable.Class */\n",
              ".output_html .vg { color: #19177C } /* Name.Variable.Global */\n",
              ".output_html .vi { color: #19177C } /* Name.Variable.Instance */\n",
              ".output_html .vm { color: #19177C } /* Name.Variable.Magic */\n",
              ".output_html .il { color: #666666 } /* Literal.Number.Integer.Long */</style><div class=\"highlight\"><pre><span></span>    <span class=\"k\">return</span> <span class=\"nb\">len</span><span class=\"p\">(</span><span class=\"nb\">set</span><span class=\"p\">(</span><span class=\"n\">string</span><span class=\"o\">.</span><span class=\"n\">lower</span><span class=\"p\">()))</span>\n",
              "</pre></div>\n"
            ],
            "text/latex": [
              "\\begin{Verbatim}[commandchars=\\\\\\{\\}]\n",
              "    \\PY{k}{return} \\PY{n+nb}{len}\\PY{p}{(}\\PY{n+nb}{set}\\PY{p}{(}\\PY{n}{string}\\PY{o}{.}\\PY{n}{lower}\\PY{p}{(}\\PY{p}{)}\\PY{p}{)}\\PY{p}{)}\n",
              "\\end{Verbatim}\n"
            ],
            "text/plain": [
              "    return len(set(string.lower()))"
            ]
          },
          "metadata": {},
          "output_type": "display_data"
        },
        {
          "name": "stdout",
          "output_type": "stream",
          "text": [
            "\n",
            "Task #17:"
          ]
        },
        {
          "data": {
            "text/html": [
              "<span style=\"background-color:pink;\">Same as buggy</span>"
            ],
            "text/plain": [
              "<IPython.core.display.HTML object>"
            ]
          },
          "metadata": {},
          "output_type": "display_data"
        },
        {
          "name": "stdout",
          "output_type": "stream",
          "text": [
            "Task #18:"
          ]
        },
        {
          "data": {
            "text/html": [
              "<span style=\"background-color:aqua;\">Interesting!</span>"
            ],
            "text/plain": [
              "<IPython.core.display.HTML object>"
            ]
          },
          "metadata": {},
          "output_type": "display_data"
        },
        {
          "name": "stdout",
          "output_type": "stream",
          "text": [
            "Generated solution:\n"
          ]
        },
        {
          "data": {
            "text/html": [
              "<style>pre { line-height: 125%; }\n",
              "td.linenos .normal { color: inherit; background-color: transparent; padding-left: 5px; padding-right: 5px; }\n",
              "span.linenos { color: inherit; background-color: transparent; padding-left: 5px; padding-right: 5px; }\n",
              "td.linenos .special { color: #000000; background-color: #ffffc0; padding-left: 5px; padding-right: 5px; }\n",
              "span.linenos.special { color: #000000; background-color: #ffffc0; padding-left: 5px; padding-right: 5px; }\n",
              ".output_html .hll { background-color: #ffffcc }\n",
              ".output_html { background: #f8f8f8; }\n",
              ".output_html .c { color: #3D7B7B; font-style: italic } /* Comment */\n",
              ".output_html .err { border: 1px solid #FF0000 } /* Error */\n",
              ".output_html .k { color: #008000; font-weight: bold } /* Keyword */\n",
              ".output_html .o { color: #666666 } /* Operator */\n",
              ".output_html .ch { color: #3D7B7B; font-style: italic } /* Comment.Hashbang */\n",
              ".output_html .cm { color: #3D7B7B; font-style: italic } /* Comment.Multiline */\n",
              ".output_html .cp { color: #9C6500 } /* Comment.Preproc */\n",
              ".output_html .cpf { color: #3D7B7B; font-style: italic } /* Comment.PreprocFile */\n",
              ".output_html .c1 { color: #3D7B7B; font-style: italic } /* Comment.Single */\n",
              ".output_html .cs { color: #3D7B7B; font-style: italic } /* Comment.Special */\n",
              ".output_html .gd { color: #A00000 } /* Generic.Deleted */\n",
              ".output_html .ge { font-style: italic } /* Generic.Emph */\n",
              ".output_html .ges { font-weight: bold; font-style: italic } /* Generic.EmphStrong */\n",
              ".output_html .gr { color: #E40000 } /* Generic.Error */\n",
              ".output_html .gh { color: #000080; font-weight: bold } /* Generic.Heading */\n",
              ".output_html .gi { color: #008400 } /* Generic.Inserted */\n",
              ".output_html .go { color: #717171 } /* Generic.Output */\n",
              ".output_html .gp { color: #000080; font-weight: bold } /* Generic.Prompt */\n",
              ".output_html .gs { font-weight: bold } /* Generic.Strong */\n",
              ".output_html .gu { color: #800080; font-weight: bold } /* Generic.Subheading */\n",
              ".output_html .gt { color: #0044DD } /* Generic.Traceback */\n",
              ".output_html .kc { color: #008000; font-weight: bold } /* Keyword.Constant */\n",
              ".output_html .kd { color: #008000; font-weight: bold } /* Keyword.Declaration */\n",
              ".output_html .kn { color: #008000; font-weight: bold } /* Keyword.Namespace */\n",
              ".output_html .kp { color: #008000 } /* Keyword.Pseudo */\n",
              ".output_html .kr { color: #008000; font-weight: bold } /* Keyword.Reserved */\n",
              ".output_html .kt { color: #B00040 } /* Keyword.Type */\n",
              ".output_html .m { color: #666666 } /* Literal.Number */\n",
              ".output_html .s { color: #BA2121 } /* Literal.String */\n",
              ".output_html .na { color: #687822 } /* Name.Attribute */\n",
              ".output_html .nb { color: #008000 } /* Name.Builtin */\n",
              ".output_html .nc { color: #0000FF; font-weight: bold } /* Name.Class */\n",
              ".output_html .no { color: #880000 } /* Name.Constant */\n",
              ".output_html .nd { color: #AA22FF } /* Name.Decorator */\n",
              ".output_html .ni { color: #717171; font-weight: bold } /* Name.Entity */\n",
              ".output_html .ne { color: #CB3F38; font-weight: bold } /* Name.Exception */\n",
              ".output_html .nf { color: #0000FF } /* Name.Function */\n",
              ".output_html .nl { color: #767600 } /* Name.Label */\n",
              ".output_html .nn { color: #0000FF; font-weight: bold } /* Name.Namespace */\n",
              ".output_html .nt { color: #008000; font-weight: bold } /* Name.Tag */\n",
              ".output_html .nv { color: #19177C } /* Name.Variable */\n",
              ".output_html .ow { color: #AA22FF; font-weight: bold } /* Operator.Word */\n",
              ".output_html .w { color: #bbbbbb } /* Text.Whitespace */\n",
              ".output_html .mb { color: #666666 } /* Literal.Number.Bin */\n",
              ".output_html .mf { color: #666666 } /* Literal.Number.Float */\n",
              ".output_html .mh { color: #666666 } /* Literal.Number.Hex */\n",
              ".output_html .mi { color: #666666 } /* Literal.Number.Integer */\n",
              ".output_html .mo { color: #666666 } /* Literal.Number.Oct */\n",
              ".output_html .sa { color: #BA2121 } /* Literal.String.Affix */\n",
              ".output_html .sb { color: #BA2121 } /* Literal.String.Backtick */\n",
              ".output_html .sc { color: #BA2121 } /* Literal.String.Char */\n",
              ".output_html .dl { color: #BA2121 } /* Literal.String.Delimiter */\n",
              ".output_html .sd { color: #BA2121; font-style: italic } /* Literal.String.Doc */\n",
              ".output_html .s2 { color: #BA2121 } /* Literal.String.Double */\n",
              ".output_html .se { color: #AA5D1F; font-weight: bold } /* Literal.String.Escape */\n",
              ".output_html .sh { color: #BA2121 } /* Literal.String.Heredoc */\n",
              ".output_html .si { color: #A45A77; font-weight: bold } /* Literal.String.Interpol */\n",
              ".output_html .sx { color: #008000 } /* Literal.String.Other */\n",
              ".output_html .sr { color: #A45A77 } /* Literal.String.Regex */\n",
              ".output_html .s1 { color: #BA2121 } /* Literal.String.Single */\n",
              ".output_html .ss { color: #19177C } /* Literal.String.Symbol */\n",
              ".output_html .bp { color: #008000 } /* Name.Builtin.Pseudo */\n",
              ".output_html .fm { color: #0000FF } /* Name.Function.Magic */\n",
              ".output_html .vc { color: #19177C } /* Name.Variable.Class */\n",
              ".output_html .vg { color: #19177C } /* Name.Variable.Global */\n",
              ".output_html .vi { color: #19177C } /* Name.Variable.Instance */\n",
              ".output_html .vm { color: #19177C } /* Name.Variable.Magic */\n",
              ".output_html .il { color: #666666 } /* Literal.Number.Integer.Long */</style><div class=\"highlight\"><pre><span></span><span class=\"k\">def</span> <span class=\"nf\">how_many_times</span><span class=\"p\">(</span><span class=\"n\">string</span><span class=\"p\">:</span> <span class=\"nb\">str</span><span class=\"p\">,</span> <span class=\"n\">substring</span><span class=\"p\">:</span> <span class=\"nb\">str</span><span class=\"p\">)</span> <span class=\"o\">-&gt;</span> <span class=\"nb\">int</span><span class=\"p\">:</span>\n",
              "<span class=\"w\">    </span><span class=\"sd\">&quot;&quot;&quot;</span>\n",
              "<span class=\"sd\">    &gt;&gt;&gt; how_many_times(&#39;xyxyxyx&#39;, &#39;x&#39;)</span>\n",
              "<span class=\"sd\">    4</span>\n",
              "<span class=\"sd\">    &gt;&gt;&gt; how_many_times(&#39;cacacacac&#39;, &#39;cac&#39;)</span>\n",
              "<span class=\"sd\">    4</span>\n",
              "<span class=\"sd\">    &gt;&gt;&gt; how_many_times(&#39;john doe&#39;, &#39;john&#39;)</span>\n",
              "<span class=\"sd\">    1</span>\n",
              "<span class=\"sd\">    &quot;&quot;&quot;</span>\n",
              "    <span class=\"n\">times</span> <span class=\"o\">=</span> <span class=\"mi\">0</span>\n",
              "\n",
              "    <span class=\"k\">for</span> <span class=\"n\">i</span> <span class=\"ow\">in</span> <span class=\"nb\">range</span><span class=\"p\">(</span><span class=\"nb\">len</span><span class=\"p\">(</span><span class=\"n\">string</span><span class=\"p\">)</span> <span class=\"o\">-</span> <span class=\"nb\">len</span><span class=\"p\">(</span><span class=\"n\">substring</span><span class=\"p\">)):</span>\n",
              "        <span class=\"k\">if</span> <span class=\"n\">string</span><span class=\"p\">[</span><span class=\"n\">i</span><span class=\"p\">:</span><span class=\"n\">i</span><span class=\"o\">+</span><span class=\"nb\">len</span><span class=\"p\">(</span><span class=\"n\">substring</span><span class=\"p\">)]</span> <span class=\"o\">==</span> <span class=\"n\">substring</span><span class=\"p\">:</span>\n",
              "            <span class=\"n\">times</span> <span class=\"o\">+=</span> <span class=\"mi\">1</span>\n",
              "\n",
              "    <span class=\"k\">return</span> <span class=\"n\">times</span>\n",
              "</pre></div>\n"
            ],
            "text/latex": [
              "\\begin{Verbatim}[commandchars=\\\\\\{\\}]\n",
              "\\PY{k}{def} \\PY{n+nf}{how\\PYZus{}many\\PYZus{}times}\\PY{p}{(}\\PY{n}{string}\\PY{p}{:} \\PY{n+nb}{str}\\PY{p}{,} \\PY{n}{substring}\\PY{p}{:} \\PY{n+nb}{str}\\PY{p}{)} \\PY{o}{\\PYZhy{}}\\PY{o}{\\PYZgt{}} \\PY{n+nb}{int}\\PY{p}{:}\n",
              "\\PY{+w}{    }\\PY{l+s+sd}{\\PYZdq{}\\PYZdq{}\\PYZdq{}}\n",
              "\\PY{l+s+sd}{    \\PYZgt{}\\PYZgt{}\\PYZgt{} how\\PYZus{}many\\PYZus{}times(\\PYZsq{}xyxyxyx\\PYZsq{}, \\PYZsq{}x\\PYZsq{})}\n",
              "\\PY{l+s+sd}{    4}\n",
              "\\PY{l+s+sd}{    \\PYZgt{}\\PYZgt{}\\PYZgt{} how\\PYZus{}many\\PYZus{}times(\\PYZsq{}cacacacac\\PYZsq{}, \\PYZsq{}cac\\PYZsq{})}\n",
              "\\PY{l+s+sd}{    4}\n",
              "\\PY{l+s+sd}{    \\PYZgt{}\\PYZgt{}\\PYZgt{} how\\PYZus{}many\\PYZus{}times(\\PYZsq{}john doe\\PYZsq{}, \\PYZsq{}john\\PYZsq{})}\n",
              "\\PY{l+s+sd}{    1}\n",
              "\\PY{l+s+sd}{    \\PYZdq{}\\PYZdq{}\\PYZdq{}}\n",
              "    \\PY{n}{times} \\PY{o}{=} \\PY{l+m+mi}{0}\n",
              "\n",
              "    \\PY{k}{for} \\PY{n}{i} \\PY{o+ow}{in} \\PY{n+nb}{range}\\PY{p}{(}\\PY{n+nb}{len}\\PY{p}{(}\\PY{n}{string}\\PY{p}{)} \\PY{o}{\\PYZhy{}} \\PY{n+nb}{len}\\PY{p}{(}\\PY{n}{substring}\\PY{p}{)}\\PY{p}{)}\\PY{p}{:}\n",
              "        \\PY{k}{if} \\PY{n}{string}\\PY{p}{[}\\PY{n}{i}\\PY{p}{:}\\PY{n}{i}\\PY{o}{+}\\PY{n+nb}{len}\\PY{p}{(}\\PY{n}{substring}\\PY{p}{)}\\PY{p}{]} \\PY{o}{==} \\PY{n}{substring}\\PY{p}{:}\n",
              "            \\PY{n}{times} \\PY{o}{+}\\PY{o}{=} \\PY{l+m+mi}{1}\n",
              "\n",
              "    \\PY{k}{return} \\PY{n}{times}\n",
              "\\end{Verbatim}\n"
            ],
            "text/plain": [
              "def how_many_times(string: str, substring: str) -> int:\n",
              "    \"\"\"\n",
              "    >>> how_many_times('xyxyxyx', 'x')\n",
              "    4\n",
              "    >>> how_many_times('cacacacac', 'cac')\n",
              "    4\n",
              "    >>> how_many_times('john doe', 'john')\n",
              "    1\n",
              "    \"\"\"\n",
              "    times = 0\n",
              "\n",
              "    for i in range(len(string) - len(substring)):\n",
              "        if string[i:i+len(substring)] == substring:\n",
              "            times += 1\n",
              "\n",
              "    return times"
            ]
          },
          "metadata": {},
          "output_type": "display_data"
        },
        {
          "name": "stdout",
          "output_type": "stream",
          "text": [
            "Buggy solution:\n"
          ]
        },
        {
          "data": {
            "text/html": [
              "<style>pre { line-height: 125%; }\n",
              "td.linenos .normal { color: inherit; background-color: transparent; padding-left: 5px; padding-right: 5px; }\n",
              "span.linenos { color: inherit; background-color: transparent; padding-left: 5px; padding-right: 5px; }\n",
              "td.linenos .special { color: #000000; background-color: #ffffc0; padding-left: 5px; padding-right: 5px; }\n",
              "span.linenos.special { color: #000000; background-color: #ffffc0; padding-left: 5px; padding-right: 5px; }\n",
              ".output_html .hll { background-color: #ffffcc }\n",
              ".output_html { background: #f8f8f8; }\n",
              ".output_html .c { color: #3D7B7B; font-style: italic } /* Comment */\n",
              ".output_html .err { border: 1px solid #FF0000 } /* Error */\n",
              ".output_html .k { color: #008000; font-weight: bold } /* Keyword */\n",
              ".output_html .o { color: #666666 } /* Operator */\n",
              ".output_html .ch { color: #3D7B7B; font-style: italic } /* Comment.Hashbang */\n",
              ".output_html .cm { color: #3D7B7B; font-style: italic } /* Comment.Multiline */\n",
              ".output_html .cp { color: #9C6500 } /* Comment.Preproc */\n",
              ".output_html .cpf { color: #3D7B7B; font-style: italic } /* Comment.PreprocFile */\n",
              ".output_html .c1 { color: #3D7B7B; font-style: italic } /* Comment.Single */\n",
              ".output_html .cs { color: #3D7B7B; font-style: italic } /* Comment.Special */\n",
              ".output_html .gd { color: #A00000 } /* Generic.Deleted */\n",
              ".output_html .ge { font-style: italic } /* Generic.Emph */\n",
              ".output_html .ges { font-weight: bold; font-style: italic } /* Generic.EmphStrong */\n",
              ".output_html .gr { color: #E40000 } /* Generic.Error */\n",
              ".output_html .gh { color: #000080; font-weight: bold } /* Generic.Heading */\n",
              ".output_html .gi { color: #008400 } /* Generic.Inserted */\n",
              ".output_html .go { color: #717171 } /* Generic.Output */\n",
              ".output_html .gp { color: #000080; font-weight: bold } /* Generic.Prompt */\n",
              ".output_html .gs { font-weight: bold } /* Generic.Strong */\n",
              ".output_html .gu { color: #800080; font-weight: bold } /* Generic.Subheading */\n",
              ".output_html .gt { color: #0044DD } /* Generic.Traceback */\n",
              ".output_html .kc { color: #008000; font-weight: bold } /* Keyword.Constant */\n",
              ".output_html .kd { color: #008000; font-weight: bold } /* Keyword.Declaration */\n",
              ".output_html .kn { color: #008000; font-weight: bold } /* Keyword.Namespace */\n",
              ".output_html .kp { color: #008000 } /* Keyword.Pseudo */\n",
              ".output_html .kr { color: #008000; font-weight: bold } /* Keyword.Reserved */\n",
              ".output_html .kt { color: #B00040 } /* Keyword.Type */\n",
              ".output_html .m { color: #666666 } /* Literal.Number */\n",
              ".output_html .s { color: #BA2121 } /* Literal.String */\n",
              ".output_html .na { color: #687822 } /* Name.Attribute */\n",
              ".output_html .nb { color: #008000 } /* Name.Builtin */\n",
              ".output_html .nc { color: #0000FF; font-weight: bold } /* Name.Class */\n",
              ".output_html .no { color: #880000 } /* Name.Constant */\n",
              ".output_html .nd { color: #AA22FF } /* Name.Decorator */\n",
              ".output_html .ni { color: #717171; font-weight: bold } /* Name.Entity */\n",
              ".output_html .ne { color: #CB3F38; font-weight: bold } /* Name.Exception */\n",
              ".output_html .nf { color: #0000FF } /* Name.Function */\n",
              ".output_html .nl { color: #767600 } /* Name.Label */\n",
              ".output_html .nn { color: #0000FF; font-weight: bold } /* Name.Namespace */\n",
              ".output_html .nt { color: #008000; font-weight: bold } /* Name.Tag */\n",
              ".output_html .nv { color: #19177C } /* Name.Variable */\n",
              ".output_html .ow { color: #AA22FF; font-weight: bold } /* Operator.Word */\n",
              ".output_html .w { color: #bbbbbb } /* Text.Whitespace */\n",
              ".output_html .mb { color: #666666 } /* Literal.Number.Bin */\n",
              ".output_html .mf { color: #666666 } /* Literal.Number.Float */\n",
              ".output_html .mh { color: #666666 } /* Literal.Number.Hex */\n",
              ".output_html .mi { color: #666666 } /* Literal.Number.Integer */\n",
              ".output_html .mo { color: #666666 } /* Literal.Number.Oct */\n",
              ".output_html .sa { color: #BA2121 } /* Literal.String.Affix */\n",
              ".output_html .sb { color: #BA2121 } /* Literal.String.Backtick */\n",
              ".output_html .sc { color: #BA2121 } /* Literal.String.Char */\n",
              ".output_html .dl { color: #BA2121 } /* Literal.String.Delimiter */\n",
              ".output_html .sd { color: #BA2121; font-style: italic } /* Literal.String.Doc */\n",
              ".output_html .s2 { color: #BA2121 } /* Literal.String.Double */\n",
              ".output_html .se { color: #AA5D1F; font-weight: bold } /* Literal.String.Escape */\n",
              ".output_html .sh { color: #BA2121 } /* Literal.String.Heredoc */\n",
              ".output_html .si { color: #A45A77; font-weight: bold } /* Literal.String.Interpol */\n",
              ".output_html .sx { color: #008000 } /* Literal.String.Other */\n",
              ".output_html .sr { color: #A45A77 } /* Literal.String.Regex */\n",
              ".output_html .s1 { color: #BA2121 } /* Literal.String.Single */\n",
              ".output_html .ss { color: #19177C } /* Literal.String.Symbol */\n",
              ".output_html .bp { color: #008000 } /* Name.Builtin.Pseudo */\n",
              ".output_html .fm { color: #0000FF } /* Name.Function.Magic */\n",
              ".output_html .vc { color: #19177C } /* Name.Variable.Class */\n",
              ".output_html .vg { color: #19177C } /* Name.Variable.Global */\n",
              ".output_html .vi { color: #19177C } /* Name.Variable.Instance */\n",
              ".output_html .vm { color: #19177C } /* Name.Variable.Magic */\n",
              ".output_html .il { color: #666666 } /* Literal.Number.Integer.Long */</style><div class=\"highlight\"><pre><span></span>    <span class=\"n\">times</span> <span class=\"o\">=</span> <span class=\"mi\">0</span>\n",
              "\n",
              "    <span class=\"k\">for</span> <span class=\"n\">i</span> <span class=\"ow\">in</span> <span class=\"nb\">range</span><span class=\"p\">(</span><span class=\"nb\">len</span><span class=\"p\">(</span><span class=\"n\">string</span><span class=\"p\">)</span> <span class=\"o\">-</span> <span class=\"nb\">len</span><span class=\"p\">(</span><span class=\"n\">substring</span><span class=\"p\">)):</span>\n",
              "        <span class=\"k\">if</span> <span class=\"n\">string</span><span class=\"p\">[</span><span class=\"n\">i</span><span class=\"p\">:</span><span class=\"n\">i</span><span class=\"o\">+</span><span class=\"nb\">len</span><span class=\"p\">(</span><span class=\"n\">substring</span><span class=\"p\">)]</span> <span class=\"o\">==</span> <span class=\"n\">substring</span><span class=\"p\">:</span>\n",
              "            <span class=\"n\">times</span> <span class=\"o\">+=</span> <span class=\"mi\">1</span>\n",
              "\n",
              "    <span class=\"k\">return</span> <span class=\"n\">times</span>\n",
              "</pre></div>\n"
            ],
            "text/latex": [
              "\\begin{Verbatim}[commandchars=\\\\\\{\\}]\n",
              "    \\PY{n}{times} \\PY{o}{=} \\PY{l+m+mi}{0}\n",
              "\n",
              "    \\PY{k}{for} \\PY{n}{i} \\PY{o+ow}{in} \\PY{n+nb}{range}\\PY{p}{(}\\PY{n+nb}{len}\\PY{p}{(}\\PY{n}{string}\\PY{p}{)} \\PY{o}{\\PYZhy{}} \\PY{n+nb}{len}\\PY{p}{(}\\PY{n}{substring}\\PY{p}{)}\\PY{p}{)}\\PY{p}{:}\n",
              "        \\PY{k}{if} \\PY{n}{string}\\PY{p}{[}\\PY{n}{i}\\PY{p}{:}\\PY{n}{i}\\PY{o}{+}\\PY{n+nb}{len}\\PY{p}{(}\\PY{n}{substring}\\PY{p}{)}\\PY{p}{]} \\PY{o}{==} \\PY{n}{substring}\\PY{p}{:}\n",
              "            \\PY{n}{times} \\PY{o}{+}\\PY{o}{=} \\PY{l+m+mi}{1}\n",
              "\n",
              "    \\PY{k}{return} \\PY{n}{times}\n",
              "\\end{Verbatim}\n"
            ],
            "text/plain": [
              "    times = 0\n",
              "\n",
              "    for i in range(len(string) - len(substring)):\n",
              "        if string[i:i+len(substring)] == substring:\n",
              "            times += 1\n",
              "\n",
              "    return times"
            ]
          },
          "metadata": {},
          "output_type": "display_data"
        },
        {
          "name": "stdout",
          "output_type": "stream",
          "text": [
            "Correct solution:\n"
          ]
        },
        {
          "data": {
            "text/html": [
              "<style>pre { line-height: 125%; }\n",
              "td.linenos .normal { color: inherit; background-color: transparent; padding-left: 5px; padding-right: 5px; }\n",
              "span.linenos { color: inherit; background-color: transparent; padding-left: 5px; padding-right: 5px; }\n",
              "td.linenos .special { color: #000000; background-color: #ffffc0; padding-left: 5px; padding-right: 5px; }\n",
              "span.linenos.special { color: #000000; background-color: #ffffc0; padding-left: 5px; padding-right: 5px; }\n",
              ".output_html .hll { background-color: #ffffcc }\n",
              ".output_html { background: #f8f8f8; }\n",
              ".output_html .c { color: #3D7B7B; font-style: italic } /* Comment */\n",
              ".output_html .err { border: 1px solid #FF0000 } /* Error */\n",
              ".output_html .k { color: #008000; font-weight: bold } /* Keyword */\n",
              ".output_html .o { color: #666666 } /* Operator */\n",
              ".output_html .ch { color: #3D7B7B; font-style: italic } /* Comment.Hashbang */\n",
              ".output_html .cm { color: #3D7B7B; font-style: italic } /* Comment.Multiline */\n",
              ".output_html .cp { color: #9C6500 } /* Comment.Preproc */\n",
              ".output_html .cpf { color: #3D7B7B; font-style: italic } /* Comment.PreprocFile */\n",
              ".output_html .c1 { color: #3D7B7B; font-style: italic } /* Comment.Single */\n",
              ".output_html .cs { color: #3D7B7B; font-style: italic } /* Comment.Special */\n",
              ".output_html .gd { color: #A00000 } /* Generic.Deleted */\n",
              ".output_html .ge { font-style: italic } /* Generic.Emph */\n",
              ".output_html .ges { font-weight: bold; font-style: italic } /* Generic.EmphStrong */\n",
              ".output_html .gr { color: #E40000 } /* Generic.Error */\n",
              ".output_html .gh { color: #000080; font-weight: bold } /* Generic.Heading */\n",
              ".output_html .gi { color: #008400 } /* Generic.Inserted */\n",
              ".output_html .go { color: #717171 } /* Generic.Output */\n",
              ".output_html .gp { color: #000080; font-weight: bold } /* Generic.Prompt */\n",
              ".output_html .gs { font-weight: bold } /* Generic.Strong */\n",
              ".output_html .gu { color: #800080; font-weight: bold } /* Generic.Subheading */\n",
              ".output_html .gt { color: #0044DD } /* Generic.Traceback */\n",
              ".output_html .kc { color: #008000; font-weight: bold } /* Keyword.Constant */\n",
              ".output_html .kd { color: #008000; font-weight: bold } /* Keyword.Declaration */\n",
              ".output_html .kn { color: #008000; font-weight: bold } /* Keyword.Namespace */\n",
              ".output_html .kp { color: #008000 } /* Keyword.Pseudo */\n",
              ".output_html .kr { color: #008000; font-weight: bold } /* Keyword.Reserved */\n",
              ".output_html .kt { color: #B00040 } /* Keyword.Type */\n",
              ".output_html .m { color: #666666 } /* Literal.Number */\n",
              ".output_html .s { color: #BA2121 } /* Literal.String */\n",
              ".output_html .na { color: #687822 } /* Name.Attribute */\n",
              ".output_html .nb { color: #008000 } /* Name.Builtin */\n",
              ".output_html .nc { color: #0000FF; font-weight: bold } /* Name.Class */\n",
              ".output_html .no { color: #880000 } /* Name.Constant */\n",
              ".output_html .nd { color: #AA22FF } /* Name.Decorator */\n",
              ".output_html .ni { color: #717171; font-weight: bold } /* Name.Entity */\n",
              ".output_html .ne { color: #CB3F38; font-weight: bold } /* Name.Exception */\n",
              ".output_html .nf { color: #0000FF } /* Name.Function */\n",
              ".output_html .nl { color: #767600 } /* Name.Label */\n",
              ".output_html .nn { color: #0000FF; font-weight: bold } /* Name.Namespace */\n",
              ".output_html .nt { color: #008000; font-weight: bold } /* Name.Tag */\n",
              ".output_html .nv { color: #19177C } /* Name.Variable */\n",
              ".output_html .ow { color: #AA22FF; font-weight: bold } /* Operator.Word */\n",
              ".output_html .w { color: #bbbbbb } /* Text.Whitespace */\n",
              ".output_html .mb { color: #666666 } /* Literal.Number.Bin */\n",
              ".output_html .mf { color: #666666 } /* Literal.Number.Float */\n",
              ".output_html .mh { color: #666666 } /* Literal.Number.Hex */\n",
              ".output_html .mi { color: #666666 } /* Literal.Number.Integer */\n",
              ".output_html .mo { color: #666666 } /* Literal.Number.Oct */\n",
              ".output_html .sa { color: #BA2121 } /* Literal.String.Affix */\n",
              ".output_html .sb { color: #BA2121 } /* Literal.String.Backtick */\n",
              ".output_html .sc { color: #BA2121 } /* Literal.String.Char */\n",
              ".output_html .dl { color: #BA2121 } /* Literal.String.Delimiter */\n",
              ".output_html .sd { color: #BA2121; font-style: italic } /* Literal.String.Doc */\n",
              ".output_html .s2 { color: #BA2121 } /* Literal.String.Double */\n",
              ".output_html .se { color: #AA5D1F; font-weight: bold } /* Literal.String.Escape */\n",
              ".output_html .sh { color: #BA2121 } /* Literal.String.Heredoc */\n",
              ".output_html .si { color: #A45A77; font-weight: bold } /* Literal.String.Interpol */\n",
              ".output_html .sx { color: #008000 } /* Literal.String.Other */\n",
              ".output_html .sr { color: #A45A77 } /* Literal.String.Regex */\n",
              ".output_html .s1 { color: #BA2121 } /* Literal.String.Single */\n",
              ".output_html .ss { color: #19177C } /* Literal.String.Symbol */\n",
              ".output_html .bp { color: #008000 } /* Name.Builtin.Pseudo */\n",
              ".output_html .fm { color: #0000FF } /* Name.Function.Magic */\n",
              ".output_html .vc { color: #19177C } /* Name.Variable.Class */\n",
              ".output_html .vg { color: #19177C } /* Name.Variable.Global */\n",
              ".output_html .vi { color: #19177C } /* Name.Variable.Instance */\n",
              ".output_html .vm { color: #19177C } /* Name.Variable.Magic */\n",
              ".output_html .il { color: #666666 } /* Literal.Number.Integer.Long */</style><div class=\"highlight\"><pre><span></span>    <span class=\"n\">times</span> <span class=\"o\">=</span> <span class=\"mi\">0</span>\n",
              "\n",
              "    <span class=\"k\">for</span> <span class=\"n\">i</span> <span class=\"ow\">in</span> <span class=\"nb\">range</span><span class=\"p\">(</span><span class=\"nb\">len</span><span class=\"p\">(</span><span class=\"n\">string</span><span class=\"p\">)</span> <span class=\"o\">-</span> <span class=\"nb\">len</span><span class=\"p\">(</span><span class=\"n\">substring</span><span class=\"p\">)</span> <span class=\"o\">+</span> <span class=\"mi\">1</span><span class=\"p\">):</span>\n",
              "        <span class=\"k\">if</span> <span class=\"n\">string</span><span class=\"p\">[</span><span class=\"n\">i</span><span class=\"p\">:</span><span class=\"n\">i</span><span class=\"o\">+</span><span class=\"nb\">len</span><span class=\"p\">(</span><span class=\"n\">substring</span><span class=\"p\">)]</span> <span class=\"o\">==</span> <span class=\"n\">substring</span><span class=\"p\">:</span>\n",
              "            <span class=\"n\">times</span> <span class=\"o\">+=</span> <span class=\"mi\">1</span>\n",
              "\n",
              "    <span class=\"k\">return</span> <span class=\"n\">times</span>\n",
              "</pre></div>\n"
            ],
            "text/latex": [
              "\\begin{Verbatim}[commandchars=\\\\\\{\\}]\n",
              "    \\PY{n}{times} \\PY{o}{=} \\PY{l+m+mi}{0}\n",
              "\n",
              "    \\PY{k}{for} \\PY{n}{i} \\PY{o+ow}{in} \\PY{n+nb}{range}\\PY{p}{(}\\PY{n+nb}{len}\\PY{p}{(}\\PY{n}{string}\\PY{p}{)} \\PY{o}{\\PYZhy{}} \\PY{n+nb}{len}\\PY{p}{(}\\PY{n}{substring}\\PY{p}{)} \\PY{o}{+} \\PY{l+m+mi}{1}\\PY{p}{)}\\PY{p}{:}\n",
              "        \\PY{k}{if} \\PY{n}{string}\\PY{p}{[}\\PY{n}{i}\\PY{p}{:}\\PY{n}{i}\\PY{o}{+}\\PY{n+nb}{len}\\PY{p}{(}\\PY{n}{substring}\\PY{p}{)}\\PY{p}{]} \\PY{o}{==} \\PY{n}{substring}\\PY{p}{:}\n",
              "            \\PY{n}{times} \\PY{o}{+}\\PY{o}{=} \\PY{l+m+mi}{1}\n",
              "\n",
              "    \\PY{k}{return} \\PY{n}{times}\n",
              "\\end{Verbatim}\n"
            ],
            "text/plain": [
              "    times = 0\n",
              "\n",
              "    for i in range(len(string) - len(substring) + 1):\n",
              "        if string[i:i+len(substring)] == substring:\n",
              "            times += 1\n",
              "\n",
              "    return times"
            ]
          },
          "metadata": {},
          "output_type": "display_data"
        },
        {
          "name": "stdout",
          "output_type": "stream",
          "text": [
            "\n",
            "Task #19:"
          ]
        },
        {
          "data": {
            "text/html": [
              "<span style=\"background-color:pink;\">Same as buggy</span>"
            ],
            "text/plain": [
              "<IPython.core.display.HTML object>"
            ]
          },
          "metadata": {},
          "output_type": "display_data"
        },
        {
          "name": "stdout",
          "output_type": "stream",
          "text": [
            "Task #20:"
          ]
        },
        {
          "data": {
            "text/html": [
              "<span style=\"background-color:pink;\">Same as buggy</span>"
            ],
            "text/plain": [
              "<IPython.core.display.HTML object>"
            ]
          },
          "metadata": {},
          "output_type": "display_data"
        },
        {
          "name": "stdout",
          "output_type": "stream",
          "text": [
            "Task #21:"
          ]
        },
        {
          "data": {
            "text/html": [
              "<span style=\"background-color:pink;\">Same as buggy</span>"
            ],
            "text/plain": [
              "<IPython.core.display.HTML object>"
            ]
          },
          "metadata": {},
          "output_type": "display_data"
        },
        {
          "name": "stdout",
          "output_type": "stream",
          "text": [
            "Task #22:"
          ]
        },
        {
          "data": {
            "text/html": [
              "<span style=\"background-color:pink;\">Same as buggy</span>"
            ],
            "text/plain": [
              "<IPython.core.display.HTML object>"
            ]
          },
          "metadata": {},
          "output_type": "display_data"
        },
        {
          "name": "stdout",
          "output_type": "stream",
          "text": [
            "Task #23:"
          ]
        },
        {
          "data": {
            "text/html": [
              "<span style=\"background-color:pink;\">Same as buggy</span>"
            ],
            "text/plain": [
              "<IPython.core.display.HTML object>"
            ]
          },
          "metadata": {},
          "output_type": "display_data"
        },
        {
          "name": "stdout",
          "output_type": "stream",
          "text": [
            "Task #24:"
          ]
        },
        {
          "data": {
            "text/html": [
              "<span style=\"background-color:pink;\">Same as buggy</span>"
            ],
            "text/plain": [
              "<IPython.core.display.HTML object>"
            ]
          },
          "metadata": {},
          "output_type": "display_data"
        },
        {
          "name": "stdout",
          "output_type": "stream",
          "text": [
            "Task #25:"
          ]
        },
        {
          "data": {
            "text/html": [
              "<span style=\"background-color:aqua;\">Interesting!</span>"
            ],
            "text/plain": [
              "<IPython.core.display.HTML object>"
            ]
          },
          "metadata": {},
          "output_type": "display_data"
        },
        {
          "name": "stdout",
          "output_type": "stream",
          "text": [
            "Generated solution:\n"
          ]
        },
        {
          "data": {
            "text/html": [
              "<style>pre { line-height: 125%; }\n",
              "td.linenos .normal { color: inherit; background-color: transparent; padding-left: 5px; padding-right: 5px; }\n",
              "span.linenos { color: inherit; background-color: transparent; padding-left: 5px; padding-right: 5px; }\n",
              "td.linenos .special { color: #000000; background-color: #ffffc0; padding-left: 5px; padding-right: 5px; }\n",
              "span.linenos.special { color: #000000; background-color: #ffffc0; padding-left: 5px; padding-right: 5px; }\n",
              ".output_html .hll { background-color: #ffffcc }\n",
              ".output_html { background: #f8f8f8; }\n",
              ".output_html .c { color: #3D7B7B; font-style: italic } /* Comment */\n",
              ".output_html .err { border: 1px solid #FF0000 } /* Error */\n",
              ".output_html .k { color: #008000; font-weight: bold } /* Keyword */\n",
              ".output_html .o { color: #666666 } /* Operator */\n",
              ".output_html .ch { color: #3D7B7B; font-style: italic } /* Comment.Hashbang */\n",
              ".output_html .cm { color: #3D7B7B; font-style: italic } /* Comment.Multiline */\n",
              ".output_html .cp { color: #9C6500 } /* Comment.Preproc */\n",
              ".output_html .cpf { color: #3D7B7B; font-style: italic } /* Comment.PreprocFile */\n",
              ".output_html .c1 { color: #3D7B7B; font-style: italic } /* Comment.Single */\n",
              ".output_html .cs { color: #3D7B7B; font-style: italic } /* Comment.Special */\n",
              ".output_html .gd { color: #A00000 } /* Generic.Deleted */\n",
              ".output_html .ge { font-style: italic } /* Generic.Emph */\n",
              ".output_html .ges { font-weight: bold; font-style: italic } /* Generic.EmphStrong */\n",
              ".output_html .gr { color: #E40000 } /* Generic.Error */\n",
              ".output_html .gh { color: #000080; font-weight: bold } /* Generic.Heading */\n",
              ".output_html .gi { color: #008400 } /* Generic.Inserted */\n",
              ".output_html .go { color: #717171 } /* Generic.Output */\n",
              ".output_html .gp { color: #000080; font-weight: bold } /* Generic.Prompt */\n",
              ".output_html .gs { font-weight: bold } /* Generic.Strong */\n",
              ".output_html .gu { color: #800080; font-weight: bold } /* Generic.Subheading */\n",
              ".output_html .gt { color: #0044DD } /* Generic.Traceback */\n",
              ".output_html .kc { color: #008000; font-weight: bold } /* Keyword.Constant */\n",
              ".output_html .kd { color: #008000; font-weight: bold } /* Keyword.Declaration */\n",
              ".output_html .kn { color: #008000; font-weight: bold } /* Keyword.Namespace */\n",
              ".output_html .kp { color: #008000 } /* Keyword.Pseudo */\n",
              ".output_html .kr { color: #008000; font-weight: bold } /* Keyword.Reserved */\n",
              ".output_html .kt { color: #B00040 } /* Keyword.Type */\n",
              ".output_html .m { color: #666666 } /* Literal.Number */\n",
              ".output_html .s { color: #BA2121 } /* Literal.String */\n",
              ".output_html .na { color: #687822 } /* Name.Attribute */\n",
              ".output_html .nb { color: #008000 } /* Name.Builtin */\n",
              ".output_html .nc { color: #0000FF; font-weight: bold } /* Name.Class */\n",
              ".output_html .no { color: #880000 } /* Name.Constant */\n",
              ".output_html .nd { color: #AA22FF } /* Name.Decorator */\n",
              ".output_html .ni { color: #717171; font-weight: bold } /* Name.Entity */\n",
              ".output_html .ne { color: #CB3F38; font-weight: bold } /* Name.Exception */\n",
              ".output_html .nf { color: #0000FF } /* Name.Function */\n",
              ".output_html .nl { color: #767600 } /* Name.Label */\n",
              ".output_html .nn { color: #0000FF; font-weight: bold } /* Name.Namespace */\n",
              ".output_html .nt { color: #008000; font-weight: bold } /* Name.Tag */\n",
              ".output_html .nv { color: #19177C } /* Name.Variable */\n",
              ".output_html .ow { color: #AA22FF; font-weight: bold } /* Operator.Word */\n",
              ".output_html .w { color: #bbbbbb } /* Text.Whitespace */\n",
              ".output_html .mb { color: #666666 } /* Literal.Number.Bin */\n",
              ".output_html .mf { color: #666666 } /* Literal.Number.Float */\n",
              ".output_html .mh { color: #666666 } /* Literal.Number.Hex */\n",
              ".output_html .mi { color: #666666 } /* Literal.Number.Integer */\n",
              ".output_html .mo { color: #666666 } /* Literal.Number.Oct */\n",
              ".output_html .sa { color: #BA2121 } /* Literal.String.Affix */\n",
              ".output_html .sb { color: #BA2121 } /* Literal.String.Backtick */\n",
              ".output_html .sc { color: #BA2121 } /* Literal.String.Char */\n",
              ".output_html .dl { color: #BA2121 } /* Literal.String.Delimiter */\n",
              ".output_html .sd { color: #BA2121; font-style: italic } /* Literal.String.Doc */\n",
              ".output_html .s2 { color: #BA2121 } /* Literal.String.Double */\n",
              ".output_html .se { color: #AA5D1F; font-weight: bold } /* Literal.String.Escape */\n",
              ".output_html .sh { color: #BA2121 } /* Literal.String.Heredoc */\n",
              ".output_html .si { color: #A45A77; font-weight: bold } /* Literal.String.Interpol */\n",
              ".output_html .sx { color: #008000 } /* Literal.String.Other */\n",
              ".output_html .sr { color: #A45A77 } /* Literal.String.Regex */\n",
              ".output_html .s1 { color: #BA2121 } /* Literal.String.Single */\n",
              ".output_html .ss { color: #19177C } /* Literal.String.Symbol */\n",
              ".output_html .bp { color: #008000 } /* Name.Builtin.Pseudo */\n",
              ".output_html .fm { color: #0000FF } /* Name.Function.Magic */\n",
              ".output_html .vc { color: #19177C } /* Name.Variable.Class */\n",
              ".output_html .vg { color: #19177C } /* Name.Variable.Global */\n",
              ".output_html .vi { color: #19177C } /* Name.Variable.Instance */\n",
              ".output_html .vm { color: #19177C } /* Name.Variable.Magic */\n",
              ".output_html .il { color: #666666 } /* Literal.Number.Integer.Long */</style><div class=\"highlight\"><pre><span></span><span class=\"kn\">from</span> <span class=\"nn\">typing</span> <span class=\"kn\">import</span> <span class=\"n\">List</span>\n",
              "\n",
              "\n",
              "<span class=\"k\">def</span> <span class=\"nf\">factorize</span><span class=\"p\">(</span><span class=\"n\">n</span><span class=\"p\">:</span> <span class=\"nb\">int</span><span class=\"p\">)</span> <span class=\"o\">-&gt;</span> <span class=\"n\">List</span><span class=\"p\">[</span><span class=\"nb\">int</span><span class=\"p\">]:</span>\n",
              "    <span class=\"kn\">import</span> <span class=\"nn\">math</span>\n",
              "    <span class=\"n\">fact</span> <span class=\"o\">=</span> <span class=\"p\">[]</span>\n",
              "    <span class=\"n\">i</span> <span class=\"o\">=</span> <span class=\"mi\">0</span>\n",
              "    <span class=\"k\">while</span> <span class=\"n\">i</span> <span class=\"o\">&lt;=</span> <span class=\"n\">math</span><span class=\"o\">.</span><span class=\"n\">sqrt</span><span class=\"p\">(</span><span class=\"n\">n</span><span class=\"p\">):</span>\n",
              "        <span class=\"k\">if</span> <span class=\"n\">n</span> <span class=\"o\">%</span> <span class=\"n\">i</span> <span class=\"o\">==</span> <span class=\"mi\">0</span><span class=\"p\">:</span>\n",
              "            <span class=\"n\">fact</span><span class=\"o\">.</span><span class=\"n\">append</span><span class=\"p\">(</span><span class=\"n\">i</span><span class=\"p\">)</span>\n",
              "            <span class=\"n\">n</span> <span class=\"o\">//=</span> <span class=\"n\">i</span>\n",
              "        <span class=\"k\">else</span><span class=\"p\">:</span>\n",
              "            <span class=\"n\">i</span> <span class=\"o\">+=</span> <span class=\"mi\">1</span>\n",
              "\n",
              "    <span class=\"k\">if</span> <span class=\"n\">n</span> <span class=\"o\">&gt;</span> <span class=\"mi\">1</span><span class=\"p\">:</span>\n",
              "        <span class=\"n\">fact</span><span class=\"o\">.</span><span class=\"n\">append</span><span class=\"p\">(</span><span class=\"n\">n</span><span class=\"p\">)</span>\n",
              "    <span class=\"k\">return</span> <span class=\"n\">fact</span>\n",
              "</pre></div>\n"
            ],
            "text/latex": [
              "\\begin{Verbatim}[commandchars=\\\\\\{\\}]\n",
              "\\PY{k+kn}{from} \\PY{n+nn}{typing} \\PY{k+kn}{import} \\PY{n}{List}\n",
              "\n",
              "\n",
              "\\PY{k}{def} \\PY{n+nf}{factorize}\\PY{p}{(}\\PY{n}{n}\\PY{p}{:} \\PY{n+nb}{int}\\PY{p}{)} \\PY{o}{\\PYZhy{}}\\PY{o}{\\PYZgt{}} \\PY{n}{List}\\PY{p}{[}\\PY{n+nb}{int}\\PY{p}{]}\\PY{p}{:}\n",
              "    \\PY{k+kn}{import} \\PY{n+nn}{math}\n",
              "    \\PY{n}{fact} \\PY{o}{=} \\PY{p}{[}\\PY{p}{]}\n",
              "    \\PY{n}{i} \\PY{o}{=} \\PY{l+m+mi}{0}\n",
              "    \\PY{k}{while} \\PY{n}{i} \\PY{o}{\\PYZlt{}}\\PY{o}{=} \\PY{n}{math}\\PY{o}{.}\\PY{n}{sqrt}\\PY{p}{(}\\PY{n}{n}\\PY{p}{)}\\PY{p}{:}\n",
              "        \\PY{k}{if} \\PY{n}{n} \\PY{o}{\\PYZpc{}} \\PY{n}{i} \\PY{o}{==} \\PY{l+m+mi}{0}\\PY{p}{:}\n",
              "            \\PY{n}{fact}\\PY{o}{.}\\PY{n}{append}\\PY{p}{(}\\PY{n}{i}\\PY{p}{)}\n",
              "            \\PY{n}{n} \\PY{o}{/}\\PY{o}{/}\\PY{o}{=} \\PY{n}{i}\n",
              "        \\PY{k}{else}\\PY{p}{:}\n",
              "            \\PY{n}{i} \\PY{o}{+}\\PY{o}{=} \\PY{l+m+mi}{1}\n",
              "\n",
              "    \\PY{k}{if} \\PY{n}{n} \\PY{o}{\\PYZgt{}} \\PY{l+m+mi}{1}\\PY{p}{:}\n",
              "        \\PY{n}{fact}\\PY{o}{.}\\PY{n}{append}\\PY{p}{(}\\PY{n}{n}\\PY{p}{)}\n",
              "    \\PY{k}{return} \\PY{n}{fact}\n",
              "\\end{Verbatim}\n"
            ],
            "text/plain": [
              "from typing import List\n",
              "\n",
              "\n",
              "def factorize(n: int) -> List[int]:\n",
              "    import math\n",
              "    fact = []\n",
              "    i = 0\n",
              "    while i <= math.sqrt(n):\n",
              "        if n % i == 0:\n",
              "            fact.append(i)\n",
              "            n //= i\n",
              "        else:\n",
              "            i += 1\n",
              "\n",
              "    if n > 1:\n",
              "        fact.append(n)\n",
              "    return fact\n",
              "\n",
              "\n",
              "\n",
              "\n"
            ]
          },
          "metadata": {},
          "output_type": "display_data"
        },
        {
          "name": "stdout",
          "output_type": "stream",
          "text": [
            "Buggy solution:\n"
          ]
        },
        {
          "data": {
            "text/html": [
              "<style>pre { line-height: 125%; }\n",
              "td.linenos .normal { color: inherit; background-color: transparent; padding-left: 5px; padding-right: 5px; }\n",
              "span.linenos { color: inherit; background-color: transparent; padding-left: 5px; padding-right: 5px; }\n",
              "td.linenos .special { color: #000000; background-color: #ffffc0; padding-left: 5px; padding-right: 5px; }\n",
              "span.linenos.special { color: #000000; background-color: #ffffc0; padding-left: 5px; padding-right: 5px; }\n",
              ".output_html .hll { background-color: #ffffcc }\n",
              ".output_html { background: #f8f8f8; }\n",
              ".output_html .c { color: #3D7B7B; font-style: italic } /* Comment */\n",
              ".output_html .err { border: 1px solid #FF0000 } /* Error */\n",
              ".output_html .k { color: #008000; font-weight: bold } /* Keyword */\n",
              ".output_html .o { color: #666666 } /* Operator */\n",
              ".output_html .ch { color: #3D7B7B; font-style: italic } /* Comment.Hashbang */\n",
              ".output_html .cm { color: #3D7B7B; font-style: italic } /* Comment.Multiline */\n",
              ".output_html .cp { color: #9C6500 } /* Comment.Preproc */\n",
              ".output_html .cpf { color: #3D7B7B; font-style: italic } /* Comment.PreprocFile */\n",
              ".output_html .c1 { color: #3D7B7B; font-style: italic } /* Comment.Single */\n",
              ".output_html .cs { color: #3D7B7B; font-style: italic } /* Comment.Special */\n",
              ".output_html .gd { color: #A00000 } /* Generic.Deleted */\n",
              ".output_html .ge { font-style: italic } /* Generic.Emph */\n",
              ".output_html .ges { font-weight: bold; font-style: italic } /* Generic.EmphStrong */\n",
              ".output_html .gr { color: #E40000 } /* Generic.Error */\n",
              ".output_html .gh { color: #000080; font-weight: bold } /* Generic.Heading */\n",
              ".output_html .gi { color: #008400 } /* Generic.Inserted */\n",
              ".output_html .go { color: #717171 } /* Generic.Output */\n",
              ".output_html .gp { color: #000080; font-weight: bold } /* Generic.Prompt */\n",
              ".output_html .gs { font-weight: bold } /* Generic.Strong */\n",
              ".output_html .gu { color: #800080; font-weight: bold } /* Generic.Subheading */\n",
              ".output_html .gt { color: #0044DD } /* Generic.Traceback */\n",
              ".output_html .kc { color: #008000; font-weight: bold } /* Keyword.Constant */\n",
              ".output_html .kd { color: #008000; font-weight: bold } /* Keyword.Declaration */\n",
              ".output_html .kn { color: #008000; font-weight: bold } /* Keyword.Namespace */\n",
              ".output_html .kp { color: #008000 } /* Keyword.Pseudo */\n",
              ".output_html .kr { color: #008000; font-weight: bold } /* Keyword.Reserved */\n",
              ".output_html .kt { color: #B00040 } /* Keyword.Type */\n",
              ".output_html .m { color: #666666 } /* Literal.Number */\n",
              ".output_html .s { color: #BA2121 } /* Literal.String */\n",
              ".output_html .na { color: #687822 } /* Name.Attribute */\n",
              ".output_html .nb { color: #008000 } /* Name.Builtin */\n",
              ".output_html .nc { color: #0000FF; font-weight: bold } /* Name.Class */\n",
              ".output_html .no { color: #880000 } /* Name.Constant */\n",
              ".output_html .nd { color: #AA22FF } /* Name.Decorator */\n",
              ".output_html .ni { color: #717171; font-weight: bold } /* Name.Entity */\n",
              ".output_html .ne { color: #CB3F38; font-weight: bold } /* Name.Exception */\n",
              ".output_html .nf { color: #0000FF } /* Name.Function */\n",
              ".output_html .nl { color: #767600 } /* Name.Label */\n",
              ".output_html .nn { color: #0000FF; font-weight: bold } /* Name.Namespace */\n",
              ".output_html .nt { color: #008000; font-weight: bold } /* Name.Tag */\n",
              ".output_html .nv { color: #19177C } /* Name.Variable */\n",
              ".output_html .ow { color: #AA22FF; font-weight: bold } /* Operator.Word */\n",
              ".output_html .w { color: #bbbbbb } /* Text.Whitespace */\n",
              ".output_html .mb { color: #666666 } /* Literal.Number.Bin */\n",
              ".output_html .mf { color: #666666 } /* Literal.Number.Float */\n",
              ".output_html .mh { color: #666666 } /* Literal.Number.Hex */\n",
              ".output_html .mi { color: #666666 } /* Literal.Number.Integer */\n",
              ".output_html .mo { color: #666666 } /* Literal.Number.Oct */\n",
              ".output_html .sa { color: #BA2121 } /* Literal.String.Affix */\n",
              ".output_html .sb { color: #BA2121 } /* Literal.String.Backtick */\n",
              ".output_html .sc { color: #BA2121 } /* Literal.String.Char */\n",
              ".output_html .dl { color: #BA2121 } /* Literal.String.Delimiter */\n",
              ".output_html .sd { color: #BA2121; font-style: italic } /* Literal.String.Doc */\n",
              ".output_html .s2 { color: #BA2121 } /* Literal.String.Double */\n",
              ".output_html .se { color: #AA5D1F; font-weight: bold } /* Literal.String.Escape */\n",
              ".output_html .sh { color: #BA2121 } /* Literal.String.Heredoc */\n",
              ".output_html .si { color: #A45A77; font-weight: bold } /* Literal.String.Interpol */\n",
              ".output_html .sx { color: #008000 } /* Literal.String.Other */\n",
              ".output_html .sr { color: #A45A77 } /* Literal.String.Regex */\n",
              ".output_html .s1 { color: #BA2121 } /* Literal.String.Single */\n",
              ".output_html .ss { color: #19177C } /* Literal.String.Symbol */\n",
              ".output_html .bp { color: #008000 } /* Name.Builtin.Pseudo */\n",
              ".output_html .fm { color: #0000FF } /* Name.Function.Magic */\n",
              ".output_html .vc { color: #19177C } /* Name.Variable.Class */\n",
              ".output_html .vg { color: #19177C } /* Name.Variable.Global */\n",
              ".output_html .vi { color: #19177C } /* Name.Variable.Instance */\n",
              ".output_html .vm { color: #19177C } /* Name.Variable.Magic */\n",
              ".output_html .il { color: #666666 } /* Literal.Number.Integer.Long */</style><div class=\"highlight\"><pre><span></span>    <span class=\"n\">i</span> <span class=\"o\">=</span> <span class=\"mi\">0</span>\n",
              "    <span class=\"k\">while</span> <span class=\"n\">i</span> <span class=\"o\">&lt;=</span> <span class=\"nb\">int</span><span class=\"p\">(</span><span class=\"n\">math</span><span class=\"o\">.</span><span class=\"n\">sqrt</span><span class=\"p\">(</span><span class=\"n\">n</span><span class=\"p\">)</span> <span class=\"o\">+</span> <span class=\"mi\">1</span><span class=\"p\">):</span>\n",
              "        <span class=\"k\">if</span> <span class=\"n\">n</span> <span class=\"o\">%</span> <span class=\"n\">i</span> <span class=\"o\">==</span> <span class=\"mi\">0</span><span class=\"p\">:</span>\n",
              "            <span class=\"n\">fact</span><span class=\"o\">.</span><span class=\"n\">append</span><span class=\"p\">(</span><span class=\"n\">i</span><span class=\"p\">)</span>\n",
              "            <span class=\"n\">n</span> <span class=\"o\">//=</span> <span class=\"n\">i</span>\n",
              "        <span class=\"k\">else</span><span class=\"p\">:</span>\n",
              "            <span class=\"n\">i</span> <span class=\"o\">+=</span> <span class=\"mi\">1</span>\n",
              "\n",
              "    <span class=\"k\">if</span> <span class=\"n\">n</span> <span class=\"o\">&gt;</span> <span class=\"mi\">1</span><span class=\"p\">:</span>\n",
              "        <span class=\"n\">fact</span><span class=\"o\">.</span><span class=\"n\">append</span><span class=\"p\">(</span><span class=\"n\">n</span><span class=\"p\">)</span>\n",
              "    <span class=\"k\">return</span> <span class=\"n\">fact</span>\n",
              "</pre></div>\n"
            ],
            "text/latex": [
              "\\begin{Verbatim}[commandchars=\\\\\\{\\}]\n",
              "    \\PY{n}{i} \\PY{o}{=} \\PY{l+m+mi}{0}\n",
              "    \\PY{k}{while} \\PY{n}{i} \\PY{o}{\\PYZlt{}}\\PY{o}{=} \\PY{n+nb}{int}\\PY{p}{(}\\PY{n}{math}\\PY{o}{.}\\PY{n}{sqrt}\\PY{p}{(}\\PY{n}{n}\\PY{p}{)} \\PY{o}{+} \\PY{l+m+mi}{1}\\PY{p}{)}\\PY{p}{:}\n",
              "        \\PY{k}{if} \\PY{n}{n} \\PY{o}{\\PYZpc{}} \\PY{n}{i} \\PY{o}{==} \\PY{l+m+mi}{0}\\PY{p}{:}\n",
              "            \\PY{n}{fact}\\PY{o}{.}\\PY{n}{append}\\PY{p}{(}\\PY{n}{i}\\PY{p}{)}\n",
              "            \\PY{n}{n} \\PY{o}{/}\\PY{o}{/}\\PY{o}{=} \\PY{n}{i}\n",
              "        \\PY{k}{else}\\PY{p}{:}\n",
              "            \\PY{n}{i} \\PY{o}{+}\\PY{o}{=} \\PY{l+m+mi}{1}\n",
              "\n",
              "    \\PY{k}{if} \\PY{n}{n} \\PY{o}{\\PYZgt{}} \\PY{l+m+mi}{1}\\PY{p}{:}\n",
              "        \\PY{n}{fact}\\PY{o}{.}\\PY{n}{append}\\PY{p}{(}\\PY{n}{n}\\PY{p}{)}\n",
              "    \\PY{k}{return} \\PY{n}{fact}\n",
              "\\end{Verbatim}\n"
            ],
            "text/plain": [
              "    i = 0\n",
              "    while i <= int(math.sqrt(n) + 1):\n",
              "        if n % i == 0:\n",
              "            fact.append(i)\n",
              "            n //= i\n",
              "        else:\n",
              "            i += 1\n",
              "\n",
              "    if n > 1:\n",
              "        fact.append(n)\n",
              "    return fact"
            ]
          },
          "metadata": {},
          "output_type": "display_data"
        },
        {
          "name": "stdout",
          "output_type": "stream",
          "text": [
            "Correct solution:\n"
          ]
        },
        {
          "data": {
            "text/html": [
              "<style>pre { line-height: 125%; }\n",
              "td.linenos .normal { color: inherit; background-color: transparent; padding-left: 5px; padding-right: 5px; }\n",
              "span.linenos { color: inherit; background-color: transparent; padding-left: 5px; padding-right: 5px; }\n",
              "td.linenos .special { color: #000000; background-color: #ffffc0; padding-left: 5px; padding-right: 5px; }\n",
              "span.linenos.special { color: #000000; background-color: #ffffc0; padding-left: 5px; padding-right: 5px; }\n",
              ".output_html .hll { background-color: #ffffcc }\n",
              ".output_html { background: #f8f8f8; }\n",
              ".output_html .c { color: #3D7B7B; font-style: italic } /* Comment */\n",
              ".output_html .err { border: 1px solid #FF0000 } /* Error */\n",
              ".output_html .k { color: #008000; font-weight: bold } /* Keyword */\n",
              ".output_html .o { color: #666666 } /* Operator */\n",
              ".output_html .ch { color: #3D7B7B; font-style: italic } /* Comment.Hashbang */\n",
              ".output_html .cm { color: #3D7B7B; font-style: italic } /* Comment.Multiline */\n",
              ".output_html .cp { color: #9C6500 } /* Comment.Preproc */\n",
              ".output_html .cpf { color: #3D7B7B; font-style: italic } /* Comment.PreprocFile */\n",
              ".output_html .c1 { color: #3D7B7B; font-style: italic } /* Comment.Single */\n",
              ".output_html .cs { color: #3D7B7B; font-style: italic } /* Comment.Special */\n",
              ".output_html .gd { color: #A00000 } /* Generic.Deleted */\n",
              ".output_html .ge { font-style: italic } /* Generic.Emph */\n",
              ".output_html .ges { font-weight: bold; font-style: italic } /* Generic.EmphStrong */\n",
              ".output_html .gr { color: #E40000 } /* Generic.Error */\n",
              ".output_html .gh { color: #000080; font-weight: bold } /* Generic.Heading */\n",
              ".output_html .gi { color: #008400 } /* Generic.Inserted */\n",
              ".output_html .go { color: #717171 } /* Generic.Output */\n",
              ".output_html .gp { color: #000080; font-weight: bold } /* Generic.Prompt */\n",
              ".output_html .gs { font-weight: bold } /* Generic.Strong */\n",
              ".output_html .gu { color: #800080; font-weight: bold } /* Generic.Subheading */\n",
              ".output_html .gt { color: #0044DD } /* Generic.Traceback */\n",
              ".output_html .kc { color: #008000; font-weight: bold } /* Keyword.Constant */\n",
              ".output_html .kd { color: #008000; font-weight: bold } /* Keyword.Declaration */\n",
              ".output_html .kn { color: #008000; font-weight: bold } /* Keyword.Namespace */\n",
              ".output_html .kp { color: #008000 } /* Keyword.Pseudo */\n",
              ".output_html .kr { color: #008000; font-weight: bold } /* Keyword.Reserved */\n",
              ".output_html .kt { color: #B00040 } /* Keyword.Type */\n",
              ".output_html .m { color: #666666 } /* Literal.Number */\n",
              ".output_html .s { color: #BA2121 } /* Literal.String */\n",
              ".output_html .na { color: #687822 } /* Name.Attribute */\n",
              ".output_html .nb { color: #008000 } /* Name.Builtin */\n",
              ".output_html .nc { color: #0000FF; font-weight: bold } /* Name.Class */\n",
              ".output_html .no { color: #880000 } /* Name.Constant */\n",
              ".output_html .nd { color: #AA22FF } /* Name.Decorator */\n",
              ".output_html .ni { color: #717171; font-weight: bold } /* Name.Entity */\n",
              ".output_html .ne { color: #CB3F38; font-weight: bold } /* Name.Exception */\n",
              ".output_html .nf { color: #0000FF } /* Name.Function */\n",
              ".output_html .nl { color: #767600 } /* Name.Label */\n",
              ".output_html .nn { color: #0000FF; font-weight: bold } /* Name.Namespace */\n",
              ".output_html .nt { color: #008000; font-weight: bold } /* Name.Tag */\n",
              ".output_html .nv { color: #19177C } /* Name.Variable */\n",
              ".output_html .ow { color: #AA22FF; font-weight: bold } /* Operator.Word */\n",
              ".output_html .w { color: #bbbbbb } /* Text.Whitespace */\n",
              ".output_html .mb { color: #666666 } /* Literal.Number.Bin */\n",
              ".output_html .mf { color: #666666 } /* Literal.Number.Float */\n",
              ".output_html .mh { color: #666666 } /* Literal.Number.Hex */\n",
              ".output_html .mi { color: #666666 } /* Literal.Number.Integer */\n",
              ".output_html .mo { color: #666666 } /* Literal.Number.Oct */\n",
              ".output_html .sa { color: #BA2121 } /* Literal.String.Affix */\n",
              ".output_html .sb { color: #BA2121 } /* Literal.String.Backtick */\n",
              ".output_html .sc { color: #BA2121 } /* Literal.String.Char */\n",
              ".output_html .dl { color: #BA2121 } /* Literal.String.Delimiter */\n",
              ".output_html .sd { color: #BA2121; font-style: italic } /* Literal.String.Doc */\n",
              ".output_html .s2 { color: #BA2121 } /* Literal.String.Double */\n",
              ".output_html .se { color: #AA5D1F; font-weight: bold } /* Literal.String.Escape */\n",
              ".output_html .sh { color: #BA2121 } /* Literal.String.Heredoc */\n",
              ".output_html .si { color: #A45A77; font-weight: bold } /* Literal.String.Interpol */\n",
              ".output_html .sx { color: #008000 } /* Literal.String.Other */\n",
              ".output_html .sr { color: #A45A77 } /* Literal.String.Regex */\n",
              ".output_html .s1 { color: #BA2121 } /* Literal.String.Single */\n",
              ".output_html .ss { color: #19177C } /* Literal.String.Symbol */\n",
              ".output_html .bp { color: #008000 } /* Name.Builtin.Pseudo */\n",
              ".output_html .fm { color: #0000FF } /* Name.Function.Magic */\n",
              ".output_html .vc { color: #19177C } /* Name.Variable.Class */\n",
              ".output_html .vg { color: #19177C } /* Name.Variable.Global */\n",
              ".output_html .vi { color: #19177C } /* Name.Variable.Instance */\n",
              ".output_html .vm { color: #19177C } /* Name.Variable.Magic */\n",
              ".output_html .il { color: #666666 } /* Literal.Number.Integer.Long */</style><div class=\"highlight\"><pre><span></span>    <span class=\"n\">i</span> <span class=\"o\">=</span> <span class=\"mi\">2</span>\n",
              "    <span class=\"k\">while</span> <span class=\"n\">i</span> <span class=\"o\">&lt;=</span> <span class=\"nb\">int</span><span class=\"p\">(</span><span class=\"n\">math</span><span class=\"o\">.</span><span class=\"n\">sqrt</span><span class=\"p\">(</span><span class=\"n\">n</span><span class=\"p\">)</span> <span class=\"o\">+</span> <span class=\"mi\">1</span><span class=\"p\">):</span>\n",
              "        <span class=\"k\">if</span> <span class=\"n\">n</span> <span class=\"o\">%</span> <span class=\"n\">i</span> <span class=\"o\">==</span> <span class=\"mi\">0</span><span class=\"p\">:</span>\n",
              "            <span class=\"n\">fact</span><span class=\"o\">.</span><span class=\"n\">append</span><span class=\"p\">(</span><span class=\"n\">i</span><span class=\"p\">)</span>\n",
              "            <span class=\"n\">n</span> <span class=\"o\">//=</span> <span class=\"n\">i</span>\n",
              "        <span class=\"k\">else</span><span class=\"p\">:</span>\n",
              "            <span class=\"n\">i</span> <span class=\"o\">+=</span> <span class=\"mi\">1</span>\n",
              "\n",
              "    <span class=\"k\">if</span> <span class=\"n\">n</span> <span class=\"o\">&gt;</span> <span class=\"mi\">1</span><span class=\"p\">:</span>\n",
              "        <span class=\"n\">fact</span><span class=\"o\">.</span><span class=\"n\">append</span><span class=\"p\">(</span><span class=\"n\">n</span><span class=\"p\">)</span>\n",
              "    <span class=\"k\">return</span> <span class=\"n\">fact</span>\n",
              "</pre></div>\n"
            ],
            "text/latex": [
              "\\begin{Verbatim}[commandchars=\\\\\\{\\}]\n",
              "    \\PY{n}{i} \\PY{o}{=} \\PY{l+m+mi}{2}\n",
              "    \\PY{k}{while} \\PY{n}{i} \\PY{o}{\\PYZlt{}}\\PY{o}{=} \\PY{n+nb}{int}\\PY{p}{(}\\PY{n}{math}\\PY{o}{.}\\PY{n}{sqrt}\\PY{p}{(}\\PY{n}{n}\\PY{p}{)} \\PY{o}{+} \\PY{l+m+mi}{1}\\PY{p}{)}\\PY{p}{:}\n",
              "        \\PY{k}{if} \\PY{n}{n} \\PY{o}{\\PYZpc{}} \\PY{n}{i} \\PY{o}{==} \\PY{l+m+mi}{0}\\PY{p}{:}\n",
              "            \\PY{n}{fact}\\PY{o}{.}\\PY{n}{append}\\PY{p}{(}\\PY{n}{i}\\PY{p}{)}\n",
              "            \\PY{n}{n} \\PY{o}{/}\\PY{o}{/}\\PY{o}{=} \\PY{n}{i}\n",
              "        \\PY{k}{else}\\PY{p}{:}\n",
              "            \\PY{n}{i} \\PY{o}{+}\\PY{o}{=} \\PY{l+m+mi}{1}\n",
              "\n",
              "    \\PY{k}{if} \\PY{n}{n} \\PY{o}{\\PYZgt{}} \\PY{l+m+mi}{1}\\PY{p}{:}\n",
              "        \\PY{n}{fact}\\PY{o}{.}\\PY{n}{append}\\PY{p}{(}\\PY{n}{n}\\PY{p}{)}\n",
              "    \\PY{k}{return} \\PY{n}{fact}\n",
              "\\end{Verbatim}\n"
            ],
            "text/plain": [
              "    i = 2\n",
              "    while i <= int(math.sqrt(n) + 1):\n",
              "        if n % i == 0:\n",
              "            fact.append(i)\n",
              "            n //= i\n",
              "        else:\n",
              "            i += 1\n",
              "\n",
              "    if n > 1:\n",
              "        fact.append(n)\n",
              "    return fact"
            ]
          },
          "metadata": {},
          "output_type": "display_data"
        },
        {
          "name": "stdout",
          "output_type": "stream",
          "text": [
            "\n",
            "Task #26:"
          ]
        },
        {
          "data": {
            "text/html": [
              "<span style=\"background-color:aqua;\">Interesting!</span>"
            ],
            "text/plain": [
              "<IPython.core.display.HTML object>"
            ]
          },
          "metadata": {},
          "output_type": "display_data"
        },
        {
          "name": "stdout",
          "output_type": "stream",
          "text": [
            "Generated solution:\n"
          ]
        },
        {
          "data": {
            "text/html": [
              "<style>pre { line-height: 125%; }\n",
              "td.linenos .normal { color: inherit; background-color: transparent; padding-left: 5px; padding-right: 5px; }\n",
              "span.linenos { color: inherit; background-color: transparent; padding-left: 5px; padding-right: 5px; }\n",
              "td.linenos .special { color: #000000; background-color: #ffffc0; padding-left: 5px; padding-right: 5px; }\n",
              "span.linenos.special { color: #000000; background-color: #ffffc0; padding-left: 5px; padding-right: 5px; }\n",
              ".output_html .hll { background-color: #ffffcc }\n",
              ".output_html { background: #f8f8f8; }\n",
              ".output_html .c { color: #3D7B7B; font-style: italic } /* Comment */\n",
              ".output_html .err { border: 1px solid #FF0000 } /* Error */\n",
              ".output_html .k { color: #008000; font-weight: bold } /* Keyword */\n",
              ".output_html .o { color: #666666 } /* Operator */\n",
              ".output_html .ch { color: #3D7B7B; font-style: italic } /* Comment.Hashbang */\n",
              ".output_html .cm { color: #3D7B7B; font-style: italic } /* Comment.Multiline */\n",
              ".output_html .cp { color: #9C6500 } /* Comment.Preproc */\n",
              ".output_html .cpf { color: #3D7B7B; font-style: italic } /* Comment.PreprocFile */\n",
              ".output_html .c1 { color: #3D7B7B; font-style: italic } /* Comment.Single */\n",
              ".output_html .cs { color: #3D7B7B; font-style: italic } /* Comment.Special */\n",
              ".output_html .gd { color: #A00000 } /* Generic.Deleted */\n",
              ".output_html .ge { font-style: italic } /* Generic.Emph */\n",
              ".output_html .ges { font-weight: bold; font-style: italic } /* Generic.EmphStrong */\n",
              ".output_html .gr { color: #E40000 } /* Generic.Error */\n",
              ".output_html .gh { color: #000080; font-weight: bold } /* Generic.Heading */\n",
              ".output_html .gi { color: #008400 } /* Generic.Inserted */\n",
              ".output_html .go { color: #717171 } /* Generic.Output */\n",
              ".output_html .gp { color: #000080; font-weight: bold } /* Generic.Prompt */\n",
              ".output_html .gs { font-weight: bold } /* Generic.Strong */\n",
              ".output_html .gu { color: #800080; font-weight: bold } /* Generic.Subheading */\n",
              ".output_html .gt { color: #0044DD } /* Generic.Traceback */\n",
              ".output_html .kc { color: #008000; font-weight: bold } /* Keyword.Constant */\n",
              ".output_html .kd { color: #008000; font-weight: bold } /* Keyword.Declaration */\n",
              ".output_html .kn { color: #008000; font-weight: bold } /* Keyword.Namespace */\n",
              ".output_html .kp { color: #008000 } /* Keyword.Pseudo */\n",
              ".output_html .kr { color: #008000; font-weight: bold } /* Keyword.Reserved */\n",
              ".output_html .kt { color: #B00040 } /* Keyword.Type */\n",
              ".output_html .m { color: #666666 } /* Literal.Number */\n",
              ".output_html .s { color: #BA2121 } /* Literal.String */\n",
              ".output_html .na { color: #687822 } /* Name.Attribute */\n",
              ".output_html .nb { color: #008000 } /* Name.Builtin */\n",
              ".output_html .nc { color: #0000FF; font-weight: bold } /* Name.Class */\n",
              ".output_html .no { color: #880000 } /* Name.Constant */\n",
              ".output_html .nd { color: #AA22FF } /* Name.Decorator */\n",
              ".output_html .ni { color: #717171; font-weight: bold } /* Name.Entity */\n",
              ".output_html .ne { color: #CB3F38; font-weight: bold } /* Name.Exception */\n",
              ".output_html .nf { color: #0000FF } /* Name.Function */\n",
              ".output_html .nl { color: #767600 } /* Name.Label */\n",
              ".output_html .nn { color: #0000FF; font-weight: bold } /* Name.Namespace */\n",
              ".output_html .nt { color: #008000; font-weight: bold } /* Name.Tag */\n",
              ".output_html .nv { color: #19177C } /* Name.Variable */\n",
              ".output_html .ow { color: #AA22FF; font-weight: bold } /* Operator.Word */\n",
              ".output_html .w { color: #bbbbbb } /* Text.Whitespace */\n",
              ".output_html .mb { color: #666666 } /* Literal.Number.Bin */\n",
              ".output_html .mf { color: #666666 } /* Literal.Number.Float */\n",
              ".output_html .mh { color: #666666 } /* Literal.Number.Hex */\n",
              ".output_html .mi { color: #666666 } /* Literal.Number.Integer */\n",
              ".output_html .mo { color: #666666 } /* Literal.Number.Oct */\n",
              ".output_html .sa { color: #BA2121 } /* Literal.String.Affix */\n",
              ".output_html .sb { color: #BA2121 } /* Literal.String.Backtick */\n",
              ".output_html .sc { color: #BA2121 } /* Literal.String.Char */\n",
              ".output_html .dl { color: #BA2121 } /* Literal.String.Delimiter */\n",
              ".output_html .sd { color: #BA2121; font-style: italic } /* Literal.String.Doc */\n",
              ".output_html .s2 { color: #BA2121 } /* Literal.String.Double */\n",
              ".output_html .se { color: #AA5D1F; font-weight: bold } /* Literal.String.Escape */\n",
              ".output_html .sh { color: #BA2121 } /* Literal.String.Heredoc */\n",
              ".output_html .si { color: #A45A77; font-weight: bold } /* Literal.String.Interpol */\n",
              ".output_html .sx { color: #008000 } /* Literal.String.Other */\n",
              ".output_html .sr { color: #A45A77 } /* Literal.String.Regex */\n",
              ".output_html .s1 { color: #BA2121 } /* Literal.String.Single */\n",
              ".output_html .ss { color: #19177C } /* Literal.String.Symbol */\n",
              ".output_html .bp { color: #008000 } /* Name.Builtin.Pseudo */\n",
              ".output_html .fm { color: #0000FF } /* Name.Function.Magic */\n",
              ".output_html .vc { color: #19177C } /* Name.Variable.Class */\n",
              ".output_html .vg { color: #19177C } /* Name.Variable.Global */\n",
              ".output_html .vi { color: #19177C } /* Name.Variable.Instance */\n",
              ".output_html .vm { color: #19177C } /* Name.Variable.Magic */\n",
              ".output_html .il { color: #666666 } /* Literal.Number.Integer.Long */</style><div class=\"highlight\"><pre><span></span><span class=\"kn\">from</span> <span class=\"nn\">typing</span> <span class=\"kn\">import</span> <span class=\"n\">List</span>\n",
              "\n",
              "\n",
              "<span class=\"k\">def</span> <span class=\"nf\">remove_duplicates</span><span class=\"p\">(</span><span class=\"n\">numbers</span><span class=\"p\">:</span> <span class=\"n\">List</span><span class=\"p\">[</span><span class=\"nb\">int</span><span class=\"p\">])</span> <span class=\"o\">-&gt;</span> <span class=\"n\">List</span><span class=\"p\">[</span><span class=\"nb\">int</span><span class=\"p\">]:</span>\n",
              "<span class=\"w\">    </span><span class=\"sd\">&quot;&quot;&quot;</span>\n",
              "<span class=\"sd\">    Given a list of integers, return a new list with the duplicates removed.</span>\n",
              "\n",
              "<span class=\"sd\">    Example:</span>\n",
              "<span class=\"sd\">    &gt;&gt;&gt; remove_duplicates([])</span>\n",
              "<span class=\"sd\">    []</span>\n",
              "<span class=\"sd\">    &gt;&gt;&gt; remove_duplicates([1, 2, 3, 4])</span>\n",
              "<span class=\"sd\">    [1, 2, 3, 4]</span>\n",
              "<span class=\"sd\">    &gt;&gt;&gt; remove_duplicates([1, 2, 3, 2, 4, 3, 5])</span>\n",
              "<span class=\"sd\">    [1, 4, 5]</span>\n",
              "<span class=\"sd\">    &quot;&quot;&quot;</span>\n",
              "    <span class=\"c1\"># Create a new list to store the unique elements</span>\n",
              "    <span class=\"n\">unique_elements</span> <span class=\"o\">=</span> <span class=\"p\">[]</span>\n",
              "\n",
              "    <span class=\"c1\"># Iterate over the input list</span>\n",
              "    <span class=\"k\">for</span> <span class=\"n\">num</span> <span class=\"ow\">in</span> <span class=\"n\">numbers</span><span class=\"p\">:</span>\n",
              "        <span class=\"c1\"># Check if the element is already in the unique elements list</span>\n",
              "        <span class=\"k\">if</span> <span class=\"n\">num</span> <span class=\"ow\">not</span> <span class=\"ow\">in</span> <span class=\"n\">unique_elements</span><span class=\"p\">:</span>\n",
              "            <span class=\"c1\"># If not, add it to the list</span>\n",
              "            <span class=\"n\">unique_elements</span><span class=\"o\">.</span><span class=\"n\">append</span><span class=\"p\">(</span><span class=\"n\">num</span><span class=\"p\">)</span>\n",
              "\n",
              "    <span class=\"c1\"># Return the list of unique elements</span>\n",
              "    <span class=\"k\">return</span> <span class=\"n\">unique_elements</span>\n",
              "</pre></div>\n"
            ],
            "text/latex": [
              "\\begin{Verbatim}[commandchars=\\\\\\{\\}]\n",
              "\\PY{k+kn}{from} \\PY{n+nn}{typing} \\PY{k+kn}{import} \\PY{n}{List}\n",
              "\n",
              "\n",
              "\\PY{k}{def} \\PY{n+nf}{remove\\PYZus{}duplicates}\\PY{p}{(}\\PY{n}{numbers}\\PY{p}{:} \\PY{n}{List}\\PY{p}{[}\\PY{n+nb}{int}\\PY{p}{]}\\PY{p}{)} \\PY{o}{\\PYZhy{}}\\PY{o}{\\PYZgt{}} \\PY{n}{List}\\PY{p}{[}\\PY{n+nb}{int}\\PY{p}{]}\\PY{p}{:}\n",
              "\\PY{+w}{    }\\PY{l+s+sd}{\\PYZdq{}\\PYZdq{}\\PYZdq{}}\n",
              "\\PY{l+s+sd}{    Given a list of integers, return a new list with the duplicates removed.}\n",
              "\n",
              "\\PY{l+s+sd}{    Example:}\n",
              "\\PY{l+s+sd}{    \\PYZgt{}\\PYZgt{}\\PYZgt{} remove\\PYZus{}duplicates([])}\n",
              "\\PY{l+s+sd}{    []}\n",
              "\\PY{l+s+sd}{    \\PYZgt{}\\PYZgt{}\\PYZgt{} remove\\PYZus{}duplicates([1, 2, 3, 4])}\n",
              "\\PY{l+s+sd}{    [1, 2, 3, 4]}\n",
              "\\PY{l+s+sd}{    \\PYZgt{}\\PYZgt{}\\PYZgt{} remove\\PYZus{}duplicates([1, 2, 3, 2, 4, 3, 5])}\n",
              "\\PY{l+s+sd}{    [1, 4, 5]}\n",
              "\\PY{l+s+sd}{    \\PYZdq{}\\PYZdq{}\\PYZdq{}}\n",
              "    \\PY{c+c1}{\\PYZsh{} Create a new list to store the unique elements}\n",
              "    \\PY{n}{unique\\PYZus{}elements} \\PY{o}{=} \\PY{p}{[}\\PY{p}{]}\n",
              "\n",
              "    \\PY{c+c1}{\\PYZsh{} Iterate over the input list}\n",
              "    \\PY{k}{for} \\PY{n}{num} \\PY{o+ow}{in} \\PY{n}{numbers}\\PY{p}{:}\n",
              "        \\PY{c+c1}{\\PYZsh{} Check if the element is already in the unique elements list}\n",
              "        \\PY{k}{if} \\PY{n}{num} \\PY{o+ow}{not} \\PY{o+ow}{in} \\PY{n}{unique\\PYZus{}elements}\\PY{p}{:}\n",
              "            \\PY{c+c1}{\\PYZsh{} If not, add it to the list}\n",
              "            \\PY{n}{unique\\PYZus{}elements}\\PY{o}{.}\\PY{n}{append}\\PY{p}{(}\\PY{n}{num}\\PY{p}{)}\n",
              "\n",
              "    \\PY{c+c1}{\\PYZsh{} Return the list of unique elements}\n",
              "    \\PY{k}{return} \\PY{n}{unique\\PYZus{}elements}\n",
              "\\end{Verbatim}\n"
            ],
            "text/plain": [
              "from typing import List\n",
              "\n",
              "\n",
              "def remove_duplicates(numbers: List[int]) -> List[int]:\n",
              "    \"\"\"\n",
              "    Given a list of integers, return a new list with the duplicates removed.\n",
              "\n",
              "    Example:\n",
              "    >>> remove_duplicates([])\n",
              "    []\n",
              "    >>> remove_duplicates([1, 2, 3, 4])\n",
              "    [1, 2, 3, 4]\n",
              "    >>> remove_duplicates([1, 2, 3, 2, 4, 3, 5])\n",
              "    [1, 4, 5]\n",
              "    \"\"\"\n",
              "    # Create a new list to store the unique elements\n",
              "    unique_elements = []\n",
              "\n",
              "    # Iterate over the input list\n",
              "    for num in numbers:\n",
              "        # Check if the element is already in the unique elements list\n",
              "        if num not in unique_elements:\n",
              "            # If not, add it to the list\n",
              "            unique_elements.append(num)\n",
              "\n",
              "    # Return the list of unique elements\n",
              "    return unique_elements"
            ]
          },
          "metadata": {},
          "output_type": "display_data"
        },
        {
          "name": "stdout",
          "output_type": "stream",
          "text": [
            "Buggy solution:\n"
          ]
        },
        {
          "data": {
            "text/html": [
              "<style>pre { line-height: 125%; }\n",
              "td.linenos .normal { color: inherit; background-color: transparent; padding-left: 5px; padding-right: 5px; }\n",
              "span.linenos { color: inherit; background-color: transparent; padding-left: 5px; padding-right: 5px; }\n",
              "td.linenos .special { color: #000000; background-color: #ffffc0; padding-left: 5px; padding-right: 5px; }\n",
              "span.linenos.special { color: #000000; background-color: #ffffc0; padding-left: 5px; padding-right: 5px; }\n",
              ".output_html .hll { background-color: #ffffcc }\n",
              ".output_html { background: #f8f8f8; }\n",
              ".output_html .c { color: #3D7B7B; font-style: italic } /* Comment */\n",
              ".output_html .err { border: 1px solid #FF0000 } /* Error */\n",
              ".output_html .k { color: #008000; font-weight: bold } /* Keyword */\n",
              ".output_html .o { color: #666666 } /* Operator */\n",
              ".output_html .ch { color: #3D7B7B; font-style: italic } /* Comment.Hashbang */\n",
              ".output_html .cm { color: #3D7B7B; font-style: italic } /* Comment.Multiline */\n",
              ".output_html .cp { color: #9C6500 } /* Comment.Preproc */\n",
              ".output_html .cpf { color: #3D7B7B; font-style: italic } /* Comment.PreprocFile */\n",
              ".output_html .c1 { color: #3D7B7B; font-style: italic } /* Comment.Single */\n",
              ".output_html .cs { color: #3D7B7B; font-style: italic } /* Comment.Special */\n",
              ".output_html .gd { color: #A00000 } /* Generic.Deleted */\n",
              ".output_html .ge { font-style: italic } /* Generic.Emph */\n",
              ".output_html .ges { font-weight: bold; font-style: italic } /* Generic.EmphStrong */\n",
              ".output_html .gr { color: #E40000 } /* Generic.Error */\n",
              ".output_html .gh { color: #000080; font-weight: bold } /* Generic.Heading */\n",
              ".output_html .gi { color: #008400 } /* Generic.Inserted */\n",
              ".output_html .go { color: #717171 } /* Generic.Output */\n",
              ".output_html .gp { color: #000080; font-weight: bold } /* Generic.Prompt */\n",
              ".output_html .gs { font-weight: bold } /* Generic.Strong */\n",
              ".output_html .gu { color: #800080; font-weight: bold } /* Generic.Subheading */\n",
              ".output_html .gt { color: #0044DD } /* Generic.Traceback */\n",
              ".output_html .kc { color: #008000; font-weight: bold } /* Keyword.Constant */\n",
              ".output_html .kd { color: #008000; font-weight: bold } /* Keyword.Declaration */\n",
              ".output_html .kn { color: #008000; font-weight: bold } /* Keyword.Namespace */\n",
              ".output_html .kp { color: #008000 } /* Keyword.Pseudo */\n",
              ".output_html .kr { color: #008000; font-weight: bold } /* Keyword.Reserved */\n",
              ".output_html .kt { color: #B00040 } /* Keyword.Type */\n",
              ".output_html .m { color: #666666 } /* Literal.Number */\n",
              ".output_html .s { color: #BA2121 } /* Literal.String */\n",
              ".output_html .na { color: #687822 } /* Name.Attribute */\n",
              ".output_html .nb { color: #008000 } /* Name.Builtin */\n",
              ".output_html .nc { color: #0000FF; font-weight: bold } /* Name.Class */\n",
              ".output_html .no { color: #880000 } /* Name.Constant */\n",
              ".output_html .nd { color: #AA22FF } /* Name.Decorator */\n",
              ".output_html .ni { color: #717171; font-weight: bold } /* Name.Entity */\n",
              ".output_html .ne { color: #CB3F38; font-weight: bold } /* Name.Exception */\n",
              ".output_html .nf { color: #0000FF } /* Name.Function */\n",
              ".output_html .nl { color: #767600 } /* Name.Label */\n",
              ".output_html .nn { color: #0000FF; font-weight: bold } /* Name.Namespace */\n",
              ".output_html .nt { color: #008000; font-weight: bold } /* Name.Tag */\n",
              ".output_html .nv { color: #19177C } /* Name.Variable */\n",
              ".output_html .ow { color: #AA22FF; font-weight: bold } /* Operator.Word */\n",
              ".output_html .w { color: #bbbbbb } /* Text.Whitespace */\n",
              ".output_html .mb { color: #666666 } /* Literal.Number.Bin */\n",
              ".output_html .mf { color: #666666 } /* Literal.Number.Float */\n",
              ".output_html .mh { color: #666666 } /* Literal.Number.Hex */\n",
              ".output_html .mi { color: #666666 } /* Literal.Number.Integer */\n",
              ".output_html .mo { color: #666666 } /* Literal.Number.Oct */\n",
              ".output_html .sa { color: #BA2121 } /* Literal.String.Affix */\n",
              ".output_html .sb { color: #BA2121 } /* Literal.String.Backtick */\n",
              ".output_html .sc { color: #BA2121 } /* Literal.String.Char */\n",
              ".output_html .dl { color: #BA2121 } /* Literal.String.Delimiter */\n",
              ".output_html .sd { color: #BA2121; font-style: italic } /* Literal.String.Doc */\n",
              ".output_html .s2 { color: #BA2121 } /* Literal.String.Double */\n",
              ".output_html .se { color: #AA5D1F; font-weight: bold } /* Literal.String.Escape */\n",
              ".output_html .sh { color: #BA2121 } /* Literal.String.Heredoc */\n",
              ".output_html .si { color: #A45A77; font-weight: bold } /* Literal.String.Interpol */\n",
              ".output_html .sx { color: #008000 } /* Literal.String.Other */\n",
              ".output_html .sr { color: #A45A77 } /* Literal.String.Regex */\n",
              ".output_html .s1 { color: #BA2121 } /* Literal.String.Single */\n",
              ".output_html .ss { color: #19177C } /* Literal.String.Symbol */\n",
              ".output_html .bp { color: #008000 } /* Name.Builtin.Pseudo */\n",
              ".output_html .fm { color: #0000FF } /* Name.Function.Magic */\n",
              ".output_html .vc { color: #19177C } /* Name.Variable.Class */\n",
              ".output_html .vg { color: #19177C } /* Name.Variable.Global */\n",
              ".output_html .vi { color: #19177C } /* Name.Variable.Instance */\n",
              ".output_html .vm { color: #19177C } /* Name.Variable.Magic */\n",
              ".output_html .il { color: #666666 } /* Literal.Number.Integer.Long */</style><div class=\"highlight\"><pre><span></span>    <span class=\"kn\">import</span> <span class=\"nn\">collections</span>\n",
              "    <span class=\"n\">c</span> <span class=\"o\">=</span> <span class=\"n\">collections</span><span class=\"o\">.</span><span class=\"n\">Counter</span><span class=\"p\">(</span><span class=\"n\">numbers</span><span class=\"p\">)</span>\n",
              "    <span class=\"k\">return</span> <span class=\"p\">[</span><span class=\"n\">n</span> <span class=\"k\">for</span> <span class=\"n\">n</span> <span class=\"ow\">in</span> <span class=\"n\">numbers</span> <span class=\"k\">if</span> <span class=\"n\">c</span><span class=\"p\">[</span><span class=\"n\">n</span><span class=\"p\">]</span> <span class=\"o\">&lt;</span> <span class=\"mi\">1</span><span class=\"p\">]</span>\n",
              "</pre></div>\n"
            ],
            "text/latex": [
              "\\begin{Verbatim}[commandchars=\\\\\\{\\}]\n",
              "    \\PY{k+kn}{import} \\PY{n+nn}{collections}\n",
              "    \\PY{n}{c} \\PY{o}{=} \\PY{n}{collections}\\PY{o}{.}\\PY{n}{Counter}\\PY{p}{(}\\PY{n}{numbers}\\PY{p}{)}\n",
              "    \\PY{k}{return} \\PY{p}{[}\\PY{n}{n} \\PY{k}{for} \\PY{n}{n} \\PY{o+ow}{in} \\PY{n}{numbers} \\PY{k}{if} \\PY{n}{c}\\PY{p}{[}\\PY{n}{n}\\PY{p}{]} \\PY{o}{\\PYZlt{}} \\PY{l+m+mi}{1}\\PY{p}{]}\n",
              "\\end{Verbatim}\n"
            ],
            "text/plain": [
              "    import collections\n",
              "    c = collections.Counter(numbers)\n",
              "    return [n for n in numbers if c[n] < 1]"
            ]
          },
          "metadata": {},
          "output_type": "display_data"
        },
        {
          "name": "stdout",
          "output_type": "stream",
          "text": [
            "Correct solution:\n"
          ]
        },
        {
          "data": {
            "text/html": [
              "<style>pre { line-height: 125%; }\n",
              "td.linenos .normal { color: inherit; background-color: transparent; padding-left: 5px; padding-right: 5px; }\n",
              "span.linenos { color: inherit; background-color: transparent; padding-left: 5px; padding-right: 5px; }\n",
              "td.linenos .special { color: #000000; background-color: #ffffc0; padding-left: 5px; padding-right: 5px; }\n",
              "span.linenos.special { color: #000000; background-color: #ffffc0; padding-left: 5px; padding-right: 5px; }\n",
              ".output_html .hll { background-color: #ffffcc }\n",
              ".output_html { background: #f8f8f8; }\n",
              ".output_html .c { color: #3D7B7B; font-style: italic } /* Comment */\n",
              ".output_html .err { border: 1px solid #FF0000 } /* Error */\n",
              ".output_html .k { color: #008000; font-weight: bold } /* Keyword */\n",
              ".output_html .o { color: #666666 } /* Operator */\n",
              ".output_html .ch { color: #3D7B7B; font-style: italic } /* Comment.Hashbang */\n",
              ".output_html .cm { color: #3D7B7B; font-style: italic } /* Comment.Multiline */\n",
              ".output_html .cp { color: #9C6500 } /* Comment.Preproc */\n",
              ".output_html .cpf { color: #3D7B7B; font-style: italic } /* Comment.PreprocFile */\n",
              ".output_html .c1 { color: #3D7B7B; font-style: italic } /* Comment.Single */\n",
              ".output_html .cs { color: #3D7B7B; font-style: italic } /* Comment.Special */\n",
              ".output_html .gd { color: #A00000 } /* Generic.Deleted */\n",
              ".output_html .ge { font-style: italic } /* Generic.Emph */\n",
              ".output_html .ges { font-weight: bold; font-style: italic } /* Generic.EmphStrong */\n",
              ".output_html .gr { color: #E40000 } /* Generic.Error */\n",
              ".output_html .gh { color: #000080; font-weight: bold } /* Generic.Heading */\n",
              ".output_html .gi { color: #008400 } /* Generic.Inserted */\n",
              ".output_html .go { color: #717171 } /* Generic.Output */\n",
              ".output_html .gp { color: #000080; font-weight: bold } /* Generic.Prompt */\n",
              ".output_html .gs { font-weight: bold } /* Generic.Strong */\n",
              ".output_html .gu { color: #800080; font-weight: bold } /* Generic.Subheading */\n",
              ".output_html .gt { color: #0044DD } /* Generic.Traceback */\n",
              ".output_html .kc { color: #008000; font-weight: bold } /* Keyword.Constant */\n",
              ".output_html .kd { color: #008000; font-weight: bold } /* Keyword.Declaration */\n",
              ".output_html .kn { color: #008000; font-weight: bold } /* Keyword.Namespace */\n",
              ".output_html .kp { color: #008000 } /* Keyword.Pseudo */\n",
              ".output_html .kr { color: #008000; font-weight: bold } /* Keyword.Reserved */\n",
              ".output_html .kt { color: #B00040 } /* Keyword.Type */\n",
              ".output_html .m { color: #666666 } /* Literal.Number */\n",
              ".output_html .s { color: #BA2121 } /* Literal.String */\n",
              ".output_html .na { color: #687822 } /* Name.Attribute */\n",
              ".output_html .nb { color: #008000 } /* Name.Builtin */\n",
              ".output_html .nc { color: #0000FF; font-weight: bold } /* Name.Class */\n",
              ".output_html .no { color: #880000 } /* Name.Constant */\n",
              ".output_html .nd { color: #AA22FF } /* Name.Decorator */\n",
              ".output_html .ni { color: #717171; font-weight: bold } /* Name.Entity */\n",
              ".output_html .ne { color: #CB3F38; font-weight: bold } /* Name.Exception */\n",
              ".output_html .nf { color: #0000FF } /* Name.Function */\n",
              ".output_html .nl { color: #767600 } /* Name.Label */\n",
              ".output_html .nn { color: #0000FF; font-weight: bold } /* Name.Namespace */\n",
              ".output_html .nt { color: #008000; font-weight: bold } /* Name.Tag */\n",
              ".output_html .nv { color: #19177C } /* Name.Variable */\n",
              ".output_html .ow { color: #AA22FF; font-weight: bold } /* Operator.Word */\n",
              ".output_html .w { color: #bbbbbb } /* Text.Whitespace */\n",
              ".output_html .mb { color: #666666 } /* Literal.Number.Bin */\n",
              ".output_html .mf { color: #666666 } /* Literal.Number.Float */\n",
              ".output_html .mh { color: #666666 } /* Literal.Number.Hex */\n",
              ".output_html .mi { color: #666666 } /* Literal.Number.Integer */\n",
              ".output_html .mo { color: #666666 } /* Literal.Number.Oct */\n",
              ".output_html .sa { color: #BA2121 } /* Literal.String.Affix */\n",
              ".output_html .sb { color: #BA2121 } /* Literal.String.Backtick */\n",
              ".output_html .sc { color: #BA2121 } /* Literal.String.Char */\n",
              ".output_html .dl { color: #BA2121 } /* Literal.String.Delimiter */\n",
              ".output_html .sd { color: #BA2121; font-style: italic } /* Literal.String.Doc */\n",
              ".output_html .s2 { color: #BA2121 } /* Literal.String.Double */\n",
              ".output_html .se { color: #AA5D1F; font-weight: bold } /* Literal.String.Escape */\n",
              ".output_html .sh { color: #BA2121 } /* Literal.String.Heredoc */\n",
              ".output_html .si { color: #A45A77; font-weight: bold } /* Literal.String.Interpol */\n",
              ".output_html .sx { color: #008000 } /* Literal.String.Other */\n",
              ".output_html .sr { color: #A45A77 } /* Literal.String.Regex */\n",
              ".output_html .s1 { color: #BA2121 } /* Literal.String.Single */\n",
              ".output_html .ss { color: #19177C } /* Literal.String.Symbol */\n",
              ".output_html .bp { color: #008000 } /* Name.Builtin.Pseudo */\n",
              ".output_html .fm { color: #0000FF } /* Name.Function.Magic */\n",
              ".output_html .vc { color: #19177C } /* Name.Variable.Class */\n",
              ".output_html .vg { color: #19177C } /* Name.Variable.Global */\n",
              ".output_html .vi { color: #19177C } /* Name.Variable.Instance */\n",
              ".output_html .vm { color: #19177C } /* Name.Variable.Magic */\n",
              ".output_html .il { color: #666666 } /* Literal.Number.Integer.Long */</style><div class=\"highlight\"><pre><span></span>    <span class=\"kn\">import</span> <span class=\"nn\">collections</span>\n",
              "    <span class=\"n\">c</span> <span class=\"o\">=</span> <span class=\"n\">collections</span><span class=\"o\">.</span><span class=\"n\">Counter</span><span class=\"p\">(</span><span class=\"n\">numbers</span><span class=\"p\">)</span>\n",
              "    <span class=\"k\">return</span> <span class=\"p\">[</span><span class=\"n\">n</span> <span class=\"k\">for</span> <span class=\"n\">n</span> <span class=\"ow\">in</span> <span class=\"n\">numbers</span> <span class=\"k\">if</span> <span class=\"n\">c</span><span class=\"p\">[</span><span class=\"n\">n</span><span class=\"p\">]</span> <span class=\"o\">&lt;=</span> <span class=\"mi\">1</span><span class=\"p\">]</span>\n",
              "</pre></div>\n"
            ],
            "text/latex": [
              "\\begin{Verbatim}[commandchars=\\\\\\{\\}]\n",
              "    \\PY{k+kn}{import} \\PY{n+nn}{collections}\n",
              "    \\PY{n}{c} \\PY{o}{=} \\PY{n}{collections}\\PY{o}{.}\\PY{n}{Counter}\\PY{p}{(}\\PY{n}{numbers}\\PY{p}{)}\n",
              "    \\PY{k}{return} \\PY{p}{[}\\PY{n}{n} \\PY{k}{for} \\PY{n}{n} \\PY{o+ow}{in} \\PY{n}{numbers} \\PY{k}{if} \\PY{n}{c}\\PY{p}{[}\\PY{n}{n}\\PY{p}{]} \\PY{o}{\\PYZlt{}}\\PY{o}{=} \\PY{l+m+mi}{1}\\PY{p}{]}\n",
              "\\end{Verbatim}\n"
            ],
            "text/plain": [
              "    import collections\n",
              "    c = collections.Counter(numbers)\n",
              "    return [n for n in numbers if c[n] <= 1]"
            ]
          },
          "metadata": {},
          "output_type": "display_data"
        },
        {
          "name": "stdout",
          "output_type": "stream",
          "text": [
            "\n",
            "Task #27:"
          ]
        },
        {
          "data": {
            "text/html": [
              "<span style=\"background-color:pink;\">Same as buggy</span>"
            ],
            "text/plain": [
              "<IPython.core.display.HTML object>"
            ]
          },
          "metadata": {},
          "output_type": "display_data"
        },
        {
          "name": "stdout",
          "output_type": "stream",
          "text": [
            "Task #28:"
          ]
        },
        {
          "data": {
            "text/html": [
              "<span style=\"background-color:pink;\">Same as buggy</span>"
            ],
            "text/plain": [
              "<IPython.core.display.HTML object>"
            ]
          },
          "metadata": {},
          "output_type": "display_data"
        },
        {
          "name": "stdout",
          "output_type": "stream",
          "text": [
            "Task #29:"
          ]
        },
        {
          "data": {
            "text/html": [
              "<span style=\"background-color:pink;\">Same as buggy</span>"
            ],
            "text/plain": [
              "<IPython.core.display.HTML object>"
            ]
          },
          "metadata": {},
          "output_type": "display_data"
        }
      ],
      "source": [
        "from IPython.display import display, Code, HTML\n",
        "\n",
        "@typed\n",
        "def no_spaces(s: str) -> str:\n",
        "    return \"\".join([c for c in s if not c.isspace()])\n",
        "\n",
        "@typed\n",
        "def interesting_range(lines: list[list[str]]) -> tuple[int, int]:\n",
        "    min_len = len(min(lines, key=len))\n",
        "    max_len = len(max(lines, key=len))\n",
        "    changes: list[int] = [i for i, tp in enumerate(zip(*lines)) if len(set(tp)) > 1]\n",
        "    l: int = min(changes, default=min_len)\n",
        "    r: int = max(changes, default=min_len)\n",
        "    if min_len != max_len:\n",
        "        r = max_len\n",
        "    return l, r\n",
        "\n",
        "with open(\"generations_humanevalfixpython_octocoder.json\", encoding=\"utf-8\") as f:\n",
        "    solutions = [x[0] for x in json.load(f)]\n",
        "    for i in range(30):\n",
        "        print(f\"Task #{i}:\", end=\"\")\n",
        "        task = eval_data[\"test\"][i]\n",
        "        buggy_baseline = task[\"declaration\"] + task[\"buggy_solution\"]\n",
        "        correct_baseline = task[\"declaration\"] + task[\"canonical_solution\"]\n",
        "        if no_spaces(solutions[i]) == no_spaces(buggy_baseline):\n",
        "            display(HTML('<span style=\"background-color:pink;\">Same as buggy</span>'))\n",
        "            continue\n",
        "        if no_spaces(solutions[i]) == no_spaces(correct_baseline):\n",
        "            display(HTML('<span style=\"background-color:lime;\">Same as correct</span>'))\n",
        "            continue\n",
        "        display(HTML('<span style=\"background-color:aqua;\">Interesting!</span>'))\n",
        "        print(\"Generated solution:\")\n",
        "        display(Code(data=solutions[i], language=\"python\"))\n",
        "\n",
        "        buggy_lines = buggy_baseline.split(\"\\n\")\n",
        "        correct_lines = correct_baseline.split(\"\\n\")\n",
        "        generated_lines = solutions[i].split(\"\\n\")\n",
        "        l, r = interesting_range([buggy_lines, correct_lines, generated_lines])\n",
        "        print(\"Buggy solution:\")\n",
        "        display(Code(data=\"\\n\".join(buggy_lines[l:r]), language=\"python\"))\n",
        "        print(\"Correct solution:\")\n",
        "        display(Code(data=\"\\n\".join(correct_lines[l:r]), language=\"python\"))\n",
        "        print()"
      ]
    },
    {
      "cell_type": "markdown",
      "metadata": {
        "id": "QPRxGGwkPoZ0"
      },
      "source": [
        "So in a couple of tasks the model just added a docstring, maybe it was shown in evaluation, or maybe it just imagined it. Also, in some cases it decided to rewrite the solution from scratch using different approach, in one case successfully (switching from buggy use of `Counter` to `set`) and in another not (the task was to find distinct characters and instead of adding `lower()` as in correct solution the model just expanded generator expression into `for` loop). But still, in all cases, the model generated syntactically correct code, and the problem was more on the level of ideas."
      ]
    },
    {
      "cell_type": "markdown",
      "metadata": {},
      "source": [
        "# Commits as a source of instruction-tuning data\n",
        "\n",
        "As I mentioned above, naively using commits with their messages for instruction-tuning seems like a very noisy way to create dataset, though it avoid some problems with licensing. But at least filtering commits in a stricter way should be helpful. For example, in [Textbooks Are All You Need](https://arxiv.org/pdf/2306.11644.pdf) they train a random forest based on the annotations provided by GPT-4 (which perhaps can be replaced by manual labeling) and then select data with high educational value using this random forest. Just this step alone increases pass@1 on HumanEval for 1.3B parameter model from $17\\%$ to $29\\%$ (note that `Refact-1.6B` gets $18\\%$ according to the authors, so by simply using higher-quality data, even without instruction-tuning, they could have almost doubled this result). \n",
        "\n",
        "And when open-source models are or will become good enough, extracting synthethic synthethic exercises from them (where instruction completely describes what needs to be done) will be another huge boost for models with permissive licenses, again as shows in Textbooks Are All You Need ($29\\% \\to 51\\%$ for the same 1.3B parameter model)."
      ]
    }
  ],
  "metadata": {
    "accelerator": "GPU",
    "colab": {
      "gpuType": "T4",
      "machine_shape": "hm",
      "provenance": []
    },
    "kernelspec": {
      "display_name": "Python 3",
      "name": "python3"
    },
    "language_info": {
      "name": "python"
    }
  },
  "nbformat": 4,
  "nbformat_minor": 0
}
